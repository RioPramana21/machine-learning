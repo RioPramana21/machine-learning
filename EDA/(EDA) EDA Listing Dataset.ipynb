{
 "cells": [
  {
   "cell_type": "markdown",
   "id": "e57d7a0d",
   "metadata": {},
   "source": [
    "# 2440016804 - Rio Pramana - LA01 - Assignment 3"
   ]
  },
  {
   "cell_type": "markdown",
   "id": "7ab1d08c",
   "metadata": {},
   "source": [
    "Import libraries & read downloaded dataset from https://www.kaggle.com/jojoker/singapore-airbnb"
   ]
  },
  {
   "cell_type": "code",
   "execution_count": 1,
   "id": "be849a57",
   "metadata": {},
   "outputs": [],
   "source": [
    "import numpy as np\n",
    "import pandas as pd\n",
    "from matplotlib import pyplot as plt\n",
    "from scipy.stats import norm"
   ]
  },
  {
   "cell_type": "code",
   "execution_count": 2,
   "id": "d27df8d2",
   "metadata": {},
   "outputs": [],
   "source": [
    "# Importing the dataset, downloaded file is in the same folder\n",
    "csv_path = \"listings.csv\"\n",
    "listings_df = pd.read_csv(csv_path)"
   ]
  },
  {
   "cell_type": "markdown",
   "id": "113a3c88",
   "metadata": {},
   "source": [
    "Checking the dataset"
   ]
  },
  {
   "cell_type": "code",
   "execution_count": 3,
   "id": "afcaead3",
   "metadata": {},
   "outputs": [
    {
     "data": {
      "text/plain": [
       "(7907, 16)"
      ]
     },
     "execution_count": 3,
     "metadata": {},
     "output_type": "execute_result"
    }
   ],
   "source": [
    "listings_df.shape"
   ]
  },
  {
   "cell_type": "code",
   "execution_count": 4,
   "id": "42d9862e",
   "metadata": {},
   "outputs": [
    {
     "data": {
      "text/html": [
       "<div>\n",
       "<style scoped>\n",
       "    .dataframe tbody tr th:only-of-type {\n",
       "        vertical-align: middle;\n",
       "    }\n",
       "\n",
       "    .dataframe tbody tr th {\n",
       "        vertical-align: top;\n",
       "    }\n",
       "\n",
       "    .dataframe thead th {\n",
       "        text-align: right;\n",
       "    }\n",
       "</style>\n",
       "<table border=\"1\" class=\"dataframe\">\n",
       "  <thead>\n",
       "    <tr style=\"text-align: right;\">\n",
       "      <th></th>\n",
       "      <th>id</th>\n",
       "      <th>name</th>\n",
       "      <th>host_id</th>\n",
       "      <th>host_name</th>\n",
       "      <th>neighbourhood_group</th>\n",
       "      <th>neighbourhood</th>\n",
       "      <th>latitude</th>\n",
       "      <th>longitude</th>\n",
       "      <th>room_type</th>\n",
       "      <th>price</th>\n",
       "      <th>minimum_nights</th>\n",
       "      <th>number_of_reviews</th>\n",
       "      <th>last_review</th>\n",
       "      <th>reviews_per_month</th>\n",
       "      <th>calculated_host_listings_count</th>\n",
       "      <th>availability_365</th>\n",
       "    </tr>\n",
       "  </thead>\n",
       "  <tbody>\n",
       "    <tr>\n",
       "      <th>0</th>\n",
       "      <td>49091</td>\n",
       "      <td>COZICOMFORT LONG TERM STAY ROOM 2</td>\n",
       "      <td>266763</td>\n",
       "      <td>Francesca</td>\n",
       "      <td>North Region</td>\n",
       "      <td>Woodlands</td>\n",
       "      <td>1.44255</td>\n",
       "      <td>103.79580</td>\n",
       "      <td>Private room</td>\n",
       "      <td>83</td>\n",
       "      <td>180</td>\n",
       "      <td>1</td>\n",
       "      <td>2013-10-21</td>\n",
       "      <td>0.01</td>\n",
       "      <td>2</td>\n",
       "      <td>365</td>\n",
       "    </tr>\n",
       "    <tr>\n",
       "      <th>1</th>\n",
       "      <td>50646</td>\n",
       "      <td>Pleasant Room along Bukit Timah</td>\n",
       "      <td>227796</td>\n",
       "      <td>Sujatha</td>\n",
       "      <td>Central Region</td>\n",
       "      <td>Bukit Timah</td>\n",
       "      <td>1.33235</td>\n",
       "      <td>103.78521</td>\n",
       "      <td>Private room</td>\n",
       "      <td>81</td>\n",
       "      <td>90</td>\n",
       "      <td>18</td>\n",
       "      <td>2014-12-26</td>\n",
       "      <td>0.28</td>\n",
       "      <td>1</td>\n",
       "      <td>365</td>\n",
       "    </tr>\n",
       "    <tr>\n",
       "      <th>2</th>\n",
       "      <td>56334</td>\n",
       "      <td>COZICOMFORT</td>\n",
       "      <td>266763</td>\n",
       "      <td>Francesca</td>\n",
       "      <td>North Region</td>\n",
       "      <td>Woodlands</td>\n",
       "      <td>1.44246</td>\n",
       "      <td>103.79667</td>\n",
       "      <td>Private room</td>\n",
       "      <td>69</td>\n",
       "      <td>6</td>\n",
       "      <td>20</td>\n",
       "      <td>2015-10-01</td>\n",
       "      <td>0.20</td>\n",
       "      <td>2</td>\n",
       "      <td>365</td>\n",
       "    </tr>\n",
       "    <tr>\n",
       "      <th>3</th>\n",
       "      <td>71609</td>\n",
       "      <td>Ensuite Room (Room 1 &amp; 2) near EXPO</td>\n",
       "      <td>367042</td>\n",
       "      <td>Belinda</td>\n",
       "      <td>East Region</td>\n",
       "      <td>Tampines</td>\n",
       "      <td>1.34541</td>\n",
       "      <td>103.95712</td>\n",
       "      <td>Private room</td>\n",
       "      <td>206</td>\n",
       "      <td>1</td>\n",
       "      <td>14</td>\n",
       "      <td>2019-08-11</td>\n",
       "      <td>0.15</td>\n",
       "      <td>9</td>\n",
       "      <td>353</td>\n",
       "    </tr>\n",
       "    <tr>\n",
       "      <th>4</th>\n",
       "      <td>71896</td>\n",
       "      <td>B&amp;B  Room 1 near Airport &amp; EXPO</td>\n",
       "      <td>367042</td>\n",
       "      <td>Belinda</td>\n",
       "      <td>East Region</td>\n",
       "      <td>Tampines</td>\n",
       "      <td>1.34567</td>\n",
       "      <td>103.95963</td>\n",
       "      <td>Private room</td>\n",
       "      <td>94</td>\n",
       "      <td>1</td>\n",
       "      <td>22</td>\n",
       "      <td>2019-07-28</td>\n",
       "      <td>0.22</td>\n",
       "      <td>9</td>\n",
       "      <td>355</td>\n",
       "    </tr>\n",
       "  </tbody>\n",
       "</table>\n",
       "</div>"
      ],
      "text/plain": [
       "      id                                 name  host_id  host_name  \\\n",
       "0  49091    COZICOMFORT LONG TERM STAY ROOM 2   266763  Francesca   \n",
       "1  50646      Pleasant Room along Bukit Timah   227796    Sujatha   \n",
       "2  56334                          COZICOMFORT   266763  Francesca   \n",
       "3  71609  Ensuite Room (Room 1 & 2) near EXPO   367042    Belinda   \n",
       "4  71896      B&B  Room 1 near Airport & EXPO   367042    Belinda   \n",
       "\n",
       "  neighbourhood_group neighbourhood  latitude  longitude     room_type  price  \\\n",
       "0        North Region     Woodlands   1.44255  103.79580  Private room     83   \n",
       "1      Central Region   Bukit Timah   1.33235  103.78521  Private room     81   \n",
       "2        North Region     Woodlands   1.44246  103.79667  Private room     69   \n",
       "3         East Region      Tampines   1.34541  103.95712  Private room    206   \n",
       "4         East Region      Tampines   1.34567  103.95963  Private room     94   \n",
       "\n",
       "   minimum_nights  number_of_reviews last_review  reviews_per_month  \\\n",
       "0             180                  1  2013-10-21               0.01   \n",
       "1              90                 18  2014-12-26               0.28   \n",
       "2               6                 20  2015-10-01               0.20   \n",
       "3               1                 14  2019-08-11               0.15   \n",
       "4               1                 22  2019-07-28               0.22   \n",
       "\n",
       "   calculated_host_listings_count  availability_365  \n",
       "0                               2               365  \n",
       "1                               1               365  \n",
       "2                               2               365  \n",
       "3                               9               353  \n",
       "4                               9               355  "
      ]
     },
     "execution_count": 4,
     "metadata": {},
     "output_type": "execute_result"
    }
   ],
   "source": [
    "listings_df.head(5)"
   ]
  },
  {
   "cell_type": "code",
   "execution_count": 5,
   "id": "86cf59fe",
   "metadata": {},
   "outputs": [
    {
     "name": "stdout",
     "output_type": "stream",
     "text": [
      "<class 'pandas.core.frame.DataFrame'>\n",
      "RangeIndex: 7907 entries, 0 to 7906\n",
      "Data columns (total 16 columns):\n",
      " #   Column                          Non-Null Count  Dtype  \n",
      "---  ------                          --------------  -----  \n",
      " 0   id                              7907 non-null   int64  \n",
      " 1   name                            7905 non-null   object \n",
      " 2   host_id                         7907 non-null   int64  \n",
      " 3   host_name                       7907 non-null   object \n",
      " 4   neighbourhood_group             7907 non-null   object \n",
      " 5   neighbourhood                   7907 non-null   object \n",
      " 6   latitude                        7907 non-null   float64\n",
      " 7   longitude                       7907 non-null   float64\n",
      " 8   room_type                       7907 non-null   object \n",
      " 9   price                           7907 non-null   int64  \n",
      " 10  minimum_nights                  7907 non-null   int64  \n",
      " 11  number_of_reviews               7907 non-null   int64  \n",
      " 12  last_review                     5149 non-null   object \n",
      " 13  reviews_per_month               5149 non-null   float64\n",
      " 14  calculated_host_listings_count  7907 non-null   int64  \n",
      " 15  availability_365                7907 non-null   int64  \n",
      "dtypes: float64(3), int64(7), object(6)\n",
      "memory usage: 988.5+ KB\n"
     ]
    }
   ],
   "source": [
    "listings_new = listings_df.copy()\n",
    "listings_new.info()"
   ]
  },
  {
   "cell_type": "markdown",
   "id": "4e5f0779",
   "metadata": {},
   "source": [
    "## 1. Extracting discrete and continuous random variables from Singapore Airbnb Data"
   ]
  },
  {
   "cell_type": "code",
   "execution_count": 6,
   "id": "c10ef575",
   "metadata": {},
   "outputs": [
    {
     "data": {
      "text/html": [
       "<div>\n",
       "<style scoped>\n",
       "    .dataframe tbody tr th:only-of-type {\n",
       "        vertical-align: middle;\n",
       "    }\n",
       "\n",
       "    .dataframe tbody tr th {\n",
       "        vertical-align: top;\n",
       "    }\n",
       "\n",
       "    .dataframe thead th {\n",
       "        text-align: right;\n",
       "    }\n",
       "</style>\n",
       "<table border=\"1\" class=\"dataframe\">\n",
       "  <thead>\n",
       "    <tr style=\"text-align: right;\">\n",
       "      <th></th>\n",
       "      <th>id</th>\n",
       "      <th>name</th>\n",
       "      <th>host_id</th>\n",
       "      <th>host_name</th>\n",
       "      <th>neighbourhood_group</th>\n",
       "      <th>neighbourhood</th>\n",
       "      <th>latitude</th>\n",
       "      <th>longitude</th>\n",
       "      <th>room_type</th>\n",
       "      <th>price</th>\n",
       "      <th>minimum_nights</th>\n",
       "      <th>number_of_reviews</th>\n",
       "      <th>last_review</th>\n",
       "      <th>reviews_per_month</th>\n",
       "      <th>calculated_host_listings_count</th>\n",
       "      <th>availability_365</th>\n",
       "    </tr>\n",
       "  </thead>\n",
       "  <tbody>\n",
       "    <tr>\n",
       "      <th>0</th>\n",
       "      <td>49091</td>\n",
       "      <td>COZICOMFORT LONG TERM STAY ROOM 2</td>\n",
       "      <td>266763</td>\n",
       "      <td>Francesca</td>\n",
       "      <td>North Region</td>\n",
       "      <td>Woodlands</td>\n",
       "      <td>1.44255</td>\n",
       "      <td>103.79580</td>\n",
       "      <td>Private room</td>\n",
       "      <td>83</td>\n",
       "      <td>180</td>\n",
       "      <td>1</td>\n",
       "      <td>2013-10-21</td>\n",
       "      <td>0.01</td>\n",
       "      <td>2</td>\n",
       "      <td>365</td>\n",
       "    </tr>\n",
       "    <tr>\n",
       "      <th>1</th>\n",
       "      <td>50646</td>\n",
       "      <td>Pleasant Room along Bukit Timah</td>\n",
       "      <td>227796</td>\n",
       "      <td>Sujatha</td>\n",
       "      <td>Central Region</td>\n",
       "      <td>Bukit Timah</td>\n",
       "      <td>1.33235</td>\n",
       "      <td>103.78521</td>\n",
       "      <td>Private room</td>\n",
       "      <td>81</td>\n",
       "      <td>90</td>\n",
       "      <td>18</td>\n",
       "      <td>2014-12-26</td>\n",
       "      <td>0.28</td>\n",
       "      <td>1</td>\n",
       "      <td>365</td>\n",
       "    </tr>\n",
       "    <tr>\n",
       "      <th>2</th>\n",
       "      <td>56334</td>\n",
       "      <td>COZICOMFORT</td>\n",
       "      <td>266763</td>\n",
       "      <td>Francesca</td>\n",
       "      <td>North Region</td>\n",
       "      <td>Woodlands</td>\n",
       "      <td>1.44246</td>\n",
       "      <td>103.79667</td>\n",
       "      <td>Private room</td>\n",
       "      <td>69</td>\n",
       "      <td>6</td>\n",
       "      <td>20</td>\n",
       "      <td>2015-10-01</td>\n",
       "      <td>0.20</td>\n",
       "      <td>2</td>\n",
       "      <td>365</td>\n",
       "    </tr>\n",
       "    <tr>\n",
       "      <th>3</th>\n",
       "      <td>71609</td>\n",
       "      <td>Ensuite Room (Room 1 &amp; 2) near EXPO</td>\n",
       "      <td>367042</td>\n",
       "      <td>Belinda</td>\n",
       "      <td>East Region</td>\n",
       "      <td>Tampines</td>\n",
       "      <td>1.34541</td>\n",
       "      <td>103.95712</td>\n",
       "      <td>Private room</td>\n",
       "      <td>206</td>\n",
       "      <td>1</td>\n",
       "      <td>14</td>\n",
       "      <td>2019-08-11</td>\n",
       "      <td>0.15</td>\n",
       "      <td>9</td>\n",
       "      <td>353</td>\n",
       "    </tr>\n",
       "    <tr>\n",
       "      <th>4</th>\n",
       "      <td>71896</td>\n",
       "      <td>B&amp;B  Room 1 near Airport &amp; EXPO</td>\n",
       "      <td>367042</td>\n",
       "      <td>Belinda</td>\n",
       "      <td>East Region</td>\n",
       "      <td>Tampines</td>\n",
       "      <td>1.34567</td>\n",
       "      <td>103.95963</td>\n",
       "      <td>Private room</td>\n",
       "      <td>94</td>\n",
       "      <td>1</td>\n",
       "      <td>22</td>\n",
       "      <td>2019-07-28</td>\n",
       "      <td>0.22</td>\n",
       "      <td>9</td>\n",
       "      <td>355</td>\n",
       "    </tr>\n",
       "  </tbody>\n",
       "</table>\n",
       "</div>"
      ],
      "text/plain": [
       "      id                                 name  host_id  host_name  \\\n",
       "0  49091    COZICOMFORT LONG TERM STAY ROOM 2   266763  Francesca   \n",
       "1  50646      Pleasant Room along Bukit Timah   227796    Sujatha   \n",
       "2  56334                          COZICOMFORT   266763  Francesca   \n",
       "3  71609  Ensuite Room (Room 1 & 2) near EXPO   367042    Belinda   \n",
       "4  71896      B&B  Room 1 near Airport & EXPO   367042    Belinda   \n",
       "\n",
       "  neighbourhood_group neighbourhood  latitude  longitude     room_type  price  \\\n",
       "0        North Region     Woodlands   1.44255  103.79580  Private room     83   \n",
       "1      Central Region   Bukit Timah   1.33235  103.78521  Private room     81   \n",
       "2        North Region     Woodlands   1.44246  103.79667  Private room     69   \n",
       "3         East Region      Tampines   1.34541  103.95712  Private room    206   \n",
       "4         East Region      Tampines   1.34567  103.95963  Private room     94   \n",
       "\n",
       "   minimum_nights  number_of_reviews last_review  reviews_per_month  \\\n",
       "0             180                  1  2013-10-21               0.01   \n",
       "1              90                 18  2014-12-26               0.28   \n",
       "2               6                 20  2015-10-01               0.20   \n",
       "3               1                 14  2019-08-11               0.15   \n",
       "4               1                 22  2019-07-28               0.22   \n",
       "\n",
       "   calculated_host_listings_count  availability_365  \n",
       "0                               2               365  \n",
       "1                               1               365  \n",
       "2                               2               365  \n",
       "3                               9               353  \n",
       "4                               9               355  "
      ]
     },
     "execution_count": 6,
     "metadata": {},
     "output_type": "execute_result"
    }
   ],
   "source": [
    "listings_new.head(5)"
   ]
  },
  {
   "cell_type": "markdown",
   "id": "e1ed0db5",
   "metadata": {},
   "source": [
    "Menurut saya, yang termasuk discrete random variables adalah:\n",
    "1. price (Walaupun biasanya price dianggap continuous, dalam dataset ini price berisi data integer saja sehingga bisa dianggap discrete)\n",
    "2. minimum_nights\n",
    "3. number_of_reviews\n",
    "4. calculated_host_listings_count\n",
    "5. availability_365"
   ]
  },
  {
   "cell_type": "markdown",
   "id": "259b46b5",
   "metadata": {},
   "source": [
    "#### Extracting discrete random variables:"
   ]
  },
  {
   "cell_type": "code",
   "execution_count": 7,
   "id": "5afd592d",
   "metadata": {},
   "outputs": [
    {
     "data": {
      "text/html": [
       "<div>\n",
       "<style scoped>\n",
       "    .dataframe tbody tr th:only-of-type {\n",
       "        vertical-align: middle;\n",
       "    }\n",
       "\n",
       "    .dataframe tbody tr th {\n",
       "        vertical-align: top;\n",
       "    }\n",
       "\n",
       "    .dataframe thead th {\n",
       "        text-align: right;\n",
       "    }\n",
       "</style>\n",
       "<table border=\"1\" class=\"dataframe\">\n",
       "  <thead>\n",
       "    <tr style=\"text-align: right;\">\n",
       "      <th></th>\n",
       "      <th>price</th>\n",
       "      <th>minimum_nights</th>\n",
       "      <th>number_of_reviews</th>\n",
       "      <th>calculated_host_listings_count</th>\n",
       "      <th>availability_365</th>\n",
       "    </tr>\n",
       "  </thead>\n",
       "  <tbody>\n",
       "    <tr>\n",
       "      <th>0</th>\n",
       "      <td>83</td>\n",
       "      <td>180</td>\n",
       "      <td>1</td>\n",
       "      <td>2</td>\n",
       "      <td>365</td>\n",
       "    </tr>\n",
       "    <tr>\n",
       "      <th>1</th>\n",
       "      <td>81</td>\n",
       "      <td>90</td>\n",
       "      <td>18</td>\n",
       "      <td>1</td>\n",
       "      <td>365</td>\n",
       "    </tr>\n",
       "    <tr>\n",
       "      <th>2</th>\n",
       "      <td>69</td>\n",
       "      <td>6</td>\n",
       "      <td>20</td>\n",
       "      <td>2</td>\n",
       "      <td>365</td>\n",
       "    </tr>\n",
       "    <tr>\n",
       "      <th>3</th>\n",
       "      <td>206</td>\n",
       "      <td>1</td>\n",
       "      <td>14</td>\n",
       "      <td>9</td>\n",
       "      <td>353</td>\n",
       "    </tr>\n",
       "    <tr>\n",
       "      <th>4</th>\n",
       "      <td>94</td>\n",
       "      <td>1</td>\n",
       "      <td>22</td>\n",
       "      <td>9</td>\n",
       "      <td>355</td>\n",
       "    </tr>\n",
       "    <tr>\n",
       "      <th>...</th>\n",
       "      <td>...</td>\n",
       "      <td>...</td>\n",
       "      <td>...</td>\n",
       "      <td>...</td>\n",
       "      <td>...</td>\n",
       "    </tr>\n",
       "    <tr>\n",
       "      <th>7902</th>\n",
       "      <td>100</td>\n",
       "      <td>3</td>\n",
       "      <td>0</td>\n",
       "      <td>31</td>\n",
       "      <td>61</td>\n",
       "    </tr>\n",
       "    <tr>\n",
       "      <th>7903</th>\n",
       "      <td>550</td>\n",
       "      <td>6</td>\n",
       "      <td>0</td>\n",
       "      <td>34</td>\n",
       "      <td>365</td>\n",
       "    </tr>\n",
       "    <tr>\n",
       "      <th>7904</th>\n",
       "      <td>58</td>\n",
       "      <td>30</td>\n",
       "      <td>0</td>\n",
       "      <td>3</td>\n",
       "      <td>173</td>\n",
       "    </tr>\n",
       "    <tr>\n",
       "      <th>7905</th>\n",
       "      <td>56</td>\n",
       "      <td>14</td>\n",
       "      <td>0</td>\n",
       "      <td>2</td>\n",
       "      <td>30</td>\n",
       "    </tr>\n",
       "    <tr>\n",
       "      <th>7906</th>\n",
       "      <td>65</td>\n",
       "      <td>90</td>\n",
       "      <td>0</td>\n",
       "      <td>7</td>\n",
       "      <td>365</td>\n",
       "    </tr>\n",
       "  </tbody>\n",
       "</table>\n",
       "<p>7907 rows × 5 columns</p>\n",
       "</div>"
      ],
      "text/plain": [
       "      price  minimum_nights  number_of_reviews  \\\n",
       "0        83             180                  1   \n",
       "1        81              90                 18   \n",
       "2        69               6                 20   \n",
       "3       206               1                 14   \n",
       "4        94               1                 22   \n",
       "...     ...             ...                ...   \n",
       "7902    100               3                  0   \n",
       "7903    550               6                  0   \n",
       "7904     58              30                  0   \n",
       "7905     56              14                  0   \n",
       "7906     65              90                  0   \n",
       "\n",
       "      calculated_host_listings_count  availability_365  \n",
       "0                                  2               365  \n",
       "1                                  1               365  \n",
       "2                                  2               365  \n",
       "3                                  9               353  \n",
       "4                                  9               355  \n",
       "...                              ...               ...  \n",
       "7902                              31                61  \n",
       "7903                              34               365  \n",
       "7904                               3               173  \n",
       "7905                               2                30  \n",
       "7906                               7               365  \n",
       "\n",
       "[7907 rows x 5 columns]"
      ]
     },
     "execution_count": 7,
     "metadata": {},
     "output_type": "execute_result"
    }
   ],
   "source": [
    "discrete = listings_df[[\"price\",\"minimum_nights\",\"number_of_reviews\", \"calculated_host_listings_count\", \"availability_365\"]]\n",
    "discrete"
   ]
  },
  {
   "cell_type": "markdown",
   "id": "7b4ae8a2",
   "metadata": {},
   "source": [
    "Menurut saya, yang termasuk continuous random variables adalah:\n",
    "1. latitude\n",
    "2. longitude\n",
    "3. reviews_per_month"
   ]
  },
  {
   "cell_type": "markdown",
   "id": "4b812c9c",
   "metadata": {},
   "source": [
    "#### Extracting continuous random variables:"
   ]
  },
  {
   "cell_type": "code",
   "execution_count": 8,
   "id": "cb42a2b4",
   "metadata": {},
   "outputs": [
    {
     "data": {
      "text/html": [
       "<div>\n",
       "<style scoped>\n",
       "    .dataframe tbody tr th:only-of-type {\n",
       "        vertical-align: middle;\n",
       "    }\n",
       "\n",
       "    .dataframe tbody tr th {\n",
       "        vertical-align: top;\n",
       "    }\n",
       "\n",
       "    .dataframe thead th {\n",
       "        text-align: right;\n",
       "    }\n",
       "</style>\n",
       "<table border=\"1\" class=\"dataframe\">\n",
       "  <thead>\n",
       "    <tr style=\"text-align: right;\">\n",
       "      <th></th>\n",
       "      <th>latitude</th>\n",
       "      <th>longitude</th>\n",
       "      <th>reviews_per_month</th>\n",
       "    </tr>\n",
       "  </thead>\n",
       "  <tbody>\n",
       "    <tr>\n",
       "      <th>0</th>\n",
       "      <td>1.44255</td>\n",
       "      <td>103.79580</td>\n",
       "      <td>0.01</td>\n",
       "    </tr>\n",
       "    <tr>\n",
       "      <th>1</th>\n",
       "      <td>1.33235</td>\n",
       "      <td>103.78521</td>\n",
       "      <td>0.28</td>\n",
       "    </tr>\n",
       "    <tr>\n",
       "      <th>2</th>\n",
       "      <td>1.44246</td>\n",
       "      <td>103.79667</td>\n",
       "      <td>0.20</td>\n",
       "    </tr>\n",
       "    <tr>\n",
       "      <th>3</th>\n",
       "      <td>1.34541</td>\n",
       "      <td>103.95712</td>\n",
       "      <td>0.15</td>\n",
       "    </tr>\n",
       "    <tr>\n",
       "      <th>4</th>\n",
       "      <td>1.34567</td>\n",
       "      <td>103.95963</td>\n",
       "      <td>0.22</td>\n",
       "    </tr>\n",
       "    <tr>\n",
       "      <th>...</th>\n",
       "      <td>...</td>\n",
       "      <td>...</td>\n",
       "      <td>...</td>\n",
       "    </tr>\n",
       "    <tr>\n",
       "      <th>7902</th>\n",
       "      <td>1.27973</td>\n",
       "      <td>103.78751</td>\n",
       "      <td>NaN</td>\n",
       "    </tr>\n",
       "    <tr>\n",
       "      <th>7903</th>\n",
       "      <td>1.29269</td>\n",
       "      <td>103.82623</td>\n",
       "      <td>NaN</td>\n",
       "    </tr>\n",
       "    <tr>\n",
       "      <th>7904</th>\n",
       "      <td>1.31286</td>\n",
       "      <td>103.85996</td>\n",
       "      <td>NaN</td>\n",
       "    </tr>\n",
       "    <tr>\n",
       "      <th>7905</th>\n",
       "      <td>1.29543</td>\n",
       "      <td>103.83801</td>\n",
       "      <td>NaN</td>\n",
       "    </tr>\n",
       "    <tr>\n",
       "      <th>7906</th>\n",
       "      <td>1.29672</td>\n",
       "      <td>103.83325</td>\n",
       "      <td>NaN</td>\n",
       "    </tr>\n",
       "  </tbody>\n",
       "</table>\n",
       "<p>7907 rows × 3 columns</p>\n",
       "</div>"
      ],
      "text/plain": [
       "      latitude  longitude  reviews_per_month\n",
       "0      1.44255  103.79580               0.01\n",
       "1      1.33235  103.78521               0.28\n",
       "2      1.44246  103.79667               0.20\n",
       "3      1.34541  103.95712               0.15\n",
       "4      1.34567  103.95963               0.22\n",
       "...        ...        ...                ...\n",
       "7902   1.27973  103.78751                NaN\n",
       "7903   1.29269  103.82623                NaN\n",
       "7904   1.31286  103.85996                NaN\n",
       "7905   1.29543  103.83801                NaN\n",
       "7906   1.29672  103.83325                NaN\n",
       "\n",
       "[7907 rows x 3 columns]"
      ]
     },
     "execution_count": 8,
     "metadata": {},
     "output_type": "execute_result"
    }
   ],
   "source": [
    "continu = listings_df[[\"latitude\",\"longitude\",\"reviews_per_month\"]]\n",
    "continu"
   ]
  },
  {
   "cell_type": "markdown",
   "id": "c8c94ef1",
   "metadata": {},
   "source": [
    "## 2. Calculated PMF (probability mass function) for discrete random variables (only 1 variable)"
   ]
  },
  {
   "cell_type": "markdown",
   "id": "2291e7b6",
   "metadata": {},
   "source": [
    "Selected variable = availability_365"
   ]
  },
  {
   "cell_type": "code",
   "execution_count": 9,
   "id": "d9eedfb7",
   "metadata": {},
   "outputs": [
    {
     "data": {
      "text/plain": [
       "array([365, 365, 365, ..., 173,  30, 365], dtype=int64)"
      ]
     },
     "execution_count": 9,
     "metadata": {},
     "output_type": "execute_result"
    }
   ],
   "source": [
    "pmf_sample = discrete.availability_365.values\n",
    "pmf_sample"
   ]
  },
  {
   "cell_type": "code",
   "execution_count": 10,
   "id": "cfa9e4d4",
   "metadata": {},
   "outputs": [],
   "source": [
    "# Menggunakan data yang sudah ada pada dataset\n",
    "val, cnt = np.unique(pmf_sample, return_counts=True)\n",
    "prop = cnt / len(pmf_sample)"
   ]
  },
  {
   "cell_type": "markdown",
   "id": "63f095e8",
   "metadata": {},
   "source": [
    "# 3. Plot Histogram/Bar for No.2 Result"
   ]
  },
  {
   "cell_type": "code",
   "execution_count": 11,
   "id": "29716d62",
   "metadata": {},
   "outputs": [
    {
     "data": {
      "image/png": "[encoded data removed]",
      "text/plain": [
       "<Figure size 432x288 with 1 Axes>"
      ]
     },
     "metadata": {
      "needs_background": "light"
     },
     "output_type": "display_data"
    }
   ],
   "source": [
    "# plot the results\n",
    "plt.bar(val, prop)\n",
    "plt.ylabel(\"Probability\")\n",
    "plt.xlabel(\"Availability_365\")\n",
    "plt.show()"
   ]
  },
  {
   "cell_type": "markdown",
   "id": "cfc22fe2",
   "metadata": {},
   "source": [
    "## 4. Calculated PDF (probability density function) for Continuous random variables (only 1 variable)"
   ]
  },
  {
   "cell_type": "markdown",
   "id": "13359e35",
   "metadata": {},
   "source": [
    "Selected variable = reviews_per_month"
   ]
  },
  {
   "cell_type": "code",
   "execution_count": 12,
   "id": "f21098ef",
   "metadata": {},
   "outputs": [
    {
     "data": {
      "text/plain": [
       "0       0.01\n",
       "1       0.28\n",
       "2       0.20\n",
       "3       0.15\n",
       "4       0.22\n",
       "        ... \n",
       "7902     NaN\n",
       "7903     NaN\n",
       "7904     NaN\n",
       "7905     NaN\n",
       "7906     NaN\n",
       "Name: reviews_per_month, Length: 7907, dtype: float64"
      ]
     },
     "execution_count": 12,
     "metadata": {},
     "output_type": "execute_result"
    }
   ],
   "source": [
    "pdf_sample = continu.reviews_per_month\n",
    "pdf_sample"
   ]
  },
  {
   "cell_type": "code",
   "execution_count": 13,
   "id": "a75ebee1",
   "metadata": {},
   "outputs": [
    {
     "data": {
      "text/plain": [
       "0.01"
      ]
     },
     "execution_count": 13,
     "metadata": {},
     "output_type": "execute_result"
    }
   ],
   "source": [
    "pdf_sample.min()"
   ]
  },
  {
   "cell_type": "code",
   "execution_count": 14,
   "id": "d9859672",
   "metadata": {},
   "outputs": [
    {
     "data": {
      "text/plain": [
       "13.0"
      ]
     },
     "execution_count": 14,
     "metadata": {},
     "output_type": "execute_result"
    }
   ],
   "source": [
    "pdf_sample.max()"
   ]
  },
  {
   "cell_type": "code",
   "execution_count": 15,
   "id": "31efd4ee",
   "metadata": {},
   "outputs": [
    {
     "name": "stdout",
     "output_type": "stream",
     "text": [
      "Mean=1.044, Standard Deviation=1.286\n"
     ]
    }
   ],
   "source": [
    "from numpy import mean\n",
    "from numpy import std\n",
    "# calculate parameters\n",
    "pdf_sample_mean = mean(pdf_sample)\n",
    "pdf_sample_std = std(pdf_sample)\n",
    "print('Mean=%.3f, Standard Deviation=%.3f' % (pdf_sample_mean, pdf_sample_std))"
   ]
  },
  {
   "cell_type": "code",
   "execution_count": 16,
   "id": "57a6f619",
   "metadata": {},
   "outputs": [],
   "source": [
    "# define the distribution\n",
    "dist = norm(pdf_sample_mean, pdf_sample_std)"
   ]
  },
  {
   "cell_type": "code",
   "execution_count": 17,
   "id": "3edd09b4",
   "metadata": {},
   "outputs": [],
   "source": [
    "# sample probabilities for a range of outcomes\n",
    "values = [value for value in range(0, 14)]\n",
    "probabilities = [dist.pdf(value) for value in values]"
   ]
  },
  {
   "cell_type": "markdown",
   "id": "7ae07f65",
   "metadata": {},
   "source": [
    "## 5. Plot Histogram for No.4 Result"
   ]
  },
  {
   "cell_type": "code",
   "execution_count": 18,
   "id": "a5b12da0",
   "metadata": {
    "scrolled": true
   },
   "outputs": [
    {
     "data": {
      "image/png": "[encoded data removed]",
      "text/plain": [
       "<Figure size 432x288 with 1 Axes>"
      ]
     },
     "metadata": {
      "needs_background": "light"
     },
     "output_type": "display_data"
    }
   ],
   "source": [
    "# plot the histogram and pdf\n",
    "plt.hist(pdf_sample, bins=10, density=True)\n",
    "plt.plot(values, probabilities)\n",
    "plt.show()"
   ]
  },
  {
   "cell_type": "markdown",
   "id": "5353d640",
   "metadata": {},
   "source": [
    "## Alternative solution for number 4 and 5 (By handling missing data from reviews_per_month column)"
   ]
  },
  {
   "cell_type": "markdown",
   "id": "a0422a1a",
   "metadata": {},
   "source": [
    "Untuk kolom reviews_per_month, kita menghandle missing data dengan mereplace missing data tersebut menggunakan mode dari kolom reviews_per_month karena lebih optimal jika kita menggunakan reviews_per_month yang paling sering muncul untuk menghindari kemungkinan penurunan akurasi dalam jumlah yang besar"
   ]
  },
  {
   "cell_type": "code",
   "execution_count": 19,
   "id": "551cce67",
   "metadata": {},
   "outputs": [
    {
     "data": {
      "text/plain": [
       "1.00    2930\n",
       "0.04     104\n",
       "0.08      96\n",
       "0.05      93\n",
       "0.10      92\n",
       "        ... \n",
       "4.02       1\n",
       "3.92       1\n",
       "3.52       1\n",
       "3.57       1\n",
       "8.00       1\n",
       "Name: reviews_per_month, Length: 527, dtype: int64"
      ]
     },
     "execution_count": 19,
     "metadata": {},
     "output_type": "execute_result"
    }
   ],
   "source": [
    "clean_pdf_sample = pdf_sample.copy()\n",
    "clean_pdf_sample.fillna(clean_pdf_sample.mode()[0], inplace = True)\n",
    "clean_pdf_sample.value_counts()"
   ]
  },
  {
   "cell_type": "code",
   "execution_count": 20,
   "id": "1a20aac3",
   "metadata": {},
   "outputs": [
    {
     "data": {
      "text/plain": [
       "0"
      ]
     },
     "execution_count": 20,
     "metadata": {},
     "output_type": "execute_result"
    }
   ],
   "source": [
    "clean_pdf_sample.isnull().sum()"
   ]
  },
  {
   "cell_type": "code",
   "execution_count": 21,
   "id": "545e7473",
   "metadata": {},
   "outputs": [
    {
     "name": "stdout",
     "output_type": "stream",
     "text": [
      "Mean=1.028, Standard Deviation=1.038\n"
     ]
    }
   ],
   "source": [
    "# calculate parameters\n",
    "clean_pdf_sample_mean = mean(clean_pdf_sample)\n",
    "clean_pdf_sample_std = std(clean_pdf_sample)\n",
    "print('Mean=%.3f, Standard Deviation=%.3f' % (clean_pdf_sample_mean, clean_pdf_sample_std))"
   ]
  },
  {
   "cell_type": "code",
   "execution_count": 22,
   "id": "0dfe713c",
   "metadata": {},
   "outputs": [],
   "source": [
    "# define the distribution\n",
    "clean_dist = norm(clean_pdf_sample_mean, clean_pdf_sample_std)"
   ]
  },
  {
   "cell_type": "code",
   "execution_count": 23,
   "id": "20c096e8",
   "metadata": {},
   "outputs": [],
   "source": [
    "# sample probabilities for a range of outcomes\n",
    "clean_values = [value for value in range(0, 14)]\n",
    "clean_probabilities = [clean_dist.pdf(value) for value in clean_values]"
   ]
  },
  {
   "cell_type": "code",
   "execution_count": 24,
   "id": "3395f0db",
   "metadata": {},
   "outputs": [
    {
     "data": {
      "image/png": "[encoded data removed]",
      "text/plain": [
       "<Figure size 432x288 with 1 Axes>"
      ]
     },
     "metadata": {
      "needs_background": "light"
     },
     "output_type": "display_data"
    }
   ],
   "source": [
    "# plot the histogram and pdf\n",
    "plt.hist(clean_pdf_sample, bins=10, density=True)\n",
    "plt.plot(clean_values, clean_probabilities)\n",
    "plt.show()"
   ]
  }
 ],
 "metadata": {
  "kernelspec": {
   "display_name": "Python 3 (ipykernel)",
   "language": "python",
   "name": "python3"
  },
  "language_info": {
   "codemirror_mode": {
    "name": "ipython",
    "version": 3
   },
   "file_extension": ".py",
   "mimetype": "text/x-python",
   "name": "python",
   "nbconvert_exporter": "python",
   "pygments_lexer": "ipython3",
   "version": "3.9.7"
  }
 },
 "nbformat": 4,
 "nbformat_minor": 5
}
