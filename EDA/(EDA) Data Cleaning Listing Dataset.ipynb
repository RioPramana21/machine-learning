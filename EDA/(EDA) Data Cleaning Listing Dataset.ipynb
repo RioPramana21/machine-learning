{
 "cells": [
  {
   "cell_type": "markdown",
   "id": "45c2fca1",
   "metadata": {},
   "source": [
    "# 2440016804 - Rio Pramana - LA01 - Assignment 2"
   ]
  },
  {
   "cell_type": "markdown",
   "id": "14c30d2d",
   "metadata": {},
   "source": [
    "Import libraries & read downloaded dataset from https://www.kaggle.com/jojoker/singapore-airbnb"
   ]
  },
  {
   "cell_type": "code",
   "execution_count": 1,
   "id": "77d04eb1",
   "metadata": {},
   "outputs": [],
   "source": [
    "import numpy as np\n",
    "import pandas as pd"
   ]
  },
  {
   "cell_type": "code",
   "execution_count": 2,
   "id": "84e3fcee",
   "metadata": {},
   "outputs": [],
   "source": [
    "# Importing the dataset, downloaded file is in the same folder\n",
    "csv_path = \"listings.csv\"\n",
    "listings_df = pd.read_csv(csv_path)"
   ]
  },
  {
   "cell_type": "markdown",
   "id": "784768d9",
   "metadata": {},
   "source": [
    "Checking the dataset"
   ]
  },
  {
   "cell_type": "code",
   "execution_count": 3,
   "id": "ec7a583b",
   "metadata": {},
   "outputs": [
    {
     "data": {
      "text/plain": [
       "(7907, 16)"
      ]
     },
     "execution_count": 3,
     "metadata": {},
     "output_type": "execute_result"
    }
   ],
   "source": [
    "listings_df.shape"
   ]
  },
  {
   "cell_type": "code",
   "execution_count": 4,
   "id": "1a8e66a1",
   "metadata": {},
   "outputs": [
    {
     "data": {
      "text/html": [
       "<div>\n",
       "<style scoped>\n",
       "    .dataframe tbody tr th:only-of-type {\n",
       "        vertical-align: middle;\n",
       "    }\n",
       "\n",
       "    .dataframe tbody tr th {\n",
       "        vertical-align: top;\n",
       "    }\n",
       "\n",
       "    .dataframe thead th {\n",
       "        text-align: right;\n",
       "    }\n",
       "</style>\n",
       "<table border=\"1\" class=\"dataframe\">\n",
       "  <thead>\n",
       "    <tr style=\"text-align: right;\">\n",
       "      <th></th>\n",
       "      <th>id</th>\n",
       "      <th>name</th>\n",
       "      <th>host_id</th>\n",
       "      <th>host_name</th>\n",
       "      <th>neighbourhood_group</th>\n",
       "      <th>neighbourhood</th>\n",
       "      <th>latitude</th>\n",
       "      <th>longitude</th>\n",
       "      <th>room_type</th>\n",
       "      <th>price</th>\n",
       "      <th>minimum_nights</th>\n",
       "      <th>number_of_reviews</th>\n",
       "      <th>last_review</th>\n",
       "      <th>reviews_per_month</th>\n",
       "      <th>calculated_host_listings_count</th>\n",
       "      <th>availability_365</th>\n",
       "    </tr>\n",
       "  </thead>\n",
       "  <tbody>\n",
       "    <tr>\n",
       "      <th>0</th>\n",
       "      <td>49091</td>\n",
       "      <td>COZICOMFORT LONG TERM STAY ROOM 2</td>\n",
       "      <td>266763</td>\n",
       "      <td>Francesca</td>\n",
       "      <td>North Region</td>\n",
       "      <td>Woodlands</td>\n",
       "      <td>1.44255</td>\n",
       "      <td>103.79580</td>\n",
       "      <td>Private room</td>\n",
       "      <td>83</td>\n",
       "      <td>180</td>\n",
       "      <td>1</td>\n",
       "      <td>2013-10-21</td>\n",
       "      <td>0.01</td>\n",
       "      <td>2</td>\n",
       "      <td>365</td>\n",
       "    </tr>\n",
       "    <tr>\n",
       "      <th>1</th>\n",
       "      <td>50646</td>\n",
       "      <td>Pleasant Room along Bukit Timah</td>\n",
       "      <td>227796</td>\n",
       "      <td>Sujatha</td>\n",
       "      <td>Central Region</td>\n",
       "      <td>Bukit Timah</td>\n",
       "      <td>1.33235</td>\n",
       "      <td>103.78521</td>\n",
       "      <td>Private room</td>\n",
       "      <td>81</td>\n",
       "      <td>90</td>\n",
       "      <td>18</td>\n",
       "      <td>2014-12-26</td>\n",
       "      <td>0.28</td>\n",
       "      <td>1</td>\n",
       "      <td>365</td>\n",
       "    </tr>\n",
       "    <tr>\n",
       "      <th>2</th>\n",
       "      <td>56334</td>\n",
       "      <td>COZICOMFORT</td>\n",
       "      <td>266763</td>\n",
       "      <td>Francesca</td>\n",
       "      <td>North Region</td>\n",
       "      <td>Woodlands</td>\n",
       "      <td>1.44246</td>\n",
       "      <td>103.79667</td>\n",
       "      <td>Private room</td>\n",
       "      <td>69</td>\n",
       "      <td>6</td>\n",
       "      <td>20</td>\n",
       "      <td>2015-10-01</td>\n",
       "      <td>0.20</td>\n",
       "      <td>2</td>\n",
       "      <td>365</td>\n",
       "    </tr>\n",
       "    <tr>\n",
       "      <th>3</th>\n",
       "      <td>71609</td>\n",
       "      <td>Ensuite Room (Room 1 &amp; 2) near EXPO</td>\n",
       "      <td>367042</td>\n",
       "      <td>Belinda</td>\n",
       "      <td>East Region</td>\n",
       "      <td>Tampines</td>\n",
       "      <td>1.34541</td>\n",
       "      <td>103.95712</td>\n",
       "      <td>Private room</td>\n",
       "      <td>206</td>\n",
       "      <td>1</td>\n",
       "      <td>14</td>\n",
       "      <td>2019-08-11</td>\n",
       "      <td>0.15</td>\n",
       "      <td>9</td>\n",
       "      <td>353</td>\n",
       "    </tr>\n",
       "    <tr>\n",
       "      <th>4</th>\n",
       "      <td>71896</td>\n",
       "      <td>B&amp;B  Room 1 near Airport &amp; EXPO</td>\n",
       "      <td>367042</td>\n",
       "      <td>Belinda</td>\n",
       "      <td>East Region</td>\n",
       "      <td>Tampines</td>\n",
       "      <td>1.34567</td>\n",
       "      <td>103.95963</td>\n",
       "      <td>Private room</td>\n",
       "      <td>94</td>\n",
       "      <td>1</td>\n",
       "      <td>22</td>\n",
       "      <td>2019-07-28</td>\n",
       "      <td>0.22</td>\n",
       "      <td>9</td>\n",
       "      <td>355</td>\n",
       "    </tr>\n",
       "  </tbody>\n",
       "</table>\n",
       "</div>"
      ],
      "text/plain": [
       "      id                                 name  host_id  host_name  \\\n",
       "0  49091    COZICOMFORT LONG TERM STAY ROOM 2   266763  Francesca   \n",
       "1  50646      Pleasant Room along Bukit Timah   227796    Sujatha   \n",
       "2  56334                          COZICOMFORT   266763  Francesca   \n",
       "3  71609  Ensuite Room (Room 1 & 2) near EXPO   367042    Belinda   \n",
       "4  71896      B&B  Room 1 near Airport & EXPO   367042    Belinda   \n",
       "\n",
       "  neighbourhood_group neighbourhood  latitude  longitude     room_type  price  \\\n",
       "0        North Region     Woodlands   1.44255  103.79580  Private room     83   \n",
       "1      Central Region   Bukit Timah   1.33235  103.78521  Private room     81   \n",
       "2        North Region     Woodlands   1.44246  103.79667  Private room     69   \n",
       "3         East Region      Tampines   1.34541  103.95712  Private room    206   \n",
       "4         East Region      Tampines   1.34567  103.95963  Private room     94   \n",
       "\n",
       "   minimum_nights  number_of_reviews last_review  reviews_per_month  \\\n",
       "0             180                  1  2013-10-21               0.01   \n",
       "1              90                 18  2014-12-26               0.28   \n",
       "2               6                 20  2015-10-01               0.20   \n",
       "3               1                 14  2019-08-11               0.15   \n",
       "4               1                 22  2019-07-28               0.22   \n",
       "\n",
       "   calculated_host_listings_count  availability_365  \n",
       "0                               2               365  \n",
       "1                               1               365  \n",
       "2                               2               365  \n",
       "3                               9               353  \n",
       "4                               9               355  "
      ]
     },
     "execution_count": 4,
     "metadata": {},
     "output_type": "execute_result"
    }
   ],
   "source": [
    "listings_df.head(5)"
   ]
  },
  {
   "cell_type": "code",
   "execution_count": 5,
   "id": "7be06d3c",
   "metadata": {},
   "outputs": [
    {
     "name": "stdout",
     "output_type": "stream",
     "text": [
      "<class 'pandas.core.frame.DataFrame'>\n",
      "RangeIndex: 7907 entries, 0 to 7906\n",
      "Data columns (total 16 columns):\n",
      " #   Column                          Non-Null Count  Dtype  \n",
      "---  ------                          --------------  -----  \n",
      " 0   id                              7907 non-null   int64  \n",
      " 1   name                            7905 non-null   object \n",
      " 2   host_id                         7907 non-null   int64  \n",
      " 3   host_name                       7907 non-null   object \n",
      " 4   neighbourhood_group             7907 non-null   object \n",
      " 5   neighbourhood                   7907 non-null   object \n",
      " 6   latitude                        7907 non-null   float64\n",
      " 7   longitude                       7907 non-null   float64\n",
      " 8   room_type                       7907 non-null   object \n",
      " 9   price                           7907 non-null   int64  \n",
      " 10  minimum_nights                  7907 non-null   int64  \n",
      " 11  number_of_reviews               7907 non-null   int64  \n",
      " 12  last_review                     5149 non-null   object \n",
      " 13  reviews_per_month               5149 non-null   float64\n",
      " 14  calculated_host_listings_count  7907 non-null   int64  \n",
      " 15  availability_365                7907 non-null   int64  \n",
      "dtypes: float64(3), int64(7), object(6)\n",
      "memory usage: 988.5+ KB\n"
     ]
    }
   ],
   "source": [
    "listings_df.info()"
   ]
  },
  {
   "cell_type": "markdown",
   "id": "e8af211a",
   "metadata": {},
   "source": [
    "## 1. Extracting independent variables and dependent variables"
   ]
  },
  {
   "cell_type": "markdown",
   "id": "990cc998",
   "metadata": {},
   "source": [
    "Berdasarkan deskripsi dataset dan deskripsi setiap kolom dataset pada https://docs.google.com/spreadsheets/d/1iWCNJcSutYqpULSQHlNyGInUvHg2BoUGoNRIGa6Szc4/edit#gid=982310896 (Data Dictionary dari source dataset), yang merupakan __dependent variable__ adalah __price__, 14 kolom lainnya adalah __independent variables__"
   ]
  },
  {
   "cell_type": "markdown",
   "id": "2ce7478d",
   "metadata": {},
   "source": [
    "Untuk memudahkan extraction, kolom price yang berada di tengah-tengah dataset akan dipindahkan ke bagian paling akhir"
   ]
  },
  {
   "cell_type": "code",
   "execution_count": 6,
   "id": "58965caa",
   "metadata": {},
   "outputs": [
    {
     "data": {
      "text/html": [
       "<div>\n",
       "<style scoped>\n",
       "    .dataframe tbody tr th:only-of-type {\n",
       "        vertical-align: middle;\n",
       "    }\n",
       "\n",
       "    .dataframe tbody tr th {\n",
       "        vertical-align: top;\n",
       "    }\n",
       "\n",
       "    .dataframe thead th {\n",
       "        text-align: right;\n",
       "    }\n",
       "</style>\n",
       "<table border=\"1\" class=\"dataframe\">\n",
       "  <thead>\n",
       "    <tr style=\"text-align: right;\">\n",
       "      <th></th>\n",
       "      <th>id</th>\n",
       "      <th>name</th>\n",
       "      <th>host_id</th>\n",
       "      <th>host_name</th>\n",
       "      <th>neighbourhood_group</th>\n",
       "      <th>neighbourhood</th>\n",
       "      <th>latitude</th>\n",
       "      <th>longitude</th>\n",
       "      <th>room_type</th>\n",
       "      <th>minimum_nights</th>\n",
       "      <th>number_of_reviews</th>\n",
       "      <th>last_review</th>\n",
       "      <th>reviews_per_month</th>\n",
       "      <th>calculated_host_listings_count</th>\n",
       "      <th>availability_365</th>\n",
       "      <th>price</th>\n",
       "    </tr>\n",
       "  </thead>\n",
       "  <tbody>\n",
       "    <tr>\n",
       "      <th>0</th>\n",
       "      <td>49091</td>\n",
       "      <td>COZICOMFORT LONG TERM STAY ROOM 2</td>\n",
       "      <td>266763</td>\n",
       "      <td>Francesca</td>\n",
       "      <td>North Region</td>\n",
       "      <td>Woodlands</td>\n",
       "      <td>1.44255</td>\n",
       "      <td>103.79580</td>\n",
       "      <td>Private room</td>\n",
       "      <td>180</td>\n",
       "      <td>1</td>\n",
       "      <td>2013-10-21</td>\n",
       "      <td>0.01</td>\n",
       "      <td>2</td>\n",
       "      <td>365</td>\n",
       "      <td>83</td>\n",
       "    </tr>\n",
       "    <tr>\n",
       "      <th>1</th>\n",
       "      <td>50646</td>\n",
       "      <td>Pleasant Room along Bukit Timah</td>\n",
       "      <td>227796</td>\n",
       "      <td>Sujatha</td>\n",
       "      <td>Central Region</td>\n",
       "      <td>Bukit Timah</td>\n",
       "      <td>1.33235</td>\n",
       "      <td>103.78521</td>\n",
       "      <td>Private room</td>\n",
       "      <td>90</td>\n",
       "      <td>18</td>\n",
       "      <td>2014-12-26</td>\n",
       "      <td>0.28</td>\n",
       "      <td>1</td>\n",
       "      <td>365</td>\n",
       "      <td>81</td>\n",
       "    </tr>\n",
       "    <tr>\n",
       "      <th>2</th>\n",
       "      <td>56334</td>\n",
       "      <td>COZICOMFORT</td>\n",
       "      <td>266763</td>\n",
       "      <td>Francesca</td>\n",
       "      <td>North Region</td>\n",
       "      <td>Woodlands</td>\n",
       "      <td>1.44246</td>\n",
       "      <td>103.79667</td>\n",
       "      <td>Private room</td>\n",
       "      <td>6</td>\n",
       "      <td>20</td>\n",
       "      <td>2015-10-01</td>\n",
       "      <td>0.20</td>\n",
       "      <td>2</td>\n",
       "      <td>365</td>\n",
       "      <td>69</td>\n",
       "    </tr>\n",
       "    <tr>\n",
       "      <th>3</th>\n",
       "      <td>71609</td>\n",
       "      <td>Ensuite Room (Room 1 &amp; 2) near EXPO</td>\n",
       "      <td>367042</td>\n",
       "      <td>Belinda</td>\n",
       "      <td>East Region</td>\n",
       "      <td>Tampines</td>\n",
       "      <td>1.34541</td>\n",
       "      <td>103.95712</td>\n",
       "      <td>Private room</td>\n",
       "      <td>1</td>\n",
       "      <td>14</td>\n",
       "      <td>2019-08-11</td>\n",
       "      <td>0.15</td>\n",
       "      <td>9</td>\n",
       "      <td>353</td>\n",
       "      <td>206</td>\n",
       "    </tr>\n",
       "    <tr>\n",
       "      <th>4</th>\n",
       "      <td>71896</td>\n",
       "      <td>B&amp;B  Room 1 near Airport &amp; EXPO</td>\n",
       "      <td>367042</td>\n",
       "      <td>Belinda</td>\n",
       "      <td>East Region</td>\n",
       "      <td>Tampines</td>\n",
       "      <td>1.34567</td>\n",
       "      <td>103.95963</td>\n",
       "      <td>Private room</td>\n",
       "      <td>1</td>\n",
       "      <td>22</td>\n",
       "      <td>2019-07-28</td>\n",
       "      <td>0.22</td>\n",
       "      <td>9</td>\n",
       "      <td>355</td>\n",
       "      <td>94</td>\n",
       "    </tr>\n",
       "  </tbody>\n",
       "</table>\n",
       "</div>"
      ],
      "text/plain": [
       "      id                                 name  host_id  host_name  \\\n",
       "0  49091    COZICOMFORT LONG TERM STAY ROOM 2   266763  Francesca   \n",
       "1  50646      Pleasant Room along Bukit Timah   227796    Sujatha   \n",
       "2  56334                          COZICOMFORT   266763  Francesca   \n",
       "3  71609  Ensuite Room (Room 1 & 2) near EXPO   367042    Belinda   \n",
       "4  71896      B&B  Room 1 near Airport & EXPO   367042    Belinda   \n",
       "\n",
       "  neighbourhood_group neighbourhood  latitude  longitude     room_type  \\\n",
       "0        North Region     Woodlands   1.44255  103.79580  Private room   \n",
       "1      Central Region   Bukit Timah   1.33235  103.78521  Private room   \n",
       "2        North Region     Woodlands   1.44246  103.79667  Private room   \n",
       "3         East Region      Tampines   1.34541  103.95712  Private room   \n",
       "4         East Region      Tampines   1.34567  103.95963  Private room   \n",
       "\n",
       "   minimum_nights  number_of_reviews last_review  reviews_per_month  \\\n",
       "0             180                  1  2013-10-21               0.01   \n",
       "1              90                 18  2014-12-26               0.28   \n",
       "2               6                 20  2015-10-01               0.20   \n",
       "3               1                 14  2019-08-11               0.15   \n",
       "4               1                 22  2019-07-28               0.22   \n",
       "\n",
       "   calculated_host_listings_count  availability_365  price  \n",
       "0                               2               365     83  \n",
       "1                               1               365     81  \n",
       "2                               2               365     69  \n",
       "3                               9               353    206  \n",
       "4                               9               355     94  "
      ]
     },
     "execution_count": 6,
     "metadata": {},
     "output_type": "execute_result"
    }
   ],
   "source": [
    "listings_new = listings_df.copy()\n",
    "cols_at_end = ['price']\n",
    "listings_new = listings_new[[c for c in listings_new if c not in cols_at_end] \n",
    "        + [c for c in cols_at_end if c in listings_new]]\n",
    "listings_new.head(5)"
   ]
  },
  {
   "cell_type": "markdown",
   "id": "062e37b0",
   "metadata": {},
   "source": [
    "#### Extracting Independent Variables"
   ]
  },
  {
   "cell_type": "code",
   "execution_count": 7,
   "id": "c0df9033",
   "metadata": {},
   "outputs": [
    {
     "name": "stdout",
     "output_type": "stream",
     "text": [
      "[[49091 'COZICOMFORT LONG TERM STAY ROOM 2' 266763 ... 0.01 2 365]\n",
      " [50646 'Pleasant Room along Bukit Timah' 227796 ... 0.28 1 365]\n",
      " [56334 'COZICOMFORT' 266763 ... 0.2 2 365]\n",
      " ...\n",
      " [38109336 '[ Farrer Park ] New City Fringe CBD Mins to MRT' 281448565\n",
      "  ... nan 3 173]\n",
      " [38110493 'Cheap Master Room in Central of Singapore' 243835202 ... nan\n",
      "  2 30]\n",
      " [38112762 'Amazing room with private bathroom walk to Orchard' 28788520\n",
      "  ... nan 7 365]]\n"
     ]
    }
   ],
   "source": [
    "#Extracting independent variables:\n",
    "x = listings_new.iloc[:,:-1].values #Extract semua kolom kecuali kolom terakhir\n",
    "print(x)"
   ]
  },
  {
   "cell_type": "markdown",
   "id": "2ccb9c68",
   "metadata": {},
   "source": [
    "#### Extracting Dependent Variable"
   ]
  },
  {
   "cell_type": "code",
   "execution_count": 8,
   "id": "cf1a56f7",
   "metadata": {},
   "outputs": [
    {
     "name": "stdout",
     "output_type": "stream",
     "text": [
      "[83 81 69 ... 58 56 65]\n"
     ]
    }
   ],
   "source": [
    "#Extracting dependent variable:\n",
    "y = listings_new.iloc[:,15].values #Extract kolom terakhir\n",
    "print(y)"
   ]
  },
  {
   "cell_type": "markdown",
   "id": "3ac6b641",
   "metadata": {},
   "source": [
    "## 2. handling missing data (Replacing missing data with the mean value)"
   ]
  },
  {
   "cell_type": "markdown",
   "id": "22c686c3",
   "metadata": {},
   "source": [
    "Check which column(s) has missing data"
   ]
  },
  {
   "cell_type": "code",
   "execution_count": 9,
   "id": "fe32830a",
   "metadata": {},
   "outputs": [
    {
     "data": {
      "text/plain": [
       "id                                   0\n",
       "name                                 2\n",
       "host_id                              0\n",
       "host_name                            0\n",
       "neighbourhood_group                  0\n",
       "neighbourhood                        0\n",
       "latitude                             0\n",
       "longitude                            0\n",
       "room_type                            0\n",
       "minimum_nights                       0\n",
       "number_of_reviews                    0\n",
       "last_review                       2758\n",
       "reviews_per_month                 2758\n",
       "calculated_host_listings_count       0\n",
       "availability_365                     0\n",
       "price                                0\n",
       "dtype: int64"
      ]
     },
     "execution_count": 9,
     "metadata": {},
     "output_type": "execute_result"
    }
   ],
   "source": [
    "listings_new.isnull().sum()"
   ]
  },
  {
   "cell_type": "code",
   "execution_count": 10,
   "id": "a3e3eddb",
   "metadata": {},
   "outputs": [
    {
     "data": {
      "text/html": [
       "<div>\n",
       "<style scoped>\n",
       "    .dataframe tbody tr th:only-of-type {\n",
       "        vertical-align: middle;\n",
       "    }\n",
       "\n",
       "    .dataframe tbody tr th {\n",
       "        vertical-align: top;\n",
       "    }\n",
       "\n",
       "    .dataframe thead th {\n",
       "        text-align: right;\n",
       "    }\n",
       "</style>\n",
       "<table border=\"1\" class=\"dataframe\">\n",
       "  <thead>\n",
       "    <tr style=\"text-align: right;\">\n",
       "      <th></th>\n",
       "      <th>id</th>\n",
       "      <th>name</th>\n",
       "      <th>host_id</th>\n",
       "      <th>host_name</th>\n",
       "      <th>neighbourhood_group</th>\n",
       "      <th>neighbourhood</th>\n",
       "      <th>latitude</th>\n",
       "      <th>longitude</th>\n",
       "      <th>room_type</th>\n",
       "      <th>minimum_nights</th>\n",
       "      <th>number_of_reviews</th>\n",
       "      <th>last_review</th>\n",
       "      <th>reviews_per_month</th>\n",
       "      <th>calculated_host_listings_count</th>\n",
       "      <th>availability_365</th>\n",
       "      <th>price</th>\n",
       "    </tr>\n",
       "  </thead>\n",
       "  <tbody>\n",
       "    <tr>\n",
       "      <th>0</th>\n",
       "      <td>49091</td>\n",
       "      <td>COZICOMFORT LONG TERM STAY ROOM 2</td>\n",
       "      <td>266763</td>\n",
       "      <td>Francesca</td>\n",
       "      <td>North Region</td>\n",
       "      <td>Woodlands</td>\n",
       "      <td>1.44255</td>\n",
       "      <td>103.79580</td>\n",
       "      <td>Private room</td>\n",
       "      <td>180</td>\n",
       "      <td>1</td>\n",
       "      <td>2013-10-21</td>\n",
       "      <td>0.01</td>\n",
       "      <td>2</td>\n",
       "      <td>365</td>\n",
       "      <td>83</td>\n",
       "    </tr>\n",
       "    <tr>\n",
       "      <th>1</th>\n",
       "      <td>50646</td>\n",
       "      <td>Pleasant Room along Bukit Timah</td>\n",
       "      <td>227796</td>\n",
       "      <td>Sujatha</td>\n",
       "      <td>Central Region</td>\n",
       "      <td>Bukit Timah</td>\n",
       "      <td>1.33235</td>\n",
       "      <td>103.78521</td>\n",
       "      <td>Private room</td>\n",
       "      <td>90</td>\n",
       "      <td>18</td>\n",
       "      <td>2014-12-26</td>\n",
       "      <td>0.28</td>\n",
       "      <td>1</td>\n",
       "      <td>365</td>\n",
       "      <td>81</td>\n",
       "    </tr>\n",
       "    <tr>\n",
       "      <th>2</th>\n",
       "      <td>56334</td>\n",
       "      <td>COZICOMFORT</td>\n",
       "      <td>266763</td>\n",
       "      <td>Francesca</td>\n",
       "      <td>North Region</td>\n",
       "      <td>Woodlands</td>\n",
       "      <td>1.44246</td>\n",
       "      <td>103.79667</td>\n",
       "      <td>Private room</td>\n",
       "      <td>6</td>\n",
       "      <td>20</td>\n",
       "      <td>2015-10-01</td>\n",
       "      <td>0.20</td>\n",
       "      <td>2</td>\n",
       "      <td>365</td>\n",
       "      <td>69</td>\n",
       "    </tr>\n",
       "    <tr>\n",
       "      <th>3</th>\n",
       "      <td>71609</td>\n",
       "      <td>Ensuite Room (Room 1 &amp; 2) near EXPO</td>\n",
       "      <td>367042</td>\n",
       "      <td>Belinda</td>\n",
       "      <td>East Region</td>\n",
       "      <td>Tampines</td>\n",
       "      <td>1.34541</td>\n",
       "      <td>103.95712</td>\n",
       "      <td>Private room</td>\n",
       "      <td>1</td>\n",
       "      <td>14</td>\n",
       "      <td>2019-08-11</td>\n",
       "      <td>0.15</td>\n",
       "      <td>9</td>\n",
       "      <td>353</td>\n",
       "      <td>206</td>\n",
       "    </tr>\n",
       "    <tr>\n",
       "      <th>4</th>\n",
       "      <td>71896</td>\n",
       "      <td>B&amp;B  Room 1 near Airport &amp; EXPO</td>\n",
       "      <td>367042</td>\n",
       "      <td>Belinda</td>\n",
       "      <td>East Region</td>\n",
       "      <td>Tampines</td>\n",
       "      <td>1.34567</td>\n",
       "      <td>103.95963</td>\n",
       "      <td>Private room</td>\n",
       "      <td>1</td>\n",
       "      <td>22</td>\n",
       "      <td>2019-07-28</td>\n",
       "      <td>0.22</td>\n",
       "      <td>9</td>\n",
       "      <td>355</td>\n",
       "      <td>94</td>\n",
       "    </tr>\n",
       "  </tbody>\n",
       "</table>\n",
       "</div>"
      ],
      "text/plain": [
       "      id                                 name  host_id  host_name  \\\n",
       "0  49091    COZICOMFORT LONG TERM STAY ROOM 2   266763  Francesca   \n",
       "1  50646      Pleasant Room along Bukit Timah   227796    Sujatha   \n",
       "2  56334                          COZICOMFORT   266763  Francesca   \n",
       "3  71609  Ensuite Room (Room 1 & 2) near EXPO   367042    Belinda   \n",
       "4  71896      B&B  Room 1 near Airport & EXPO   367042    Belinda   \n",
       "\n",
       "  neighbourhood_group neighbourhood  latitude  longitude     room_type  \\\n",
       "0        North Region     Woodlands   1.44255  103.79580  Private room   \n",
       "1      Central Region   Bukit Timah   1.33235  103.78521  Private room   \n",
       "2        North Region     Woodlands   1.44246  103.79667  Private room   \n",
       "3         East Region      Tampines   1.34541  103.95712  Private room   \n",
       "4         East Region      Tampines   1.34567  103.95963  Private room   \n",
       "\n",
       "   minimum_nights  number_of_reviews last_review  reviews_per_month  \\\n",
       "0             180                  1  2013-10-21               0.01   \n",
       "1              90                 18  2014-12-26               0.28   \n",
       "2               6                 20  2015-10-01               0.20   \n",
       "3               1                 14  2019-08-11               0.15   \n",
       "4               1                 22  2019-07-28               0.22   \n",
       "\n",
       "   calculated_host_listings_count  availability_365  price  \n",
       "0                               2               365     83  \n",
       "1                               1               365     81  \n",
       "2                               2               365     69  \n",
       "3                               9               353    206  \n",
       "4                               9               355     94  "
      ]
     },
     "execution_count": 10,
     "metadata": {},
     "output_type": "execute_result"
    }
   ],
   "source": [
    "listings_new.head(5)"
   ]
  },
  {
   "cell_type": "markdown",
   "id": "e2184997",
   "metadata": {},
   "source": [
    "Pada dataset, terdapat 3 kolom yang memiliki missing data, yaitu kolom __name__, __neighbourhood_group__, dan __room_type__."
   ]
  },
  {
   "cell_type": "markdown",
   "id": "36befcda",
   "metadata": {},
   "source": [
    "#### Handle missing data on 'name' column"
   ]
  },
  {
   "cell_type": "markdown",
   "id": "8131f1d9",
   "metadata": {},
   "source": [
    "Untuk kolom name, kita menghandle missing data dengan mereplace missing data tersebut menggunakan mode dari kolom name karena kolom name berisi categorical data"
   ]
  },
  {
   "cell_type": "code",
   "execution_count": 11,
   "id": "be3a5226",
   "metadata": {},
   "outputs": [
    {
     "data": {
      "text/plain": [
       "Luxury hostel with in-cabin locker - Single mixed     13\n",
       "Studio Apartment - Oakwood Premier                     9\n",
       "Inviting & Cozy 1BR APT 3 mins from Tg Pagar MRT       9\n",
       "Stylish 1BR Located 7 mins from Tg Pagar MRT           8\n",
       "City-located 1BR loft apartment *BRAND NEW*            8\n",
       "                                                      ..\n",
       "Boonlay 16sqm Cosy Master Room for Rent                1\n",
       "Tanjong Pagar Pristine Studio Apartment                1\n",
       "lavLoftbed *RmT, no-sharing, wifi, mrt                 1\n",
       "Newly furnished spacious room                          1\n",
       "Amazing room with private bathroom walk to Orchard     1\n",
       "Name: name, Length: 7457, dtype: int64"
      ]
     },
     "execution_count": 11,
     "metadata": {},
     "output_type": "execute_result"
    }
   ],
   "source": [
    "listings_new.name.value_counts()"
   ]
  },
  {
   "cell_type": "code",
   "execution_count": 12,
   "id": "c67e1e90",
   "metadata": {},
   "outputs": [
    {
     "data": {
      "text/plain": [
       "0    Luxury hostel with in-cabin locker - Single mixed\n",
       "dtype: object"
      ]
     },
     "execution_count": 12,
     "metadata": {},
     "output_type": "execute_result"
    }
   ],
   "source": [
    "listings_new.name.mode()"
   ]
  },
  {
   "cell_type": "markdown",
   "id": "2f2c50b1",
   "metadata": {},
   "source": [
    "Mode dari kolom name adalah 'Luxury hostel with in-cabin locker - Single mixed', maka missing value pada kolom ini akan direplace dengan value tersebut. Untuk mengaksesnya, menggunakan [0] dibelakang mode"
   ]
  },
  {
   "cell_type": "code",
   "execution_count": 13,
   "id": "f8599cac",
   "metadata": {},
   "outputs": [
    {
     "data": {
      "text/plain": [
       "'Luxury hostel with in-cabin locker - Single mixed'"
      ]
     },
     "execution_count": 13,
     "metadata": {},
     "output_type": "execute_result"
    }
   ],
   "source": [
    "listings_new.name.mode()[0]"
   ]
  },
  {
   "cell_type": "code",
   "execution_count": 14,
   "id": "3abb6cbb",
   "metadata": {},
   "outputs": [],
   "source": [
    "listings_new['name'].fillna(listings_new['name'].mode()[0], inplace = True)"
   ]
  },
  {
   "cell_type": "markdown",
   "id": "b7a10626",
   "metadata": {},
   "source": [
    "Mengecek apakah kolom name yang valuenya missing sudah diganti dengan modenya:"
   ]
  },
  {
   "cell_type": "code",
   "execution_count": 15,
   "id": "17125861",
   "metadata": {},
   "outputs": [
    {
     "data": {
      "text/plain": [
       "Luxury hostel with in-cabin locker - Single mixed     15\n",
       "Inviting & Cozy 1BR APT 3 mins from Tg Pagar MRT       9\n",
       "Studio Apartment - Oakwood Premier                     9\n",
       "Superhost 1BR APT in the heart of Tg Pagar             8\n",
       "Stylish 1BR Located 7 mins from Tg Pagar MRT           8\n",
       "                                                      ..\n",
       "Boonlay 16sqm Cosy Master Room for Rent                1\n",
       "Tanjong Pagar Pristine Studio Apartment                1\n",
       "lavLoftbed *RmT, no-sharing, wifi, mrt                 1\n",
       "Newly furnished spacious room                          1\n",
       "Amazing room with private bathroom walk to Orchard     1\n",
       "Name: name, Length: 7457, dtype: int64"
      ]
     },
     "execution_count": 15,
     "metadata": {},
     "output_type": "execute_result"
    }
   ],
   "source": [
    "listings_new.name.value_counts()"
   ]
  },
  {
   "cell_type": "markdown",
   "id": "ca761206",
   "metadata": {},
   "source": [
    "Mengecek apakah masih ada missing value pada kolom name:"
   ]
  },
  {
   "cell_type": "code",
   "execution_count": 16,
   "id": "537e6b10",
   "metadata": {},
   "outputs": [
    {
     "data": {
      "text/plain": [
       "id                                   0\n",
       "name                                 0\n",
       "host_id                              0\n",
       "host_name                            0\n",
       "neighbourhood_group                  0\n",
       "neighbourhood                        0\n",
       "latitude                             0\n",
       "longitude                            0\n",
       "room_type                            0\n",
       "minimum_nights                       0\n",
       "number_of_reviews                    0\n",
       "last_review                       2758\n",
       "reviews_per_month                 2758\n",
       "calculated_host_listings_count       0\n",
       "availability_365                     0\n",
       "price                                0\n",
       "dtype: int64"
      ]
     },
     "execution_count": 16,
     "metadata": {},
     "output_type": "execute_result"
    }
   ],
   "source": [
    "listings_new.isnull().sum()"
   ]
  },
  {
   "cell_type": "markdown",
   "id": "11d848dc",
   "metadata": {},
   "source": [
    "Kolom name sudah tidak ada missing value lagi dan direplace dengan value modenya"
   ]
  },
  {
   "cell_type": "markdown",
   "id": "41766e48",
   "metadata": {},
   "source": [
    "#### Handle missing data on 'last_review' column"
   ]
  },
  {
   "cell_type": "markdown",
   "id": "02bec286",
   "metadata": {},
   "source": [
    "Untuk kolom last_review, kita menghandle missing data dengan mereplace missing data tersebut menggunakan mode dari kolom last_review karena kolom last_review berisi categorical data"
   ]
  },
  {
   "cell_type": "code",
   "execution_count": 17,
   "id": "c51a0a04",
   "metadata": {},
   "outputs": [
    {
     "data": {
      "text/plain": [
       "2019-08-12    152\n",
       "2019-08-11    128\n",
       "2019-08-13    110\n",
       "2019-08-10     87\n",
       "2019-08-08     78\n",
       "             ... \n",
       "2016-12-03      1\n",
       "2016-01-18      1\n",
       "2016-07-27      1\n",
       "2017-08-19      1\n",
       "2019-03-22      1\n",
       "Name: last_review, Length: 1001, dtype: int64"
      ]
     },
     "execution_count": 17,
     "metadata": {},
     "output_type": "execute_result"
    }
   ],
   "source": [
    "listings_new.last_review.value_counts()"
   ]
  },
  {
   "cell_type": "markdown",
   "id": "c1dd6fa0",
   "metadata": {},
   "source": [
    "Mode dari kolom last_review:"
   ]
  },
  {
   "cell_type": "code",
   "execution_count": 18,
   "id": "c0662ddf",
   "metadata": {},
   "outputs": [
    {
     "data": {
      "text/plain": [
       "0    2019-08-12\n",
       "dtype: object"
      ]
     },
     "execution_count": 18,
     "metadata": {},
     "output_type": "execute_result"
    }
   ],
   "source": [
    "listings_new.last_review.mode()"
   ]
  },
  {
   "cell_type": "markdown",
   "id": "7aed6bd7",
   "metadata": {},
   "source": [
    "Replace missing values:"
   ]
  },
  {
   "cell_type": "code",
   "execution_count": 19,
   "id": "cd863472",
   "metadata": {},
   "outputs": [],
   "source": [
    "listings_new['last_review'].fillna(listings_new['last_review'].mode()[0], inplace = True)"
   ]
  },
  {
   "cell_type": "markdown",
   "id": "4aa419a3",
   "metadata": {},
   "source": [
    "Mengecek apakah kolom last_review yang valuenya missing sudah diganti dengan modenya:"
   ]
  },
  {
   "cell_type": "code",
   "execution_count": 20,
   "id": "3a117002",
   "metadata": {},
   "outputs": [
    {
     "data": {
      "text/plain": [
       "2019-08-12    2910\n",
       "2019-08-11     128\n",
       "2019-08-13     110\n",
       "2019-08-10      87\n",
       "2019-08-08      78\n",
       "              ... \n",
       "2016-12-03       1\n",
       "2016-01-18       1\n",
       "2016-07-27       1\n",
       "2017-08-19       1\n",
       "2019-03-22       1\n",
       "Name: last_review, Length: 1001, dtype: int64"
      ]
     },
     "execution_count": 20,
     "metadata": {},
     "output_type": "execute_result"
    }
   ],
   "source": [
    "listings_new.last_review.value_counts()"
   ]
  },
  {
   "cell_type": "markdown",
   "id": "23d5a5fe",
   "metadata": {},
   "source": [
    "Mengecek apakah masih ada missing value pada kolom last_review:"
   ]
  },
  {
   "cell_type": "code",
   "execution_count": 21,
   "id": "88655985",
   "metadata": {},
   "outputs": [
    {
     "data": {
      "text/plain": [
       "id                                   0\n",
       "name                                 0\n",
       "host_id                              0\n",
       "host_name                            0\n",
       "neighbourhood_group                  0\n",
       "neighbourhood                        0\n",
       "latitude                             0\n",
       "longitude                            0\n",
       "room_type                            0\n",
       "minimum_nights                       0\n",
       "number_of_reviews                    0\n",
       "last_review                          0\n",
       "reviews_per_month                 2758\n",
       "calculated_host_listings_count       0\n",
       "availability_365                     0\n",
       "price                                0\n",
       "dtype: int64"
      ]
     },
     "execution_count": 21,
     "metadata": {},
     "output_type": "execute_result"
    }
   ],
   "source": [
    "listings_new.isnull().sum()"
   ]
  },
  {
   "cell_type": "markdown",
   "id": "3643ecc3",
   "metadata": {},
   "source": [
    "Kolom last_review sudah tidak ada missing value lagi dan direplace dengan value modenya"
   ]
  },
  {
   "cell_type": "markdown",
   "id": "4b606de2",
   "metadata": {},
   "source": [
    "#### Handle missing data on 'reviews_per_month' column"
   ]
  },
  {
   "cell_type": "markdown",
   "id": "930bc321",
   "metadata": {},
   "source": [
    "Untuk kolom reviews_per_month, kita menghandle missing data dengan mereplace missing data tersebut menggunakan mode dari kolom reviews_per_month karena lebih optimal jika kita menggunakan reviews_per_month yang paling sering muncul untuk menghindari kemungkinan penurunan akurasi dalam jumlah yang besar"
   ]
  },
  {
   "cell_type": "code",
   "execution_count": 22,
   "id": "9259a43a",
   "metadata": {},
   "outputs": [
    {
     "data": {
      "text/plain": [
       "1.00    172\n",
       "0.04    104\n",
       "0.08     96\n",
       "0.05     93\n",
       "0.12     92\n",
       "       ... \n",
       "4.02      1\n",
       "3.92      1\n",
       "3.52      1\n",
       "3.57      1\n",
       "8.00      1\n",
       "Name: reviews_per_month, Length: 527, dtype: int64"
      ]
     },
     "execution_count": 22,
     "metadata": {},
     "output_type": "execute_result"
    }
   ],
   "source": [
    "listings_new.reviews_per_month.value_counts()"
   ]
  },
  {
   "cell_type": "markdown",
   "id": "a0aa3223",
   "metadata": {},
   "source": [
    "Mode dari kolom reviews_per_month:"
   ]
  },
  {
   "cell_type": "code",
   "execution_count": 23,
   "id": "e14b3d70",
   "metadata": {},
   "outputs": [
    {
     "data": {
      "text/plain": [
       "0    1.0\n",
       "dtype: float64"
      ]
     },
     "execution_count": 23,
     "metadata": {},
     "output_type": "execute_result"
    }
   ],
   "source": [
    "listings_new.reviews_per_month.mode()"
   ]
  },
  {
   "cell_type": "markdown",
   "id": "83e8709b",
   "metadata": {},
   "source": [
    "Replace missing values:"
   ]
  },
  {
   "cell_type": "code",
   "execution_count": 24,
   "id": "d3c4a138",
   "metadata": {},
   "outputs": [],
   "source": [
    "listings_new['reviews_per_month'].fillna(listings_new['reviews_per_month'].mode()[0], inplace = True)"
   ]
  },
  {
   "cell_type": "markdown",
   "id": "02626e05",
   "metadata": {},
   "source": [
    "Mengecek apakah kolom reviews_per_month yang valuenya missing sudah diganti dengan modenya:"
   ]
  },
  {
   "cell_type": "code",
   "execution_count": 25,
   "id": "61db99e5",
   "metadata": {},
   "outputs": [
    {
     "data": {
      "text/plain": [
       "1.00    2930\n",
       "0.04     104\n",
       "0.08      96\n",
       "0.05      93\n",
       "0.10      92\n",
       "        ... \n",
       "4.02       1\n",
       "3.92       1\n",
       "3.52       1\n",
       "3.57       1\n",
       "8.00       1\n",
       "Name: reviews_per_month, Length: 527, dtype: int64"
      ]
     },
     "execution_count": 25,
     "metadata": {},
     "output_type": "execute_result"
    }
   ],
   "source": [
    "listings_new.reviews_per_month.value_counts()"
   ]
  },
  {
   "cell_type": "markdown",
   "id": "5549da88",
   "metadata": {},
   "source": [
    "Mengecek apakah masih ada missing value pada kolom reviews_per_month:"
   ]
  },
  {
   "cell_type": "code",
   "execution_count": 26,
   "id": "54d258e2",
   "metadata": {},
   "outputs": [
    {
     "data": {
      "text/plain": [
       "id                                0\n",
       "name                              0\n",
       "host_id                           0\n",
       "host_name                         0\n",
       "neighbourhood_group               0\n",
       "neighbourhood                     0\n",
       "latitude                          0\n",
       "longitude                         0\n",
       "room_type                         0\n",
       "minimum_nights                    0\n",
       "number_of_reviews                 0\n",
       "last_review                       0\n",
       "reviews_per_month                 0\n",
       "calculated_host_listings_count    0\n",
       "availability_365                  0\n",
       "price                             0\n",
       "dtype: int64"
      ]
     },
     "execution_count": 26,
     "metadata": {},
     "output_type": "execute_result"
    }
   ],
   "source": [
    "listings_new.isnull().sum()"
   ]
  },
  {
   "cell_type": "markdown",
   "id": "00625a1e",
   "metadata": {},
   "source": [
    "Kolom reviews_per_month sudah tidak ada missing value lagi dan direplace dengan value modenya"
   ]
  },
  {
   "cell_type": "markdown",
   "id": "e49bd3cd",
   "metadata": {},
   "source": [
    "## 3. Encoding Categorical data for neighbourhood_group variable and room_type variable"
   ]
  },
  {
   "cell_type": "code",
   "execution_count": 27,
   "id": "9d8b4bad",
   "metadata": {},
   "outputs": [
    {
     "data": {
      "text/plain": [
       "Central Region       6309\n",
       "West Region           540\n",
       "East Region           508\n",
       "North-East Region     346\n",
       "North Region          204\n",
       "Name: neighbourhood_group, dtype: int64"
      ]
     },
     "execution_count": 27,
     "metadata": {},
     "output_type": "execute_result"
    }
   ],
   "source": [
    "listings_new.neighbourhood_group.value_counts()"
   ]
  },
  {
   "cell_type": "code",
   "execution_count": 28,
   "id": "34682411",
   "metadata": {},
   "outputs": [
    {
     "data": {
      "text/plain": [
       "Entire home/apt    4132\n",
       "Private room       3381\n",
       "Shared room         394\n",
       "Name: room_type, dtype: int64"
      ]
     },
     "execution_count": 28,
     "metadata": {},
     "output_type": "execute_result"
    }
   ],
   "source": [
    "listings_new.room_type.value_counts()"
   ]
  },
  {
   "cell_type": "markdown",
   "id": "ac65a08c",
   "metadata": {},
   "source": [
    "Pada kolom neighbourhood_group, terdapat 5 kategori yang tidak berhubungan (bukan ordinal). Pada kolom room_type, terdapat 3 kategori juga yang tidak berhubungan (bukan ordinal). Maka, kita gunakan One Hot Encoding untuk encoding data pada kedua kolom tersebut."
   ]
  },
  {
   "cell_type": "markdown",
   "id": "1a2d8c30",
   "metadata": {},
   "source": [
    "Akan digunakan OneHotEncoder dan ColumnTransformer:"
   ]
  },
  {
   "cell_type": "code",
   "execution_count": 29,
   "id": "77bc226a",
   "metadata": {},
   "outputs": [],
   "source": [
    "from sklearn.preprocessing import OneHotEncoder\n",
    "from sklearn.compose import ColumnTransformer"
   ]
  },
  {
   "cell_type": "markdown",
   "id": "ee4ef492",
   "metadata": {},
   "source": [
    "Sebelum melakukan encoding pada x, saya extract ulang variable x sehingga datanya terupdate (Menggunakan data setelah dilakukan handling missing data)"
   ]
  },
  {
   "cell_type": "code",
   "execution_count": 30,
   "id": "fbecf78f",
   "metadata": {},
   "outputs": [
    {
     "name": "stdout",
     "output_type": "stream",
     "text": [
      "[[49091 'COZICOMFORT LONG TERM STAY ROOM 2' 266763 ... 0.01 2 365]\n",
      " [50646 'Pleasant Room along Bukit Timah' 227796 ... 0.28 1 365]\n",
      " [56334 'COZICOMFORT' 266763 ... 0.2 2 365]\n",
      " ...\n",
      " [38109336 '[ Farrer Park ] New City Fringe CBD Mins to MRT' 281448565\n",
      "  ... 1.0 3 173]\n",
      " [38110493 'Cheap Master Room in Central of Singapore' 243835202 ... 1.0\n",
      "  2 30]\n",
      " [38112762 'Amazing room with private bathroom walk to Orchard' 28788520\n",
      "  ... 1.0 7 365]]\n"
     ]
    }
   ],
   "source": [
    "#Extracting independent variables:\n",
    "x = listings_new.iloc[:,:-1].values #Extract semua kolom kecuali kolom terakhir\n",
    "print(x)"
   ]
  },
  {
   "cell_type": "markdown",
   "id": "ad265161",
   "metadata": {},
   "source": [
    "Encoding:"
   ]
  },
  {
   "cell_type": "code",
   "execution_count": 31,
   "id": "54b1af56",
   "metadata": {},
   "outputs": [
    {
     "name": "stdout",
     "output_type": "stream",
     "text": [
      "[[49091 'COZICOMFORT LONG TERM STAY ROOM 2' 266763 ... 0.01 2 365]\n",
      " [50646 'Pleasant Room along Bukit Timah' 227796 ... 0.28 1 365]\n",
      " [56334 'COZICOMFORT' 266763 ... 0.2 2 365]\n",
      " ...\n",
      " [38109336 '[ Farrer Park ] New City Fringe CBD Mins to MRT' 281448565\n",
      "  ... 1.0 3 173]\n",
      " [38110493 'Cheap Master Room in Central of Singapore' 243835202 ... 1.0\n",
      "  2 30]\n",
      " [38112762 'Amazing room with private bathroom walk to Orchard' 28788520\n",
      "  ... 1.0 7 365]]\n"
     ]
    }
   ],
   "source": [
    "print(x)"
   ]
  },
  {
   "cell_type": "code",
   "execution_count": 32,
   "id": "5c838450",
   "metadata": {},
   "outputs": [
    {
     "name": "stdout",
     "output_type": "stream",
     "text": [
      "[[0.0 0.0 1.0 ... 0.01 2 365]\n",
      " [1.0 0.0 0.0 ... 0.28 1 365]\n",
      " [0.0 0.0 1.0 ... 0.2 2 365]\n",
      " ...\n",
      " [1.0 0.0 0.0 ... 1.0 3 173]\n",
      " [1.0 0.0 0.0 ... 1.0 2 30]\n",
      " [1.0 0.0 0.0 ... 1.0 7 365]]\n"
     ]
    }
   ],
   "source": [
    "ct = ColumnTransformer([(\"Neighbourhood Group & Room Type\", OneHotEncoder(), [4,8])], remainder = 'passthrough')\n",
    "#[4,8] menunjukkan kolom yang diencode, kolom neighbourhood_group dan room_type berada pada kolom nomor 4 dan 8\n",
    "x = ct.fit_transform(x)\n",
    "print(x)"
   ]
  },
  {
   "cell_type": "markdown",
   "id": "9b4002d8",
   "metadata": {},
   "source": [
    "## 4. Splitting the Dataset into the Training set and Test set"
   ]
  },
  {
   "cell_type": "code",
   "execution_count": 33,
   "id": "0a6920aa",
   "metadata": {},
   "outputs": [],
   "source": [
    "from sklearn.model_selection import train_test_split\n",
    "x_train, x_test, y_train, y_test= train_test_split(x, y, test_size= 0.2, random_state=0)"
   ]
  },
  {
   "cell_type": "markdown",
   "id": "546df660",
   "metadata": {},
   "source": [
    "## 5. Print x_train, x_test, y_train and y_test"
   ]
  },
  {
   "cell_type": "code",
   "execution_count": 34,
   "id": "a19a9050",
   "metadata": {},
   "outputs": [
    {
     "name": "stdout",
     "output_type": "stream",
     "text": [
      "[[1.0 0.0 0.0 ... 0.19 67 358]\n",
      " [1.0 0.0 0.0 ... 0.06 1 0]\n",
      " [1.0 0.0 0.0 ... 1.0 18 89]\n",
      " ...\n",
      " [1.0 0.0 0.0 ... 0.03 1 0]\n",
      " [0.0 0.0 0.0 ... 1.0 1 0]\n",
      " [1.0 0.0 0.0 ... 1.0 1 362]]\n"
     ]
    }
   ],
   "source": [
    "#x_train: features for the training data\n",
    "print(x_train)"
   ]
  },
  {
   "cell_type": "code",
   "execution_count": 35,
   "id": "1273cb41",
   "metadata": {},
   "outputs": [
    {
     "name": "stdout",
     "output_type": "stream",
     "text": [
      "[[1.0 0.0 0.0 ... 0.23 1 324]\n",
      " [0.0 0.0 0.0 ... 0.81 4 361]\n",
      " [1.0 0.0 0.0 ... 1.3 27 345]\n",
      " ...\n",
      " [1.0 0.0 0.0 ... 1.18 84 0]\n",
      " [1.0 0.0 0.0 ... 0.58 67 363]\n",
      " [1.0 0.0 0.0 ... 1.58 18 77]]\n"
     ]
    }
   ],
   "source": [
    "#x_test: features for testing data\n",
    "print(x_test)"
   ]
  },
  {
   "cell_type": "code",
   "execution_count": 36,
   "id": "7a468a0a",
   "metadata": {},
   "outputs": [
    {
     "name": "stdout",
     "output_type": "stream",
     "text": [
      "[100 119  99 ...  85 200 135]\n"
     ]
    }
   ],
   "source": [
    "#y_train: Dependent variables for training data\n",
    "print(y_train)"
   ]
  },
  {
   "cell_type": "code",
   "execution_count": 37,
   "id": "f245f6f5",
   "metadata": {},
   "outputs": [
    {
     "name": "stdout",
     "output_type": "stream",
     "text": [
      "[131  62  83 ...  82 150  99]\n"
     ]
    }
   ],
   "source": [
    "#y_test: Independent variable for testing data\n",
    "print(y_test)"
   ]
  }
 ],
 "metadata": {
  "kernelspec": {
   "display_name": "Python 3 (ipykernel)",
   "language": "python",
   "name": "python3"
  },
  "language_info": {
   "codemirror_mode": {
    "name": "ipython",
    "version": 3
   },
   "file_extension": ".py",
   "mimetype": "text/x-python",
   "name": "python",
   "nbconvert_exporter": "python",
   "pygments_lexer": "ipython3",
   "version": "3.9.7"
  }
 },
 "nbformat": 4,
 "nbformat_minor": 5
}
