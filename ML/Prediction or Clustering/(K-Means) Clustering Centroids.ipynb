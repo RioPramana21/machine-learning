{
 "cells": [
  {
   "cell_type": "markdown",
   "id": "d9ec337b",
   "metadata": {},
   "source": [
    "# 2440016804 - Rio Pramana - LA01 - Final Exam - Nomor 2"
   ]
  },
  {
   "cell_type": "markdown",
   "id": "803bb9f9",
   "metadata": {},
   "source": [
    "#### Import libraries and dataset"
   ]
  },
  {
   "cell_type": "code",
   "execution_count": 1,
   "id": "39fa783b",
   "metadata": {},
   "outputs": [],
   "source": [
    "import pandas as pd\n",
    "import numpy as np\n",
    "import matplotlib.pyplot as plt"
   ]
  },
  {
   "cell_type": "code",
   "execution_count": 2,
   "id": "62a882ed",
   "metadata": {},
   "outputs": [],
   "source": [
    "# Importing the dataset, downloaded file is in the same folder\n",
    "csv_path = \"DNA.csv\"\n",
    "dna_df = pd.read_csv(csv_path)"
   ]
  },
  {
   "cell_type": "markdown",
   "id": "925b528d",
   "metadata": {},
   "source": [
    "#### Run a quick check on the dataset"
   ]
  },
  {
   "cell_type": "code",
   "execution_count": 3,
   "id": "6169d6e7",
   "metadata": {},
   "outputs": [
    {
     "data": {
      "text/plain": [
       "(14610, 2)"
      ]
     },
     "execution_count": 3,
     "metadata": {},
     "output_type": "execute_result"
    }
   ],
   "source": [
    "dna_df.shape"
   ]
  },
  {
   "cell_type": "code",
   "execution_count": 4,
   "id": "b462f6a7",
   "metadata": {},
   "outputs": [
    {
     "data": {
      "text/html": [
       "<div>\n",
       "<style scoped>\n",
       "    .dataframe tbody tr th:only-of-type {\n",
       "        vertical-align: middle;\n",
       "    }\n",
       "\n",
       "    .dataframe tbody tr th {\n",
       "        vertical-align: top;\n",
       "    }\n",
       "\n",
       "    .dataframe thead th {\n",
       "        text-align: right;\n",
       "    }\n",
       "</style>\n",
       "<table border=\"1\" class=\"dataframe\">\n",
       "  <thead>\n",
       "    <tr style=\"text-align: right;\">\n",
       "      <th></th>\n",
       "      <th>num_of_atoms</th>\n",
       "      <th>num_of_heavy_atoms</th>\n",
       "    </tr>\n",
       "  </thead>\n",
       "  <tbody>\n",
       "    <tr>\n",
       "      <th>0</th>\n",
       "      <td>14</td>\n",
       "      <td>6</td>\n",
       "    </tr>\n",
       "    <tr>\n",
       "      <th>1</th>\n",
       "      <td>11</td>\n",
       "      <td>5</td>\n",
       "    </tr>\n",
       "    <tr>\n",
       "      <th>2</th>\n",
       "      <td>15</td>\n",
       "      <td>6</td>\n",
       "    </tr>\n",
       "    <tr>\n",
       "      <th>3</th>\n",
       "      <td>21</td>\n",
       "      <td>7</td>\n",
       "    </tr>\n",
       "    <tr>\n",
       "      <th>4</th>\n",
       "      <td>20</td>\n",
       "      <td>7</td>\n",
       "    </tr>\n",
       "  </tbody>\n",
       "</table>\n",
       "</div>"
      ],
      "text/plain": [
       "   num_of_atoms  num_of_heavy_atoms\n",
       "0            14                   6\n",
       "1            11                   5\n",
       "2            15                   6\n",
       "3            21                   7\n",
       "4            20                   7"
      ]
     },
     "execution_count": 4,
     "metadata": {},
     "output_type": "execute_result"
    }
   ],
   "source": [
    "dna_df.head(5)"
   ]
  },
  {
   "cell_type": "code",
   "execution_count": 5,
   "id": "7bebd208",
   "metadata": {},
   "outputs": [
    {
     "name": "stdout",
     "output_type": "stream",
     "text": [
      "<class 'pandas.core.frame.DataFrame'>\n",
      "RangeIndex: 14610 entries, 0 to 14609\n",
      "Data columns (total 2 columns):\n",
      " #   Column              Non-Null Count  Dtype\n",
      "---  ------              --------------  -----\n",
      " 0   num_of_atoms        14610 non-null  int64\n",
      " 1   num_of_heavy_atoms  14610 non-null  int64\n",
      "dtypes: int64(2)\n",
      "memory usage: 228.4 KB\n"
     ]
    }
   ],
   "source": [
    "dna_df.info()"
   ]
  },
  {
   "cell_type": "markdown",
   "id": "b9336750",
   "metadata": {},
   "source": [
    "#### Check for missing data"
   ]
  },
  {
   "cell_type": "code",
   "execution_count": 6,
   "id": "a533914f",
   "metadata": {},
   "outputs": [
    {
     "data": {
      "text/plain": [
       "num_of_atoms          0\n",
       "num_of_heavy_atoms    0\n",
       "dtype: int64"
      ]
     },
     "execution_count": 6,
     "metadata": {},
     "output_type": "execute_result"
    }
   ],
   "source": [
    "dna_df.isnull().sum()"
   ]
  },
  {
   "cell_type": "markdown",
   "id": "28071887",
   "metadata": {},
   "source": [
    "There is no missing data"
   ]
  },
  {
   "cell_type": "markdown",
   "id": "818ae383",
   "metadata": {},
   "source": [
    "#### Check Data Summarization"
   ]
  },
  {
   "cell_type": "code",
   "execution_count": 7,
   "id": "437a0e9d",
   "metadata": {},
   "outputs": [
    {
     "data": {
      "text/html": [
       "<div>\n",
       "<style scoped>\n",
       "    .dataframe tbody tr th:only-of-type {\n",
       "        vertical-align: middle;\n",
       "    }\n",
       "\n",
       "    .dataframe tbody tr th {\n",
       "        vertical-align: top;\n",
       "    }\n",
       "\n",
       "    .dataframe thead th {\n",
       "        text-align: right;\n",
       "    }\n",
       "</style>\n",
       "<table border=\"1\" class=\"dataframe\">\n",
       "  <thead>\n",
       "    <tr style=\"text-align: right;\">\n",
       "      <th></th>\n",
       "      <th>num_of_atoms</th>\n",
       "      <th>num_of_heavy_atoms</th>\n",
       "    </tr>\n",
       "  </thead>\n",
       "  <tbody>\n",
       "    <tr>\n",
       "      <th>count</th>\n",
       "      <td>14610.000000</td>\n",
       "      <td>14610.000000</td>\n",
       "    </tr>\n",
       "    <tr>\n",
       "      <th>mean</th>\n",
       "      <td>14.412594</td>\n",
       "      <td>5.903285</td>\n",
       "    </tr>\n",
       "    <tr>\n",
       "      <th>std</th>\n",
       "      <td>4.693705</td>\n",
       "      <td>1.113774</td>\n",
       "    </tr>\n",
       "    <tr>\n",
       "      <th>min</th>\n",
       "      <td>2.000000</td>\n",
       "      <td>2.000000</td>\n",
       "    </tr>\n",
       "    <tr>\n",
       "      <th>25%</th>\n",
       "      <td>11.000000</td>\n",
       "      <td>5.000000</td>\n",
       "    </tr>\n",
       "    <tr>\n",
       "      <th>50%</th>\n",
       "      <td>15.000000</td>\n",
       "      <td>6.000000</td>\n",
       "    </tr>\n",
       "    <tr>\n",
       "      <th>75%</th>\n",
       "      <td>18.000000</td>\n",
       "      <td>7.000000</td>\n",
       "    </tr>\n",
       "    <tr>\n",
       "      <th>max</th>\n",
       "      <td>33.000000</td>\n",
       "      <td>11.000000</td>\n",
       "    </tr>\n",
       "  </tbody>\n",
       "</table>\n",
       "</div>"
      ],
      "text/plain": [
       "       num_of_atoms  num_of_heavy_atoms\n",
       "count  14610.000000        14610.000000\n",
       "mean      14.412594            5.903285\n",
       "std        4.693705            1.113774\n",
       "min        2.000000            2.000000\n",
       "25%       11.000000            5.000000\n",
       "50%       15.000000            6.000000\n",
       "75%       18.000000            7.000000\n",
       "max       33.000000           11.000000"
      ]
     },
     "execution_count": 7,
     "metadata": {},
     "output_type": "execute_result"
    }
   ],
   "source": [
    "dna_df.describe()"
   ]
  },
  {
   "cell_type": "markdown",
   "id": "1c4ed056",
   "metadata": {},
   "source": [
    "#### Visualize data"
   ]
  },
  {
   "cell_type": "code",
   "execution_count": 8,
   "id": "80e9d17f",
   "metadata": {},
   "outputs": [
    {
     "data": {
      "image/png": "[encoded data removed]",
      "text/plain": [
       "<Figure size 432x288 with 1 Axes>"
      ]
     },
     "metadata": {
      "needs_background": "light"
     },
     "output_type": "display_data"
    }
   ],
   "source": [
    "dna_df.plot.scatter(x='num_of_atoms', y='num_of_heavy_atoms', title= \"Scatter plot between num_of_atoms and num_of_heavy_atoms\");\n",
    "\n",
    "plt.show(block=True);"
   ]
  },
  {
   "cell_type": "markdown",
   "id": "6c909549",
   "metadata": {},
   "source": [
    "## Algorithm"
   ]
  },
  {
   "cell_type": "markdown",
   "id": "076f97e9",
   "metadata": {},
   "source": [
    "To implement this algorithm, I will use helper functions and main function. Main function will be the function which runs the algorithm while helper functions are used to help implement the algorithm"
   ]
  },
  {
   "cell_type": "markdown",
   "id": "bbe2c5fc",
   "metadata": {},
   "source": [
    "### Main Function"
   ]
  },
  {
   "cell_type": "code",
   "execution_count": 9,
   "id": "c9be7203",
   "metadata": {},
   "outputs": [],
   "source": [
    "def main(data, k): #Receive data and k value\n",
    "    #Data is an array containing points in the dataset\n",
    "    \n",
    "    #Select random centroids first\n",
    "    centroids = init_centroids(data, k)\n",
    "    #Display the randomized centroids\n",
    "    print(\"Random centroids:\")\n",
    "    print(centroids)\n",
    "    \n",
    "    #Repeat the Expectation and Maximization mentioned in the algorithm\n",
    "    while True:\n",
    "        old_centroids = centroids\n",
    "        labels = get_labels(data, centroids) #Get label for each point in the data\n",
    "        centroids = update_centroids(data, labels, k) #Update the centroids using labels retrieved earlier\n",
    "        #Display the centroids each time it is updated\n",
    "        print(\"\\nUpdated centroids:\")\n",
    "        print(centroids)\n",
    "        #Logic for stopping the algorithm (When centroid movement is equal or almost equal to 0)\n",
    "        if should_stop(old_centroids, centroids):\n",
    "            break\n",
    "            \n",
    "    #Return the centroids\n",
    "    return centroids"
   ]
  },
  {
   "cell_type": "markdown",
   "id": "d28fab86",
   "metadata": {},
   "source": [
    "### Helper Functions"
   ]
  },
  {
   "cell_type": "markdown",
   "id": "5fa41ed4",
   "metadata": {},
   "source": [
    "#### Initializing centroids (randomizing centroids)"
   ]
  },
  {
   "cell_type": "code",
   "execution_count": 10,
   "id": "fd642fe0",
   "metadata": {},
   "outputs": [],
   "source": [
    "def random_sample(low, high):\n",
    "    #Randomly sampling a member of uniformly distributed number between 0 and 1\n",
    "    return low + (high - low) * np.random.random_sample()\n",
    "\n",
    "def init_centroids(data, k):\n",
    "    #Randomizing centroids within the region of data points\n",
    "    x_min = y_min = float('inf') #Set minimum to infinity\n",
    "    x_max = y_max = float('-inf') #Set maximum to -infinity\n",
    "    #Set min and max\n",
    "    for point in data:\n",
    "        x_min = min(point[0], x_min)\n",
    "        x_max = max(point[0], x_max)\n",
    "        y_min = min(point[1], y_min)\n",
    "        y_max = max(point[1], y_max)\n",
    "    \n",
    "    #Creating a list of k-centroids by randomly sampling x and y coordinates within given region of data points\n",
    "    centroids = []\n",
    "    for i in range(k):\n",
    "        centroids.append([random_sample(x_min, x_max), random_sample(y_min, y_max)])\n",
    "    return centroids"
   ]
  },
  {
   "cell_type": "markdown",
   "id": "a379fe6f",
   "metadata": {},
   "source": [
    "#### Get labels for every data point"
   ]
  },
  {
   "cell_type": "code",
   "execution_count": 11,
   "id": "c5c60096",
   "metadata": {},
   "outputs": [],
   "source": [
    "def get_distance(x1, x2):\n",
    "    #Calculating euclidean distance\n",
    "    return ((x1[0] - x2[0]) ** 2 + (x1[1] - x2[1]) ** 2) ** 0.5\n",
    "    \n",
    "def get_labels(data, centroids):\n",
    "    labels = []\n",
    "    #Compute/calculate the distance of each point to every centroid\n",
    "    for point in data:\n",
    "        min_dist = float('inf')\n",
    "        label = None\n",
    "        for i, centroid in enumerate(centroids):\n",
    "            new_dist = get_distance(point, centroid)\n",
    "            #Selecting centroid with the shortest distance\n",
    "            if min_dist > new_dist:\n",
    "                min_dist = new_dist\n",
    "                label = i #Assign new label if shorter centroid is found\n",
    "        labels.append(label)\n",
    "    return labels"
   ]
  },
  {
   "cell_type": "markdown",
   "id": "e7855924",
   "metadata": {},
   "source": [
    "#### Update Centroids"
   ]
  },
  {
   "cell_type": "code",
   "execution_count": 12,
   "id": "dc37cf7f",
   "metadata": {},
   "outputs": [],
   "source": [
    "#Updating centroids using mean of points retrieved from previous step\n",
    "def update_centroids(points, labels, k):\n",
    "    new_centroids = [[0,0] for i in range(k)] #Initialize new centroids\n",
    "    counts = [0] * k #Count of data points belonging to each cluster\n",
    "    \n",
    "    #Get the numerator and denominator to calculate mean\n",
    "    for point, label in zip(points, labels):\n",
    "        new_centroids[label][0] += point[0]\n",
    "        new_centroids[label][1] += point[1]\n",
    "        counts[label] += 1\n",
    "    \n",
    "    #Compute/calculate the mean of points\n",
    "    for i, (x,y) in enumerate(new_centroids):\n",
    "        new_centroids[i] = (x / counts[i], y / counts[i]) #Divide sum by count\n",
    "    return new_centroids"
   ]
  },
  {
   "cell_type": "markdown",
   "id": "024143e7",
   "metadata": {},
   "source": [
    "#### Stop Algorithm"
   ]
  },
  {
   "cell_type": "code",
   "execution_count": 13,
   "id": "4b16e9ea",
   "metadata": {},
   "outputs": [],
   "source": [
    "#Stop algorithm if movement is less than the threshold\n",
    "#In this case, the threshold (0.00001) is considered close enough to 0\n",
    "def should_stop(old_centroids, new_centroids, threshold = 1e-5):\n",
    "    total_movement = 0\n",
    "    #Get the movement\n",
    "    for old_point, new_point in zip(old_centroids, new_centroids):\n",
    "        total_movement += get_distance(old_point, new_point)\n",
    "    #Display the movement\n",
    "    print(\"Movement:\")\n",
    "    print(total_movement)\n",
    "    \n",
    "    return total_movement < threshold"
   ]
  },
  {
   "cell_type": "markdown",
   "id": "38d384b1",
   "metadata": {},
   "source": [
    "## Run the algorithm"
   ]
  },
  {
   "cell_type": "code",
   "execution_count": 14,
   "id": "50b5f5f0",
   "metadata": {},
   "outputs": [
    {
     "name": "stdout",
     "output_type": "stream",
     "text": [
      "Random centroids:\n",
      "[[11.162275258053333, 6.28348631544167], [27.66689454486305, 8.651466617670664]]\n",
      "\n",
      "Updated centroids:\n",
      "[(13.200271717413889, 5.660033565092304), (21.646638054363375, 7.354792560801145)]\n",
      "Movement:\n",
      "8.289541344579794\n",
      "\n",
      "Updated centroids:\n",
      "[(12.30277205469189, 5.487638134482113), (20.142166836215665, 7.032044760935911)]\n",
      "Movement:\n",
      "2.4526075858704433\n",
      "\n",
      "Updated centroids:\n",
      "[(11.708993033565548, 5.374181971712054), (19.39972741433022, 6.879283489096573)]\n",
      "Movement:\n",
      "1.3625134381339146\n",
      "\n",
      "Updated centroids:\n",
      "[(11.114409325802187, 5.26499218843889), (18.77643504531722, 6.7478136428685005)]\n",
      "Movement:\n",
      "1.2415332485868578\n",
      "\n",
      "Updated centroids:\n",
      "[(10.570958904109588, 5.142328767123288), (18.248974008207934, 6.663201094391245)]\n",
      "Movement:\n",
      "1.091326260630931\n",
      "\n",
      "Updated centroids:\n",
      "[(10.50326979268123, 5.138722693752609), (18.197628990974, 6.6435403475683685)]\n",
      "Movement:\n",
      "0.12276560190139793\n",
      "\n",
      "Updated centroids:\n",
      "[(10.50326979268123, 5.138722693752609), (18.197628990974, 6.6435403475683685)]\n",
      "Movement:\n",
      "0.0\n",
      "\n",
      "Final centroids:\n",
      "[(10.50326979268123, 5.138722693752609), (18.197628990974, 6.6435403475683685)]\n"
     ]
    }
   ],
   "source": [
    "centroids = main(np.asarray(dna_df), 2)\n",
    "print(\"\\nFinal centroids:\")\n",
    "print(centroids)"
   ]
  }
 ],
 "metadata": {
  "kernelspec": {
   "display_name": "Python 3 (ipykernel)",
   "language": "python",
   "name": "python3"
  },
  "language_info": {
   "codemirror_mode": {
    "name": "ipython",
    "version": 3
   },
   "file_extension": ".py",
   "mimetype": "text/x-python",
   "name": "python",
   "nbconvert_exporter": "python",
   "pygments_lexer": "ipython3",
   "version": "3.9.7"
  }
 },
 "nbformat": 4,
 "nbformat_minor": 5
}
