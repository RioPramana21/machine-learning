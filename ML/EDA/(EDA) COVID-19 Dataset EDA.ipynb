{
 "cells": [
  {
   "cell_type": "markdown",
   "id": "355b6c2f",
   "metadata": {},
   "source": [
    "# 2440016804 - Rio Pramana - LA01 - Assignment 1"
   ]
  },
  {
   "cell_type": "markdown",
   "id": "f77d8d9e",
   "metadata": {},
   "source": [
    "Import libraries & read downloaded dataset"
   ]
  },
  {
   "cell_type": "code",
   "execution_count": 1,
   "id": "4b2462a3",
   "metadata": {},
   "outputs": [],
   "source": [
    "import numpy as np\n",
    "import pandas as pd\n",
    "import matplotlib.pyplot as plt"
   ]
  },
  {
   "cell_type": "code",
   "execution_count": 2,
   "id": "eabadaca",
   "metadata": {},
   "outputs": [],
   "source": [
    "# Downloaded file is in the same folder\n",
    "csv_path = \"covid_19_indonesia_time_series_all.csv\"\n",
    "covid19_df = pd.read_csv(csv_path)"
   ]
  },
  {
   "cell_type": "markdown",
   "id": "ca3cd052",
   "metadata": {},
   "source": [
    "Check dataset"
   ]
  },
  {
   "cell_type": "code",
   "execution_count": 3,
   "id": "e3fa508c",
   "metadata": {},
   "outputs": [
    {
     "data": {
      "text/plain": [
       "(21759, 38)"
      ]
     },
     "execution_count": 3,
     "metadata": {},
     "output_type": "execute_result"
    }
   ],
   "source": [
    "covid19_df.shape"
   ]
  },
  {
   "cell_type": "code",
   "execution_count": 4,
   "id": "64e1da1c",
   "metadata": {},
   "outputs": [
    {
     "data": {
      "text/html": [
       "<div>\n",
       "<style scoped>\n",
       "    .dataframe tbody tr th:only-of-type {\n",
       "        vertical-align: middle;\n",
       "    }\n",
       "\n",
       "    .dataframe tbody tr th {\n",
       "        vertical-align: top;\n",
       "    }\n",
       "\n",
       "    .dataframe thead th {\n",
       "        text-align: right;\n",
       "    }\n",
       "</style>\n",
       "<table border=\"1\" class=\"dataframe\">\n",
       "  <thead>\n",
       "    <tr style=\"text-align: right;\">\n",
       "      <th></th>\n",
       "      <th>Date</th>\n",
       "      <th>Location ISO Code</th>\n",
       "      <th>Location</th>\n",
       "      <th>New Cases</th>\n",
       "      <th>New Deaths</th>\n",
       "      <th>New Recovered</th>\n",
       "      <th>New Active Cases</th>\n",
       "      <th>Total Cases</th>\n",
       "      <th>Total Deaths</th>\n",
       "      <th>Total Recovered</th>\n",
       "      <th>...</th>\n",
       "      <th>Latitude</th>\n",
       "      <th>New Cases per Million</th>\n",
       "      <th>Total Cases per Million</th>\n",
       "      <th>New Deaths per Million</th>\n",
       "      <th>Total Deaths per Million</th>\n",
       "      <th>Total Deaths per 100rb</th>\n",
       "      <th>Case Fatality Rate</th>\n",
       "      <th>Case Recovered Rate</th>\n",
       "      <th>Growth Factor of New Cases</th>\n",
       "      <th>Growth Factor of New Deaths</th>\n",
       "    </tr>\n",
       "  </thead>\n",
       "  <tbody>\n",
       "    <tr>\n",
       "      <th>0</th>\n",
       "      <td>3/1/2020</td>\n",
       "      <td>ID-JK</td>\n",
       "      <td>DKI Jakarta</td>\n",
       "      <td>2</td>\n",
       "      <td>0</td>\n",
       "      <td>0</td>\n",
       "      <td>2</td>\n",
       "      <td>39</td>\n",
       "      <td>20</td>\n",
       "      <td>41</td>\n",
       "      <td>...</td>\n",
       "      <td>-6.204699</td>\n",
       "      <td>0.18</td>\n",
       "      <td>3.60</td>\n",
       "      <td>0.0</td>\n",
       "      <td>1.84</td>\n",
       "      <td>0.18</td>\n",
       "      <td>51.28%</td>\n",
       "      <td>105.13%</td>\n",
       "      <td>NaN</td>\n",
       "      <td>NaN</td>\n",
       "    </tr>\n",
       "    <tr>\n",
       "      <th>1</th>\n",
       "      <td>3/2/2020</td>\n",
       "      <td>ID-JK</td>\n",
       "      <td>DKI Jakarta</td>\n",
       "      <td>2</td>\n",
       "      <td>0</td>\n",
       "      <td>0</td>\n",
       "      <td>2</td>\n",
       "      <td>41</td>\n",
       "      <td>20</td>\n",
       "      <td>41</td>\n",
       "      <td>...</td>\n",
       "      <td>-6.204699</td>\n",
       "      <td>0.18</td>\n",
       "      <td>3.78</td>\n",
       "      <td>0.0</td>\n",
       "      <td>1.84</td>\n",
       "      <td>0.18</td>\n",
       "      <td>48.78%</td>\n",
       "      <td>100.00%</td>\n",
       "      <td>1.0</td>\n",
       "      <td>1.0</td>\n",
       "    </tr>\n",
       "    <tr>\n",
       "      <th>2</th>\n",
       "      <td>3/2/2020</td>\n",
       "      <td>IDN</td>\n",
       "      <td>Indonesia</td>\n",
       "      <td>2</td>\n",
       "      <td>0</td>\n",
       "      <td>0</td>\n",
       "      <td>2</td>\n",
       "      <td>2</td>\n",
       "      <td>0</td>\n",
       "      <td>0</td>\n",
       "      <td>...</td>\n",
       "      <td>-0.789275</td>\n",
       "      <td>0.01</td>\n",
       "      <td>0.01</td>\n",
       "      <td>0.0</td>\n",
       "      <td>0.00</td>\n",
       "      <td>0.00</td>\n",
       "      <td>0.00%</td>\n",
       "      <td>0.00%</td>\n",
       "      <td>NaN</td>\n",
       "      <td>NaN</td>\n",
       "    </tr>\n",
       "    <tr>\n",
       "      <th>3</th>\n",
       "      <td>3/2/2020</td>\n",
       "      <td>ID-RI</td>\n",
       "      <td>Riau</td>\n",
       "      <td>1</td>\n",
       "      <td>0</td>\n",
       "      <td>0</td>\n",
       "      <td>1</td>\n",
       "      <td>2</td>\n",
       "      <td>0</td>\n",
       "      <td>3</td>\n",
       "      <td>...</td>\n",
       "      <td>0.511648</td>\n",
       "      <td>0.16</td>\n",
       "      <td>0.33</td>\n",
       "      <td>0.0</td>\n",
       "      <td>0.00</td>\n",
       "      <td>0.00</td>\n",
       "      <td>0.00%</td>\n",
       "      <td>150.00%</td>\n",
       "      <td>NaN</td>\n",
       "      <td>NaN</td>\n",
       "    </tr>\n",
       "    <tr>\n",
       "      <th>4</th>\n",
       "      <td>3/3/2020</td>\n",
       "      <td>ID-JK</td>\n",
       "      <td>DKI Jakarta</td>\n",
       "      <td>2</td>\n",
       "      <td>0</td>\n",
       "      <td>0</td>\n",
       "      <td>2</td>\n",
       "      <td>43</td>\n",
       "      <td>20</td>\n",
       "      <td>41</td>\n",
       "      <td>...</td>\n",
       "      <td>-6.204699</td>\n",
       "      <td>0.18</td>\n",
       "      <td>3.96</td>\n",
       "      <td>0.0</td>\n",
       "      <td>1.84</td>\n",
       "      <td>0.18</td>\n",
       "      <td>46.51%</td>\n",
       "      <td>95.35%</td>\n",
       "      <td>1.0</td>\n",
       "      <td>1.0</td>\n",
       "    </tr>\n",
       "  </tbody>\n",
       "</table>\n",
       "<p>5 rows × 38 columns</p>\n",
       "</div>"
      ],
      "text/plain": [
       "       Date Location ISO Code     Location  New Cases  New Deaths  \\\n",
       "0  3/1/2020             ID-JK  DKI Jakarta          2           0   \n",
       "1  3/2/2020             ID-JK  DKI Jakarta          2           0   \n",
       "2  3/2/2020               IDN    Indonesia          2           0   \n",
       "3  3/2/2020             ID-RI         Riau          1           0   \n",
       "4  3/3/2020             ID-JK  DKI Jakarta          2           0   \n",
       "\n",
       "   New Recovered  New Active Cases  Total Cases  Total Deaths  \\\n",
       "0              0                 2           39            20   \n",
       "1              0                 2           41            20   \n",
       "2              0                 2            2             0   \n",
       "3              0                 1            2             0   \n",
       "4              0                 2           43            20   \n",
       "\n",
       "   Total Recovered  ...  Latitude New Cases per Million  \\\n",
       "0               41  ... -6.204699                  0.18   \n",
       "1               41  ... -6.204699                  0.18   \n",
       "2                0  ... -0.789275                  0.01   \n",
       "3                3  ...  0.511648                  0.16   \n",
       "4               41  ... -6.204699                  0.18   \n",
       "\n",
       "   Total Cases per Million New Deaths per Million Total Deaths per Million  \\\n",
       "0                     3.60                    0.0                     1.84   \n",
       "1                     3.78                    0.0                     1.84   \n",
       "2                     0.01                    0.0                     0.00   \n",
       "3                     0.33                    0.0                     0.00   \n",
       "4                     3.96                    0.0                     1.84   \n",
       "\n",
       "  Total Deaths per 100rb Case Fatality Rate Case Recovered Rate  \\\n",
       "0                   0.18             51.28%             105.13%   \n",
       "1                   0.18             48.78%             100.00%   \n",
       "2                   0.00              0.00%               0.00%   \n",
       "3                   0.00              0.00%             150.00%   \n",
       "4                   0.18             46.51%              95.35%   \n",
       "\n",
       "  Growth Factor of New Cases  Growth Factor of New Deaths  \n",
       "0                        NaN                          NaN  \n",
       "1                        1.0                          1.0  \n",
       "2                        NaN                          NaN  \n",
       "3                        NaN                          NaN  \n",
       "4                        1.0                          1.0  \n",
       "\n",
       "[5 rows x 38 columns]"
      ]
     },
     "execution_count": 4,
     "metadata": {},
     "output_type": "execute_result"
    }
   ],
   "source": [
    "covid19_df.head(5)"
   ]
  },
  {
   "cell_type": "code",
   "execution_count": 5,
   "id": "de7fc056",
   "metadata": {},
   "outputs": [
    {
     "name": "stdout",
     "output_type": "stream",
     "text": [
      "<class 'pandas.core.frame.DataFrame'>\n",
      "RangeIndex: 21759 entries, 0 to 21758\n",
      "Data columns (total 38 columns):\n",
      " #   Column                       Non-Null Count  Dtype  \n",
      "---  ------                       --------------  -----  \n",
      " 0   Date                         21759 non-null  object \n",
      " 1   Location ISO Code            21759 non-null  object \n",
      " 2   Location                     21759 non-null  object \n",
      " 3   New Cases                    21759 non-null  int64  \n",
      " 4   New Deaths                   21759 non-null  int64  \n",
      " 5   New Recovered                21759 non-null  int64  \n",
      " 6   New Active Cases             21759 non-null  int64  \n",
      " 7   Total Cases                  21759 non-null  int64  \n",
      " 8   Total Deaths                 21759 non-null  int64  \n",
      " 9   Total Recovered              21759 non-null  int64  \n",
      " 10  Total Active Cases           21759 non-null  int64  \n",
      " 11  Location Level               21759 non-null  object \n",
      " 12  City or Regency              0 non-null      float64\n",
      " 13  Province                     21117 non-null  object \n",
      " 14  Country                      21759 non-null  object \n",
      " 15  Continent                    21759 non-null  object \n",
      " 16  Island                       21117 non-null  object \n",
      " 17  Time Zone                    21117 non-null  object \n",
      " 18  Special Status               3123 non-null   object \n",
      " 19  Total Regencies              21759 non-null  int64  \n",
      " 20  Total Cities                 21145 non-null  float64\n",
      " 21  Total Districts              21759 non-null  int64  \n",
      " 22  Total Urban Villages         21142 non-null  float64\n",
      " 23  Total Rural Villages         21117 non-null  float64\n",
      " 24  Area (km2)                   21759 non-null  int64  \n",
      " 25  Population                   21759 non-null  int64  \n",
      " 26  Population Density           21759 non-null  float64\n",
      " 27  Longitude                    21759 non-null  float64\n",
      " 28  Latitude                     21759 non-null  float64\n",
      " 29  New Cases per Million        21759 non-null  float64\n",
      " 30  Total Cases per Million      21759 non-null  float64\n",
      " 31  New Deaths per Million       21759 non-null  float64\n",
      " 32  Total Deaths per Million     21759 non-null  float64\n",
      " 33  Total Deaths per 100rb       21759 non-null  float64\n",
      " 34  Case Fatality Rate           21759 non-null  object \n",
      " 35  Case Recovered Rate          21759 non-null  object \n",
      " 36  Growth Factor of New Cases   20572 non-null  float64\n",
      " 37  Growth Factor of New Deaths  19292 non-null  float64\n",
      "dtypes: float64(14), int64(12), object(12)\n",
      "memory usage: 6.3+ MB\n"
     ]
    }
   ],
   "source": [
    "covid19_df.info()"
   ]
  },
  {
   "cell_type": "markdown",
   "id": "01022d00",
   "metadata": {},
   "source": [
    "Copying covid19_df into a covid19_new and drop all the unnecessary columns in covid19_new"
   ]
  },
  {
   "cell_type": "code",
   "execution_count": 6,
   "id": "4f6863e4",
   "metadata": {},
   "outputs": [],
   "source": [
    "covid19_new = covid19_df.copy()\n",
    "covid19_new.drop([\"Location ISO Code\", \"New Active Cases\", \"Total Active Cases\", \"Location Level\", \"City or Regency\", \n",
    "                \"Province\", \"Country\", \"Continent\", \"Island\", \"Time Zone\", \"Special Status\", \"Total Regencies\", \n",
    "                \"Total Cities\", \"Total Districts\", \"Total Urban Villages\", \"Total Rural Villages\", \"Area (km2)\", \n",
    "                \"Population\", \"Population Density\", \"Longitude\", \"Latitude\", \"New Cases per Million\", \n",
    "                \"Total Cases per Million\", \"New Deaths per Million\", \"Total Deaths per Million\", \"Total Deaths per 100rb\", \n",
    "                \"Case Fatality Rate\", \"Case Recovered Rate\", \"Growth Factor of New Cases\", \"Growth Factor of New Deaths\"],\n",
    "               axis=1, inplace=True)"
   ]
  },
  {
   "cell_type": "code",
   "execution_count": 7,
   "id": "f46cb182",
   "metadata": {},
   "outputs": [
    {
     "data": {
      "text/plain": [
       "(21759, 8)"
      ]
     },
     "execution_count": 7,
     "metadata": {},
     "output_type": "execute_result"
    }
   ],
   "source": [
    "covid19_new.shape"
   ]
  },
  {
   "cell_type": "code",
   "execution_count": 8,
   "id": "bc7c026d",
   "metadata": {},
   "outputs": [
    {
     "data": {
      "text/html": [
       "<div>\n",
       "<style scoped>\n",
       "    .dataframe tbody tr th:only-of-type {\n",
       "        vertical-align: middle;\n",
       "    }\n",
       "\n",
       "    .dataframe tbody tr th {\n",
       "        vertical-align: top;\n",
       "    }\n",
       "\n",
       "    .dataframe thead th {\n",
       "        text-align: right;\n",
       "    }\n",
       "</style>\n",
       "<table border=\"1\" class=\"dataframe\">\n",
       "  <thead>\n",
       "    <tr style=\"text-align: right;\">\n",
       "      <th></th>\n",
       "      <th>Date</th>\n",
       "      <th>Location</th>\n",
       "      <th>New Cases</th>\n",
       "      <th>New Deaths</th>\n",
       "      <th>New Recovered</th>\n",
       "      <th>Total Cases</th>\n",
       "      <th>Total Deaths</th>\n",
       "      <th>Total Recovered</th>\n",
       "    </tr>\n",
       "  </thead>\n",
       "  <tbody>\n",
       "    <tr>\n",
       "      <th>0</th>\n",
       "      <td>3/1/2020</td>\n",
       "      <td>DKI Jakarta</td>\n",
       "      <td>2</td>\n",
       "      <td>0</td>\n",
       "      <td>0</td>\n",
       "      <td>39</td>\n",
       "      <td>20</td>\n",
       "      <td>41</td>\n",
       "    </tr>\n",
       "    <tr>\n",
       "      <th>1</th>\n",
       "      <td>3/2/2020</td>\n",
       "      <td>DKI Jakarta</td>\n",
       "      <td>2</td>\n",
       "      <td>0</td>\n",
       "      <td>0</td>\n",
       "      <td>41</td>\n",
       "      <td>20</td>\n",
       "      <td>41</td>\n",
       "    </tr>\n",
       "    <tr>\n",
       "      <th>2</th>\n",
       "      <td>3/2/2020</td>\n",
       "      <td>Indonesia</td>\n",
       "      <td>2</td>\n",
       "      <td>0</td>\n",
       "      <td>0</td>\n",
       "      <td>2</td>\n",
       "      <td>0</td>\n",
       "      <td>0</td>\n",
       "    </tr>\n",
       "    <tr>\n",
       "      <th>3</th>\n",
       "      <td>3/2/2020</td>\n",
       "      <td>Riau</td>\n",
       "      <td>1</td>\n",
       "      <td>0</td>\n",
       "      <td>0</td>\n",
       "      <td>2</td>\n",
       "      <td>0</td>\n",
       "      <td>3</td>\n",
       "    </tr>\n",
       "    <tr>\n",
       "      <th>4</th>\n",
       "      <td>3/3/2020</td>\n",
       "      <td>DKI Jakarta</td>\n",
       "      <td>2</td>\n",
       "      <td>0</td>\n",
       "      <td>0</td>\n",
       "      <td>43</td>\n",
       "      <td>20</td>\n",
       "      <td>41</td>\n",
       "    </tr>\n",
       "  </tbody>\n",
       "</table>\n",
       "</div>"
      ],
      "text/plain": [
       "       Date     Location  New Cases  New Deaths  New Recovered  Total Cases  \\\n",
       "0  3/1/2020  DKI Jakarta          2           0              0           39   \n",
       "1  3/2/2020  DKI Jakarta          2           0              0           41   \n",
       "2  3/2/2020    Indonesia          2           0              0            2   \n",
       "3  3/2/2020         Riau          1           0              0            2   \n",
       "4  3/3/2020  DKI Jakarta          2           0              0           43   \n",
       "\n",
       "   Total Deaths  Total Recovered  \n",
       "0            20               41  \n",
       "1            20               41  \n",
       "2             0                0  \n",
       "3             0                3  \n",
       "4            20               41  "
      ]
     },
     "execution_count": 8,
     "metadata": {},
     "output_type": "execute_result"
    }
   ],
   "source": [
    "covid19_new.head(5)"
   ]
  },
  {
   "cell_type": "markdown",
   "id": "b5139c27",
   "metadata": {},
   "source": [
    "Columns processed have matched the requirements in the assignment"
   ]
  },
  {
   "cell_type": "markdown",
   "id": "28e407ef",
   "metadata": {},
   "source": [
    "## 1. Find out what categories exist and how many neighbourhood belong to each category by using the value_counts() method"
   ]
  },
  {
   "cell_type": "code",
   "execution_count": 9,
   "id": "281d47d6",
   "metadata": {},
   "outputs": [
    {
     "name": "stdout",
     "output_type": "stream",
     "text": [
      "<class 'pandas.core.frame.DataFrame'>\n",
      "RangeIndex: 21759 entries, 0 to 21758\n",
      "Data columns (total 8 columns):\n",
      " #   Column           Non-Null Count  Dtype \n",
      "---  ------           --------------  ----- \n",
      " 0   Date             21759 non-null  object\n",
      " 1   Location         21759 non-null  object\n",
      " 2   New Cases        21759 non-null  int64 \n",
      " 3   New Deaths       21759 non-null  int64 \n",
      " 4   New Recovered    21759 non-null  int64 \n",
      " 5   Total Cases      21759 non-null  int64 \n",
      " 6   Total Deaths     21759 non-null  int64 \n",
      " 7   Total Recovered  21759 non-null  int64 \n",
      "dtypes: int64(6), object(2)\n",
      "memory usage: 1.3+ MB\n"
     ]
    }
   ],
   "source": [
    "covid19_new.info()"
   ]
  },
  {
   "cell_type": "markdown",
   "id": "bd12ace1",
   "metadata": {},
   "source": [
    "All attributes are numeric except for \"Date\" and \"Location\". \"Date\" and \"Location\" is an object and can contain any type of Python object. We can find out what categories exist in those two columns and how many neighbourhood belong to each category by using the value_counts() method."
   ]
  },
  {
   "cell_type": "markdown",
   "id": "c5bcf1d4",
   "metadata": {},
   "source": [
    "#### Column \"Date\""
   ]
  },
  {
   "cell_type": "code",
   "execution_count": 10,
   "id": "6052605b",
   "metadata": {},
   "outputs": [
    {
     "data": {
      "text/plain": [
       "1/16/2021    35\n",
       "4/30/2021    35\n",
       "4/23/2021    35\n",
       "4/24/2021    35\n",
       "4/25/2021    35\n",
       "             ..\n",
       "3/4/2020      4\n",
       "3/5/2020      4\n",
       "3/2/2020      3\n",
       "3/1/2020      1\n",
       "12/3/2021     1\n",
       "Name: Date, Length: 643, dtype: int64"
      ]
     },
     "execution_count": 10,
     "metadata": {},
     "output_type": "execute_result"
    }
   ],
   "source": [
    "covid19_new.Date.value_counts()"
   ]
  },
  {
   "cell_type": "markdown",
   "id": "1425a53c",
   "metadata": {},
   "source": [
    "#### Column \"Location\""
   ]
  },
  {
   "cell_type": "code",
   "execution_count": 11,
   "id": "bf0ec1fe",
   "metadata": {},
   "outputs": [
    {
     "data": {
      "text/plain": [
       "DKI Jakarta                   642\n",
       "Indonesia                     642\n",
       "Riau                          641\n",
       "Jawa Barat                    640\n",
       "Banten                        637\n",
       "Jawa Tengah                   635\n",
       "Sulawesi Tenggara             633\n",
       "Bali                          632\n",
       "Kalimantan Timur              629\n",
       "Daerah Istimewa Yogyakarta    627\n",
       "Sumatera Utara                626\n",
       "Jawa Timur                    625\n",
       "Sulawesi Selatan              624\n",
       "Jambi                         623\n",
       "Kepulauan Riau                623\n",
       "Papua                         621\n",
       "Maluku                        620\n",
       "Sumatera Selatan              620\n",
       "Aceh                          617\n",
       "Kalimantan Tengah             617\n",
       "Lampung                       617\n",
       "Sulawesi Tengah               617\n",
       "Sulawesi Utara                617\n",
       "Sumatera Barat                617\n",
       "Papua Barat                   616\n",
       "Maluku Utara                  616\n",
       "Kalimantan Utara              614\n",
       "Sulawesi Barat                614\n",
       "Kalimantan Barat              614\n",
       "Kalimantan Selatan            613\n",
       "Kepulauan Bangka Belitung     613\n",
       "Nusa Tenggara Barat           612\n",
       "Bengkulu                      611\n",
       "Nusa Tenggara Timur           603\n",
       "Gorontalo                     591\n",
       "Name: Location, dtype: int64"
      ]
     },
     "execution_count": 11,
     "metadata": {},
     "output_type": "execute_result"
    }
   ],
   "source": [
    "covid19_new.Location.value_counts()"
   ]
  },
  {
   "cell_type": "markdown",
   "id": "bb1df2c5",
   "metadata": {},
   "source": [
    "## 2. Shows a summary of the numerical attributes"
   ]
  },
  {
   "cell_type": "code",
   "execution_count": 12,
   "id": "f215cf97",
   "metadata": {},
   "outputs": [
    {
     "name": "stdout",
     "output_type": "stream",
     "text": [
      "0            102\n",
      "1            104\n",
      "2              4\n",
      "3              6\n",
      "4            106\n",
      "          ...   \n",
      "21754      69339\n",
      "21755     179610\n",
      "21756     119842\n",
      "21757     212000\n",
      "21758    8507362\n",
      "Length: 21759, dtype: int64\n"
     ]
    }
   ],
   "source": [
    "#Calculated Summary\n",
    "print(covid19_new.sum(axis=1, numeric_only=True))"
   ]
  },
  {
   "cell_type": "code",
   "execution_count": 13,
   "id": "80f82df4",
   "metadata": {},
   "outputs": [
    {
     "name": "stdout",
     "output_type": "stream",
     "text": [
      "New Cases            391.293580\n",
      "New Deaths            13.220415\n",
      "New Recovered        377.310998\n",
      "Total Cases        85259.970817\n",
      "Total Deaths        2648.289352\n",
      "Total Recovered    76712.602463\n",
      "dtype: float64\n"
     ]
    }
   ],
   "source": [
    "#Mean\n",
    "print(covid19_new.mean(numeric_only=True))"
   ]
  },
  {
   "cell_type": "code",
   "execution_count": 14,
   "id": "5df3e443",
   "metadata": {},
   "outputs": [
    {
     "name": "stdout",
     "output_type": "stream",
     "text": [
      "New Cases            2074.551043\n",
      "New Deaths             76.482617\n",
      "New Recovered        1999.062563\n",
      "Total Cases        368513.285849\n",
      "Total Deaths        11776.011067\n",
      "Total Recovered    340395.710890\n",
      "dtype: float64\n"
     ]
    }
   ],
   "source": [
    "#Standard Deviation\n",
    "print(covid19_new.std(numeric_only=True))"
   ]
  },
  {
   "cell_type": "markdown",
   "id": "2407fb99",
   "metadata": {},
   "source": [
    "One of summarization technique is called 5-number summary which includes Median (50th percentile), 1st Quartile (25th percentile), 3rd Quartile (75th percentile), Minimum, and Maximum. We can see these data summarization using .describe() function."
   ]
  },
  {
   "cell_type": "code",
   "execution_count": 15,
   "id": "8d0bffa9",
   "metadata": {},
   "outputs": [
    {
     "name": "stdout",
     "output_type": "stream",
     "text": [
      "          New Cases    New Deaths  New Recovered   Total Cases   Total Deaths  \\\n",
      "count  21759.000000  21759.000000   21759.000000  2.175900e+04   21759.000000   \n",
      "mean     391.293580     13.220415     377.310998  8.525997e+04    2648.289352   \n",
      "std     2074.551043     76.482617    1999.062563  3.685133e+05   11776.011067   \n",
      "min        0.000000      0.000000       0.000000  1.000000e+00       0.000000   \n",
      "25%        7.000000      0.000000       4.000000  1.822500e+03      50.000000   \n",
      "50%       41.000000      1.000000      31.000000  1.078000e+04     283.000000   \n",
      "75%      151.000000      5.000000     143.000000  3.646450e+04    1050.000000   \n",
      "max    56757.000000   2069.000000   48832.000000  4.257243e+06  143858.000000   \n",
      "\n",
      "       Total Recovered  \n",
      "count     2.175900e+04  \n",
      "mean      7.671260e+04  \n",
      "std       3.403957e+05  \n",
      "min       0.000000e+00  \n",
      "25%       1.038500e+03  \n",
      "50%       8.745000e+03  \n",
      "75%       3.293250e+04  \n",
      "max       4.105680e+06  \n"
     ]
    }
   ],
   "source": [
    "#Summarizing Data\n",
    "print(covid19_new.describe())"
   ]
  },
  {
   "cell_type": "markdown",
   "id": "824bfbd2",
   "metadata": {},
   "source": [
    "## 3. handling missing data (Replacing missing data with the mean value or others)"
   ]
  },
  {
   "cell_type": "code",
   "execution_count": 16,
   "id": "7c7befac",
   "metadata": {},
   "outputs": [
    {
     "name": "stdout",
     "output_type": "stream",
     "text": [
      "<class 'pandas.core.frame.DataFrame'>\n",
      "RangeIndex: 21759 entries, 0 to 21758\n",
      "Data columns (total 8 columns):\n",
      " #   Column           Non-Null Count  Dtype \n",
      "---  ------           --------------  ----- \n",
      " 0   Date             21759 non-null  object\n",
      " 1   Location         21759 non-null  object\n",
      " 2   New Cases        21759 non-null  int64 \n",
      " 3   New Deaths       21759 non-null  int64 \n",
      " 4   New Recovered    21759 non-null  int64 \n",
      " 5   Total Cases      21759 non-null  int64 \n",
      " 6   Total Deaths     21759 non-null  int64 \n",
      " 7   Total Recovered  21759 non-null  int64 \n",
      "dtypes: int64(6), object(2)\n",
      "memory usage: 1.3+ MB\n"
     ]
    }
   ],
   "source": [
    "covid19_new.info()"
   ]
  },
  {
   "cell_type": "markdown",
   "id": "926aa172",
   "metadata": {},
   "source": [
    "From the result of .info(), we know that there are 21759 rows in the dataset and every column (columns that are being processed for this assignment) have 21759 non-null count. So, that means there are no missing data in covid_new. To make sure, we will use .isnull() paired with .values.any() and .isna() paired with .sum() to check if there are missing data:"
   ]
  },
  {
   "cell_type": "code",
   "execution_count": 17,
   "id": "26c4af78",
   "metadata": {},
   "outputs": [
    {
     "data": {
      "text/plain": [
       "Date               0\n",
       "Location           0\n",
       "New Cases          0\n",
       "New Deaths         0\n",
       "New Recovered      0\n",
       "Total Cases        0\n",
       "Total Deaths       0\n",
       "Total Recovered    0\n",
       "dtype: int64"
      ]
     },
     "execution_count": 17,
     "metadata": {},
     "output_type": "execute_result"
    }
   ],
   "source": [
    "covid19_new.isna().sum()"
   ]
  },
  {
   "cell_type": "code",
   "execution_count": 18,
   "id": "82a8a550",
   "metadata": {},
   "outputs": [
    {
     "data": {
      "text/plain": [
       "False"
      ]
     },
     "execution_count": 18,
     "metadata": {},
     "output_type": "execute_result"
    }
   ],
   "source": [
    "covid19_new.isnull().values.any()"
   ]
  },
  {
   "cell_type": "markdown",
   "id": "c5b89720",
   "metadata": {},
   "source": [
    "The output is __False__ and there are 0 missing data in each column. So, we can confirm that there are no missing data."
   ]
  },
  {
   "cell_type": "markdown",
   "id": "73391490",
   "metadata": {},
   "source": [
    "But, in case of missing data, we can choose two ways to handle it:\n",
    "1. Drop missing values\n",
    "2. Replace missing values\n",
    "\n",
    "We can use __.dropna()__ function to drop missing values, but i think for this dataset containing COVID-19 information, it's better to replace missing values instead of dropping them."
   ]
  },
  {
   "cell_type": "markdown",
   "id": "3a0afa2b",
   "metadata": {},
   "source": [
    "#### Replace missing values"
   ]
  },
  {
   "cell_type": "markdown",
   "id": "046897b7",
   "metadata": {},
   "source": [
    "In this case, we will replace missing numerical data with the mean value for each column"
   ]
  },
  {
   "cell_type": "code",
   "execution_count": 19,
   "id": "4437cf0a",
   "metadata": {},
   "outputs": [
    {
     "data": {
      "text/plain": [
       "0          2\n",
       "1          2\n",
       "2          2\n",
       "3          1\n",
       "4          2\n",
       "        ... \n",
       "21754      2\n",
       "21755      4\n",
       "21756      4\n",
       "21757      4\n",
       "21758    245\n",
       "Name: New Cases, Length: 21759, dtype: int64"
      ]
     },
     "execution_count": 19,
     "metadata": {},
     "output_type": "execute_result"
    }
   ],
   "source": [
    "covid19_new[\"New Cases\"].fillna(covid19_new[\"New Cases\"].mean())"
   ]
  },
  {
   "cell_type": "code",
   "execution_count": 20,
   "id": "ed1b9def",
   "metadata": {},
   "outputs": [
    {
     "data": {
      "text/plain": [
       "0        0\n",
       "1        0\n",
       "2        0\n",
       "3        0\n",
       "4        0\n",
       "        ..\n",
       "21754    0\n",
       "21755    0\n",
       "21756    0\n",
       "21757    0\n",
       "21758    8\n",
       "Name: New Deaths, Length: 21759, dtype: int64"
      ]
     },
     "execution_count": 20,
     "metadata": {},
     "output_type": "execute_result"
    }
   ],
   "source": [
    "covid19_new[\"New Deaths\"].fillna(covid19_new[\"New Deaths\"].mean())"
   ]
  },
  {
   "cell_type": "code",
   "execution_count": 21,
   "id": "ae5002b7",
   "metadata": {},
   "outputs": [
    {
     "data": {
      "text/plain": [
       "0          0\n",
       "1          0\n",
       "2          0\n",
       "3          0\n",
       "4          0\n",
       "        ... \n",
       "21754      0\n",
       "21755      0\n",
       "21756      0\n",
       "21757      1\n",
       "21758    328\n",
       "Name: New Recovered, Length: 21759, dtype: int64"
      ]
     },
     "execution_count": 21,
     "metadata": {},
     "output_type": "execute_result"
    }
   ],
   "source": [
    "covid19_new[\"New Recovered\"].fillna(covid19_new[\"New Recovered\"].mean())"
   ]
  },
  {
   "cell_type": "code",
   "execution_count": 22,
   "id": "dd3963e4",
   "metadata": {},
   "outputs": [
    {
     "data": {
      "text/plain": [
       "0             39\n",
       "1             41\n",
       "2              2\n",
       "3              2\n",
       "4             43\n",
       "          ...   \n",
       "21754      34715\n",
       "21755      89849\n",
       "21756      59937\n",
       "21757     106045\n",
       "21758    4257243\n",
       "Name: Total Cases, Length: 21759, dtype: int64"
      ]
     },
     "execution_count": 22,
     "metadata": {},
     "output_type": "execute_result"
    }
   ],
   "source": [
    "covid19_new[\"Total Cases\"].fillna(covid19_new[\"Total Cases\"].mean())"
   ]
  },
  {
   "cell_type": "code",
   "execution_count": 23,
   "id": "97cf162c",
   "metadata": {},
   "outputs": [
    {
     "data": {
      "text/plain": [
       "0            20\n",
       "1            20\n",
       "2             0\n",
       "3             0\n",
       "4            20\n",
       "          ...  \n",
       "21754      1056\n",
       "21755      2152\n",
       "21756      3071\n",
       "21757      2889\n",
       "21758    143858\n",
       "Name: Total Deaths, Length: 21759, dtype: int64"
      ]
     },
     "execution_count": 23,
     "metadata": {},
     "output_type": "execute_result"
    }
   ],
   "source": [
    "covid19_new[\"Total Deaths\"].fillna(covid19_new[\"Total Deaths\"].mean())"
   ]
  },
  {
   "cell_type": "code",
   "execution_count": 24,
   "id": "e08b3226",
   "metadata": {},
   "outputs": [
    {
     "data": {
      "text/plain": [
       "0             41\n",
       "1             41\n",
       "2              0\n",
       "3              3\n",
       "4             41\n",
       "          ...   \n",
       "21754      33566\n",
       "21755      87605\n",
       "21756      56830\n",
       "21757     103061\n",
       "21758    4105680\n",
       "Name: Total Recovered, Length: 21759, dtype: int64"
      ]
     },
     "execution_count": 24,
     "metadata": {},
     "output_type": "execute_result"
    }
   ],
   "source": [
    "covid19_new[\"Total Recovered\"].fillna(covid19_new[\"Total Recovered\"].mean())"
   ]
  },
  {
   "cell_type": "markdown",
   "id": "efe6afc0",
   "metadata": {},
   "source": [
    "## 4. Plot a histogram for each numerical attribute"
   ]
  },
  {
   "cell_type": "markdown",
   "id": "c6621286",
   "metadata": {},
   "source": [
    "To plot a histogram for each numerical attribute, we can use .hist() and plt.show() function"
   ]
  },
  {
   "cell_type": "code",
   "execution_count": 25,
   "id": "7e58523f",
   "metadata": {},
   "outputs": [
    {
     "data": {
      "image/png": "[encoded data removed]",
      "text/plain": [
       "<Figure size 1440x1440 with 6 Axes>"
      ]
     },
     "metadata": {
      "needs_background": "light"
     },
     "output_type": "display_data"
    }
   ],
   "source": [
    "covid19_new.hist(bins=50,figsize=(20,20))\n",
    "plt.show()"
   ]
  }
 ],
 "metadata": {
  "kernelspec": {
   "display_name": "Python 3 (ipykernel)",
   "language": "python",
   "name": "python3"
  },
  "language_info": {
   "codemirror_mode": {
    "name": "ipython",
    "version": 3
   },
   "file_extension": ".py",
   "mimetype": "text/x-python",
   "name": "python",
   "nbconvert_exporter": "python",
   "pygments_lexer": "ipython3",
   "version": "3.9.7"
  }
 },
 "nbformat": 4,
 "nbformat_minor": 5
}
