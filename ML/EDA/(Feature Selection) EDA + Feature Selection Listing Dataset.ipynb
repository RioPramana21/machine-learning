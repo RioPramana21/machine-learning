{
 "cells": [
  {
   "cell_type": "markdown",
   "id": "c5d9df69",
   "metadata": {},
   "source": [
    "# 2440016804 - Rio Pramana - LA01 - Assignment 6"
   ]
  },
  {
   "cell_type": "markdown",
   "id": "8d9c414b",
   "metadata": {},
   "source": [
    "#### Import libraries and dataset"
   ]
  },
  {
   "cell_type": "code",
   "execution_count": 1,
   "id": "c80b986a",
   "metadata": {},
   "outputs": [],
   "source": [
    "import pandas as pd\n",
    "import numpy as np\n",
    "from numpy import cov\n",
    "import matplotlib.pyplot as plt\n",
    "from matplotlib import style\n",
    "import seaborn as sns\n",
    "import scipy.stats as ss\n",
    "from scipy.stats import spearmanr\n",
    "from scipy.stats import pearsonr"
   ]
  },
  {
   "cell_type": "code",
   "execution_count": 2,
   "id": "2c01c481",
   "metadata": {},
   "outputs": [],
   "source": [
    "# Importing the dataset, downloaded file is in the same folder\n",
    "csv_path = \"listings.csv\"\n",
    "listings_df = pd.read_csv(csv_path)"
   ]
  },
  {
   "cell_type": "markdown",
   "id": "954e0fb5",
   "metadata": {},
   "source": [
    "#### Run a quick check on the dataset"
   ]
  },
  {
   "cell_type": "code",
   "execution_count": 3,
   "id": "6674916a",
   "metadata": {},
   "outputs": [
    {
     "data": {
      "text/plain": [
       "(7907, 16)"
      ]
     },
     "execution_count": 3,
     "metadata": {},
     "output_type": "execute_result"
    }
   ],
   "source": [
    "listings_df.shape"
   ]
  },
  {
   "cell_type": "code",
   "execution_count": 4,
   "id": "d21f80ed",
   "metadata": {},
   "outputs": [
    {
     "data": {
      "text/html": [
       "<div>\n",
       "<style scoped>\n",
       "    .dataframe tbody tr th:only-of-type {\n",
       "        vertical-align: middle;\n",
       "    }\n",
       "\n",
       "    .dataframe tbody tr th {\n",
       "        vertical-align: top;\n",
       "    }\n",
       "\n",
       "    .dataframe thead th {\n",
       "        text-align: right;\n",
       "    }\n",
       "</style>\n",
       "<table border=\"1\" class=\"dataframe\">\n",
       "  <thead>\n",
       "    <tr style=\"text-align: right;\">\n",
       "      <th></th>\n",
       "      <th>id</th>\n",
       "      <th>name</th>\n",
       "      <th>host_id</th>\n",
       "      <th>host_name</th>\n",
       "      <th>neighbourhood_group</th>\n",
       "      <th>neighbourhood</th>\n",
       "      <th>latitude</th>\n",
       "      <th>longitude</th>\n",
       "      <th>room_type</th>\n",
       "      <th>price</th>\n",
       "      <th>minimum_nights</th>\n",
       "      <th>number_of_reviews</th>\n",
       "      <th>last_review</th>\n",
       "      <th>reviews_per_month</th>\n",
       "      <th>calculated_host_listings_count</th>\n",
       "      <th>availability_365</th>\n",
       "    </tr>\n",
       "  </thead>\n",
       "  <tbody>\n",
       "    <tr>\n",
       "      <th>0</th>\n",
       "      <td>49091</td>\n",
       "      <td>COZICOMFORT LONG TERM STAY ROOM 2</td>\n",
       "      <td>266763</td>\n",
       "      <td>Francesca</td>\n",
       "      <td>North Region</td>\n",
       "      <td>Woodlands</td>\n",
       "      <td>1.44255</td>\n",
       "      <td>103.79580</td>\n",
       "      <td>Private room</td>\n",
       "      <td>83</td>\n",
       "      <td>180</td>\n",
       "      <td>1</td>\n",
       "      <td>2013-10-21</td>\n",
       "      <td>0.01</td>\n",
       "      <td>2</td>\n",
       "      <td>365</td>\n",
       "    </tr>\n",
       "    <tr>\n",
       "      <th>1</th>\n",
       "      <td>50646</td>\n",
       "      <td>Pleasant Room along Bukit Timah</td>\n",
       "      <td>227796</td>\n",
       "      <td>Sujatha</td>\n",
       "      <td>Central Region</td>\n",
       "      <td>Bukit Timah</td>\n",
       "      <td>1.33235</td>\n",
       "      <td>103.78521</td>\n",
       "      <td>Private room</td>\n",
       "      <td>81</td>\n",
       "      <td>90</td>\n",
       "      <td>18</td>\n",
       "      <td>2014-12-26</td>\n",
       "      <td>0.28</td>\n",
       "      <td>1</td>\n",
       "      <td>365</td>\n",
       "    </tr>\n",
       "    <tr>\n",
       "      <th>2</th>\n",
       "      <td>56334</td>\n",
       "      <td>COZICOMFORT</td>\n",
       "      <td>266763</td>\n",
       "      <td>Francesca</td>\n",
       "      <td>North Region</td>\n",
       "      <td>Woodlands</td>\n",
       "      <td>1.44246</td>\n",
       "      <td>103.79667</td>\n",
       "      <td>Private room</td>\n",
       "      <td>69</td>\n",
       "      <td>6</td>\n",
       "      <td>20</td>\n",
       "      <td>2015-10-01</td>\n",
       "      <td>0.20</td>\n",
       "      <td>2</td>\n",
       "      <td>365</td>\n",
       "    </tr>\n",
       "    <tr>\n",
       "      <th>3</th>\n",
       "      <td>71609</td>\n",
       "      <td>Ensuite Room (Room 1 &amp; 2) near EXPO</td>\n",
       "      <td>367042</td>\n",
       "      <td>Belinda</td>\n",
       "      <td>East Region</td>\n",
       "      <td>Tampines</td>\n",
       "      <td>1.34541</td>\n",
       "      <td>103.95712</td>\n",
       "      <td>Private room</td>\n",
       "      <td>206</td>\n",
       "      <td>1</td>\n",
       "      <td>14</td>\n",
       "      <td>2019-08-11</td>\n",
       "      <td>0.15</td>\n",
       "      <td>9</td>\n",
       "      <td>353</td>\n",
       "    </tr>\n",
       "    <tr>\n",
       "      <th>4</th>\n",
       "      <td>71896</td>\n",
       "      <td>B&amp;B  Room 1 near Airport &amp; EXPO</td>\n",
       "      <td>367042</td>\n",
       "      <td>Belinda</td>\n",
       "      <td>East Region</td>\n",
       "      <td>Tampines</td>\n",
       "      <td>1.34567</td>\n",
       "      <td>103.95963</td>\n",
       "      <td>Private room</td>\n",
       "      <td>94</td>\n",
       "      <td>1</td>\n",
       "      <td>22</td>\n",
       "      <td>2019-07-28</td>\n",
       "      <td>0.22</td>\n",
       "      <td>9</td>\n",
       "      <td>355</td>\n",
       "    </tr>\n",
       "  </tbody>\n",
       "</table>\n",
       "</div>"
      ],
      "text/plain": [
       "      id                                 name  host_id  host_name  \\\n",
       "0  49091    COZICOMFORT LONG TERM STAY ROOM 2   266763  Francesca   \n",
       "1  50646      Pleasant Room along Bukit Timah   227796    Sujatha   \n",
       "2  56334                          COZICOMFORT   266763  Francesca   \n",
       "3  71609  Ensuite Room (Room 1 & 2) near EXPO   367042    Belinda   \n",
       "4  71896      B&B  Room 1 near Airport & EXPO   367042    Belinda   \n",
       "\n",
       "  neighbourhood_group neighbourhood  latitude  longitude     room_type  price  \\\n",
       "0        North Region     Woodlands   1.44255  103.79580  Private room     83   \n",
       "1      Central Region   Bukit Timah   1.33235  103.78521  Private room     81   \n",
       "2        North Region     Woodlands   1.44246  103.79667  Private room     69   \n",
       "3         East Region      Tampines   1.34541  103.95712  Private room    206   \n",
       "4         East Region      Tampines   1.34567  103.95963  Private room     94   \n",
       "\n",
       "   minimum_nights  number_of_reviews last_review  reviews_per_month  \\\n",
       "0             180                  1  2013-10-21               0.01   \n",
       "1              90                 18  2014-12-26               0.28   \n",
       "2               6                 20  2015-10-01               0.20   \n",
       "3               1                 14  2019-08-11               0.15   \n",
       "4               1                 22  2019-07-28               0.22   \n",
       "\n",
       "   calculated_host_listings_count  availability_365  \n",
       "0                               2               365  \n",
       "1                               1               365  \n",
       "2                               2               365  \n",
       "3                               9               353  \n",
       "4                               9               355  "
      ]
     },
     "execution_count": 4,
     "metadata": {},
     "output_type": "execute_result"
    }
   ],
   "source": [
    "listings_df.head(5)"
   ]
  },
  {
   "cell_type": "code",
   "execution_count": 5,
   "id": "0c111cdb",
   "metadata": {},
   "outputs": [
    {
     "name": "stdout",
     "output_type": "stream",
     "text": [
      "<class 'pandas.core.frame.DataFrame'>\n",
      "RangeIndex: 7907 entries, 0 to 7906\n",
      "Data columns (total 16 columns):\n",
      " #   Column                          Non-Null Count  Dtype  \n",
      "---  ------                          --------------  -----  \n",
      " 0   id                              7907 non-null   int64  \n",
      " 1   name                            7905 non-null   object \n",
      " 2   host_id                         7907 non-null   int64  \n",
      " 3   host_name                       7907 non-null   object \n",
      " 4   neighbourhood_group             7907 non-null   object \n",
      " 5   neighbourhood                   7907 non-null   object \n",
      " 6   latitude                        7907 non-null   float64\n",
      " 7   longitude                       7907 non-null   float64\n",
      " 8   room_type                       7907 non-null   object \n",
      " 9   price                           7907 non-null   int64  \n",
      " 10  minimum_nights                  7907 non-null   int64  \n",
      " 11  number_of_reviews               7907 non-null   int64  \n",
      " 12  last_review                     5149 non-null   object \n",
      " 13  reviews_per_month               5149 non-null   float64\n",
      " 14  calculated_host_listings_count  7907 non-null   int64  \n",
      " 15  availability_365                7907 non-null   int64  \n",
      "dtypes: float64(3), int64(7), object(6)\n",
      "memory usage: 988.5+ KB\n"
     ]
    }
   ],
   "source": [
    "listings_df.info()"
   ]
  },
  {
   "cell_type": "markdown",
   "id": "538dff95",
   "metadata": {},
   "source": [
    "Agar lebih mudah, dependent variable (yaitu price) akan dipindahkan menjadi kolom paling terakhir"
   ]
  },
  {
   "cell_type": "code",
   "execution_count": 6,
   "id": "04637ea1",
   "metadata": {},
   "outputs": [
    {
     "data": {
      "text/html": [
       "<div>\n",
       "<style scoped>\n",
       "    .dataframe tbody tr th:only-of-type {\n",
       "        vertical-align: middle;\n",
       "    }\n",
       "\n",
       "    .dataframe tbody tr th {\n",
       "        vertical-align: top;\n",
       "    }\n",
       "\n",
       "    .dataframe thead th {\n",
       "        text-align: right;\n",
       "    }\n",
       "</style>\n",
       "<table border=\"1\" class=\"dataframe\">\n",
       "  <thead>\n",
       "    <tr style=\"text-align: right;\">\n",
       "      <th></th>\n",
       "      <th>id</th>\n",
       "      <th>name</th>\n",
       "      <th>host_id</th>\n",
       "      <th>host_name</th>\n",
       "      <th>neighbourhood_group</th>\n",
       "      <th>neighbourhood</th>\n",
       "      <th>latitude</th>\n",
       "      <th>longitude</th>\n",
       "      <th>room_type</th>\n",
       "      <th>minimum_nights</th>\n",
       "      <th>number_of_reviews</th>\n",
       "      <th>last_review</th>\n",
       "      <th>reviews_per_month</th>\n",
       "      <th>calculated_host_listings_count</th>\n",
       "      <th>availability_365</th>\n",
       "      <th>price</th>\n",
       "    </tr>\n",
       "  </thead>\n",
       "  <tbody>\n",
       "    <tr>\n",
       "      <th>0</th>\n",
       "      <td>49091</td>\n",
       "      <td>COZICOMFORT LONG TERM STAY ROOM 2</td>\n",
       "      <td>266763</td>\n",
       "      <td>Francesca</td>\n",
       "      <td>North Region</td>\n",
       "      <td>Woodlands</td>\n",
       "      <td>1.44255</td>\n",
       "      <td>103.79580</td>\n",
       "      <td>Private room</td>\n",
       "      <td>180</td>\n",
       "      <td>1</td>\n",
       "      <td>2013-10-21</td>\n",
       "      <td>0.01</td>\n",
       "      <td>2</td>\n",
       "      <td>365</td>\n",
       "      <td>83</td>\n",
       "    </tr>\n",
       "    <tr>\n",
       "      <th>1</th>\n",
       "      <td>50646</td>\n",
       "      <td>Pleasant Room along Bukit Timah</td>\n",
       "      <td>227796</td>\n",
       "      <td>Sujatha</td>\n",
       "      <td>Central Region</td>\n",
       "      <td>Bukit Timah</td>\n",
       "      <td>1.33235</td>\n",
       "      <td>103.78521</td>\n",
       "      <td>Private room</td>\n",
       "      <td>90</td>\n",
       "      <td>18</td>\n",
       "      <td>2014-12-26</td>\n",
       "      <td>0.28</td>\n",
       "      <td>1</td>\n",
       "      <td>365</td>\n",
       "      <td>81</td>\n",
       "    </tr>\n",
       "    <tr>\n",
       "      <th>2</th>\n",
       "      <td>56334</td>\n",
       "      <td>COZICOMFORT</td>\n",
       "      <td>266763</td>\n",
       "      <td>Francesca</td>\n",
       "      <td>North Region</td>\n",
       "      <td>Woodlands</td>\n",
       "      <td>1.44246</td>\n",
       "      <td>103.79667</td>\n",
       "      <td>Private room</td>\n",
       "      <td>6</td>\n",
       "      <td>20</td>\n",
       "      <td>2015-10-01</td>\n",
       "      <td>0.20</td>\n",
       "      <td>2</td>\n",
       "      <td>365</td>\n",
       "      <td>69</td>\n",
       "    </tr>\n",
       "    <tr>\n",
       "      <th>3</th>\n",
       "      <td>71609</td>\n",
       "      <td>Ensuite Room (Room 1 &amp; 2) near EXPO</td>\n",
       "      <td>367042</td>\n",
       "      <td>Belinda</td>\n",
       "      <td>East Region</td>\n",
       "      <td>Tampines</td>\n",
       "      <td>1.34541</td>\n",
       "      <td>103.95712</td>\n",
       "      <td>Private room</td>\n",
       "      <td>1</td>\n",
       "      <td>14</td>\n",
       "      <td>2019-08-11</td>\n",
       "      <td>0.15</td>\n",
       "      <td>9</td>\n",
       "      <td>353</td>\n",
       "      <td>206</td>\n",
       "    </tr>\n",
       "    <tr>\n",
       "      <th>4</th>\n",
       "      <td>71896</td>\n",
       "      <td>B&amp;B  Room 1 near Airport &amp; EXPO</td>\n",
       "      <td>367042</td>\n",
       "      <td>Belinda</td>\n",
       "      <td>East Region</td>\n",
       "      <td>Tampines</td>\n",
       "      <td>1.34567</td>\n",
       "      <td>103.95963</td>\n",
       "      <td>Private room</td>\n",
       "      <td>1</td>\n",
       "      <td>22</td>\n",
       "      <td>2019-07-28</td>\n",
       "      <td>0.22</td>\n",
       "      <td>9</td>\n",
       "      <td>355</td>\n",
       "      <td>94</td>\n",
       "    </tr>\n",
       "  </tbody>\n",
       "</table>\n",
       "</div>"
      ],
      "text/plain": [
       "      id                                 name  host_id  host_name  \\\n",
       "0  49091    COZICOMFORT LONG TERM STAY ROOM 2   266763  Francesca   \n",
       "1  50646      Pleasant Room along Bukit Timah   227796    Sujatha   \n",
       "2  56334                          COZICOMFORT   266763  Francesca   \n",
       "3  71609  Ensuite Room (Room 1 & 2) near EXPO   367042    Belinda   \n",
       "4  71896      B&B  Room 1 near Airport & EXPO   367042    Belinda   \n",
       "\n",
       "  neighbourhood_group neighbourhood  latitude  longitude     room_type  \\\n",
       "0        North Region     Woodlands   1.44255  103.79580  Private room   \n",
       "1      Central Region   Bukit Timah   1.33235  103.78521  Private room   \n",
       "2        North Region     Woodlands   1.44246  103.79667  Private room   \n",
       "3         East Region      Tampines   1.34541  103.95712  Private room   \n",
       "4         East Region      Tampines   1.34567  103.95963  Private room   \n",
       "\n",
       "   minimum_nights  number_of_reviews last_review  reviews_per_month  \\\n",
       "0             180                  1  2013-10-21               0.01   \n",
       "1              90                 18  2014-12-26               0.28   \n",
       "2               6                 20  2015-10-01               0.20   \n",
       "3               1                 14  2019-08-11               0.15   \n",
       "4               1                 22  2019-07-28               0.22   \n",
       "\n",
       "   calculated_host_listings_count  availability_365  price  \n",
       "0                               2               365     83  \n",
       "1                               1               365     81  \n",
       "2                               2               365     69  \n",
       "3                               9               353    206  \n",
       "4                               9               355     94  "
      ]
     },
     "execution_count": 6,
     "metadata": {},
     "output_type": "execute_result"
    }
   ],
   "source": [
    "listings_new = listings_df.copy()\n",
    "cols_at_end = ['price']\n",
    "listings_new = listings_new[[c for c in listings_new if c not in cols_at_end] \n",
    "        + [c for c in cols_at_end if c in listings_new]]\n",
    "listings_new.head(5)"
   ]
  },
  {
   "cell_type": "markdown",
   "id": "7e091757",
   "metadata": {},
   "source": [
    "### Handling missing data"
   ]
  },
  {
   "cell_type": "code",
   "execution_count": 7,
   "id": "fac4dfe6",
   "metadata": {},
   "outputs": [
    {
     "data": {
      "text/plain": [
       "id                                   0\n",
       "name                                 2\n",
       "host_id                              0\n",
       "host_name                            0\n",
       "neighbourhood_group                  0\n",
       "neighbourhood                        0\n",
       "latitude                             0\n",
       "longitude                            0\n",
       "room_type                            0\n",
       "minimum_nights                       0\n",
       "number_of_reviews                    0\n",
       "last_review                       2758\n",
       "reviews_per_month                 2758\n",
       "calculated_host_listings_count       0\n",
       "availability_365                     0\n",
       "price                                0\n",
       "dtype: int64"
      ]
     },
     "execution_count": 7,
     "metadata": {},
     "output_type": "execute_result"
    }
   ],
   "source": [
    "listings_new.isnull().sum()"
   ]
  },
  {
   "cell_type": "markdown",
   "id": "41456ffe",
   "metadata": {},
   "source": [
    "Pada dataset, terdapat 3 kolom yang memiliki missing data, yaitu kolom name, neighbourhood_group, dan room_type."
   ]
  },
  {
   "cell_type": "markdown",
   "id": "4f912f56",
   "metadata": {},
   "source": [
    "#### Handle missing data on 'name' column"
   ]
  },
  {
   "cell_type": "markdown",
   "id": "7fdff5a8",
   "metadata": {},
   "source": [
    "Untuk kolom name, kita menghandle missing data dengan mereplace missing data tersebut menggunakan mode dari kolom name karena kolom name berisi categorical data"
   ]
  },
  {
   "cell_type": "code",
   "execution_count": 8,
   "id": "b0e99ab6",
   "metadata": {},
   "outputs": [
    {
     "data": {
      "text/plain": [
       "Luxury hostel with in-cabin locker - Single mixed     13\n",
       "Studio Apartment - Oakwood Premier                     9\n",
       "Inviting & Cozy 1BR APT 3 mins from Tg Pagar MRT       9\n",
       "Stylish 1BR Located 7 mins from Tg Pagar MRT           8\n",
       "City-located 1BR loft apartment *BRAND NEW*            8\n",
       "                                                      ..\n",
       "Boonlay 16sqm Cosy Master Room for Rent                1\n",
       "Tanjong Pagar Pristine Studio Apartment                1\n",
       "lavLoftbed *RmT, no-sharing, wifi, mrt                 1\n",
       "Newly furnished spacious room                          1\n",
       "Amazing room with private bathroom walk to Orchard     1\n",
       "Name: name, Length: 7457, dtype: int64"
      ]
     },
     "execution_count": 8,
     "metadata": {},
     "output_type": "execute_result"
    }
   ],
   "source": [
    "listings_new.name.value_counts()"
   ]
  },
  {
   "cell_type": "code",
   "execution_count": 9,
   "id": "4c30a612",
   "metadata": {},
   "outputs": [
    {
     "data": {
      "text/plain": [
       "0    Luxury hostel with in-cabin locker - Single mixed\n",
       "dtype: object"
      ]
     },
     "execution_count": 9,
     "metadata": {},
     "output_type": "execute_result"
    }
   ],
   "source": [
    "listings_new.name.mode()"
   ]
  },
  {
   "cell_type": "markdown",
   "id": "f466d43f",
   "metadata": {},
   "source": [
    "Mode dari kolom name adalah 'Luxury hostel with in-cabin locker - Single mixed', maka missing value pada kolom ini akan direplace dengan value tersebut. Untuk mengaksesnya, menggunakan [0] dibelakang mode"
   ]
  },
  {
   "cell_type": "code",
   "execution_count": 10,
   "id": "778197b6",
   "metadata": {},
   "outputs": [
    {
     "data": {
      "text/plain": [
       "'Luxury hostel with in-cabin locker - Single mixed'"
      ]
     },
     "execution_count": 10,
     "metadata": {},
     "output_type": "execute_result"
    }
   ],
   "source": [
    "listings_new.name.mode()[0]"
   ]
  },
  {
   "cell_type": "code",
   "execution_count": 11,
   "id": "96968cd6",
   "metadata": {},
   "outputs": [],
   "source": [
    "listings_new['name'].fillna(listings_new['name'].mode()[0], inplace = True)"
   ]
  },
  {
   "cell_type": "code",
   "execution_count": 12,
   "id": "f74ecbc9",
   "metadata": {},
   "outputs": [
    {
     "data": {
      "text/plain": [
       "Luxury hostel with in-cabin locker - Single mixed     15\n",
       "Inviting & Cozy 1BR APT 3 mins from Tg Pagar MRT       9\n",
       "Studio Apartment - Oakwood Premier                     9\n",
       "Superhost 1BR APT in the heart of Tg Pagar             8\n",
       "Stylish 1BR Located 7 mins from Tg Pagar MRT           8\n",
       "                                                      ..\n",
       "Boonlay 16sqm Cosy Master Room for Rent                1\n",
       "Tanjong Pagar Pristine Studio Apartment                1\n",
       "lavLoftbed *RmT, no-sharing, wifi, mrt                 1\n",
       "Newly furnished spacious room                          1\n",
       "Amazing room with private bathroom walk to Orchard     1\n",
       "Name: name, Length: 7457, dtype: int64"
      ]
     },
     "execution_count": 12,
     "metadata": {},
     "output_type": "execute_result"
    }
   ],
   "source": [
    "listings_new.name.value_counts()"
   ]
  },
  {
   "cell_type": "code",
   "execution_count": 13,
   "id": "7e0dd19b",
   "metadata": {},
   "outputs": [
    {
     "data": {
      "text/plain": [
       "id                                   0\n",
       "name                                 0\n",
       "host_id                              0\n",
       "host_name                            0\n",
       "neighbourhood_group                  0\n",
       "neighbourhood                        0\n",
       "latitude                             0\n",
       "longitude                            0\n",
       "room_type                            0\n",
       "minimum_nights                       0\n",
       "number_of_reviews                    0\n",
       "last_review                       2758\n",
       "reviews_per_month                 2758\n",
       "calculated_host_listings_count       0\n",
       "availability_365                     0\n",
       "price                                0\n",
       "dtype: int64"
      ]
     },
     "execution_count": 13,
     "metadata": {},
     "output_type": "execute_result"
    }
   ],
   "source": [
    "listings_new.isnull().sum()"
   ]
  },
  {
   "cell_type": "markdown",
   "id": "060dd1b3",
   "metadata": {},
   "source": [
    "Kolom name sudah tidak ada missing value lagi dan direplace dengan value modenya"
   ]
  },
  {
   "cell_type": "markdown",
   "id": "e44bcac8",
   "metadata": {},
   "source": [
    "#### Handle missing data on 'last_review' column"
   ]
  },
  {
   "cell_type": "markdown",
   "id": "747747f2",
   "metadata": {},
   "source": [
    "Untuk kolom last_review, kita menghandle missing data dengan mereplace missing data tersebut menggunakan mode dari kolom last_review karena kolom last_review berisi categorical data"
   ]
  },
  {
   "cell_type": "code",
   "execution_count": 14,
   "id": "884482ea",
   "metadata": {},
   "outputs": [
    {
     "data": {
      "text/plain": [
       "2019-08-12    152\n",
       "2019-08-11    128\n",
       "2019-08-13    110\n",
       "2019-08-10     87\n",
       "2019-08-08     78\n",
       "             ... \n",
       "2016-12-03      1\n",
       "2016-01-18      1\n",
       "2016-07-27      1\n",
       "2017-08-19      1\n",
       "2019-03-22      1\n",
       "Name: last_review, Length: 1001, dtype: int64"
      ]
     },
     "execution_count": 14,
     "metadata": {},
     "output_type": "execute_result"
    }
   ],
   "source": [
    "listings_new.last_review.value_counts()"
   ]
  },
  {
   "cell_type": "markdown",
   "id": "71ec2581",
   "metadata": {},
   "source": [
    "Mode dari kolom last_review:"
   ]
  },
  {
   "cell_type": "code",
   "execution_count": 15,
   "id": "84c5b945",
   "metadata": {},
   "outputs": [
    {
     "data": {
      "text/plain": [
       "0    2019-08-12\n",
       "dtype: object"
      ]
     },
     "execution_count": 15,
     "metadata": {},
     "output_type": "execute_result"
    }
   ],
   "source": [
    "listings_new.last_review.mode()"
   ]
  },
  {
   "cell_type": "markdown",
   "id": "cab65079",
   "metadata": {},
   "source": [
    "Replace missing values:"
   ]
  },
  {
   "cell_type": "code",
   "execution_count": 16,
   "id": "beb881d4",
   "metadata": {},
   "outputs": [],
   "source": [
    "listings_new['last_review'].fillna(listings_new['last_review'].mode()[0], inplace = True)"
   ]
  },
  {
   "cell_type": "code",
   "execution_count": 17,
   "id": "144e15d2",
   "metadata": {},
   "outputs": [
    {
     "data": {
      "text/plain": [
       "2019-08-12    2910\n",
       "2019-08-11     128\n",
       "2019-08-13     110\n",
       "2019-08-10      87\n",
       "2019-08-08      78\n",
       "              ... \n",
       "2016-12-03       1\n",
       "2016-01-18       1\n",
       "2016-07-27       1\n",
       "2017-08-19       1\n",
       "2019-03-22       1\n",
       "Name: last_review, Length: 1001, dtype: int64"
      ]
     },
     "execution_count": 17,
     "metadata": {},
     "output_type": "execute_result"
    }
   ],
   "source": [
    "listings_new.last_review.value_counts()"
   ]
  },
  {
   "cell_type": "code",
   "execution_count": 18,
   "id": "3992130d",
   "metadata": {},
   "outputs": [
    {
     "data": {
      "text/plain": [
       "id                                   0\n",
       "name                                 0\n",
       "host_id                              0\n",
       "host_name                            0\n",
       "neighbourhood_group                  0\n",
       "neighbourhood                        0\n",
       "latitude                             0\n",
       "longitude                            0\n",
       "room_type                            0\n",
       "minimum_nights                       0\n",
       "number_of_reviews                    0\n",
       "last_review                          0\n",
       "reviews_per_month                 2758\n",
       "calculated_host_listings_count       0\n",
       "availability_365                     0\n",
       "price                                0\n",
       "dtype: int64"
      ]
     },
     "execution_count": 18,
     "metadata": {},
     "output_type": "execute_result"
    }
   ],
   "source": [
    "listings_new.isnull().sum()"
   ]
  },
  {
   "cell_type": "markdown",
   "id": "fecc8d2f",
   "metadata": {},
   "source": [
    "Kolom last_review sudah tidak ada missing value lagi dan direplace dengan value modenya"
   ]
  },
  {
   "cell_type": "markdown",
   "id": "d47bfd7e",
   "metadata": {},
   "source": [
    "#### Handle missing data on 'reviews_per_month' column"
   ]
  },
  {
   "cell_type": "markdown",
   "id": "ea71ece5",
   "metadata": {},
   "source": [
    "Untuk kolom reviews_per_month, kita menghandle missing data dengan mereplace missing data tersebut menggunakan mode dari kolom reviews_per_month karena lebih optimal jika kita menggunakan reviews_per_month yang paling sering muncul untuk menghindari kemungkinan penurunan akurasi dalam jumlah yang besar"
   ]
  },
  {
   "cell_type": "code",
   "execution_count": 19,
   "id": "be7c2957",
   "metadata": {},
   "outputs": [
    {
     "data": {
      "text/plain": [
       "1.00    172\n",
       "0.04    104\n",
       "0.08     96\n",
       "0.05     93\n",
       "0.12     92\n",
       "       ... \n",
       "4.02      1\n",
       "3.92      1\n",
       "3.52      1\n",
       "3.57      1\n",
       "8.00      1\n",
       "Name: reviews_per_month, Length: 527, dtype: int64"
      ]
     },
     "execution_count": 19,
     "metadata": {},
     "output_type": "execute_result"
    }
   ],
   "source": [
    "listings_new.reviews_per_month.value_counts()"
   ]
  },
  {
   "cell_type": "code",
   "execution_count": 20,
   "id": "e1f32b05",
   "metadata": {},
   "outputs": [
    {
     "data": {
      "text/plain": [
       "0    1.0\n",
       "dtype: float64"
      ]
     },
     "execution_count": 20,
     "metadata": {},
     "output_type": "execute_result"
    }
   ],
   "source": [
    "listings_new.reviews_per_month.mode()"
   ]
  },
  {
   "cell_type": "code",
   "execution_count": 21,
   "id": "28e1cdae",
   "metadata": {},
   "outputs": [],
   "source": [
    "listings_new['reviews_per_month'].fillna(listings_new['reviews_per_month'].mode()[0], inplace = True)"
   ]
  },
  {
   "cell_type": "code",
   "execution_count": 22,
   "id": "f85784b9",
   "metadata": {},
   "outputs": [
    {
     "data": {
      "text/plain": [
       "1.00    2930\n",
       "0.04     104\n",
       "0.08      96\n",
       "0.05      93\n",
       "0.10      92\n",
       "        ... \n",
       "4.02       1\n",
       "3.92       1\n",
       "3.52       1\n",
       "3.57       1\n",
       "8.00       1\n",
       "Name: reviews_per_month, Length: 527, dtype: int64"
      ]
     },
     "execution_count": 22,
     "metadata": {},
     "output_type": "execute_result"
    }
   ],
   "source": [
    "listings_new.reviews_per_month.value_counts()"
   ]
  },
  {
   "cell_type": "code",
   "execution_count": 23,
   "id": "359723d4",
   "metadata": {},
   "outputs": [
    {
     "data": {
      "text/plain": [
       "id                                0\n",
       "name                              0\n",
       "host_id                           0\n",
       "host_name                         0\n",
       "neighbourhood_group               0\n",
       "neighbourhood                     0\n",
       "latitude                          0\n",
       "longitude                         0\n",
       "room_type                         0\n",
       "minimum_nights                    0\n",
       "number_of_reviews                 0\n",
       "last_review                       0\n",
       "reviews_per_month                 0\n",
       "calculated_host_listings_count    0\n",
       "availability_365                  0\n",
       "price                             0\n",
       "dtype: int64"
      ]
     },
     "execution_count": 23,
     "metadata": {},
     "output_type": "execute_result"
    }
   ],
   "source": [
    "listings_new.isnull().sum()"
   ]
  },
  {
   "cell_type": "markdown",
   "id": "e6f8fc6e",
   "metadata": {},
   "source": [
    "Kolom reviews_per_month sudah tidak ada missing value lagi dan direplace dengan value modenya"
   ]
  },
  {
   "cell_type": "markdown",
   "id": "305ecc83",
   "metadata": {},
   "source": [
    "## 1. Discuss to find the correlation and covariance of the data (the variables used can be categorical vs categorical, categorical vs numeric, or numeric vs numeric variables)."
   ]
  },
  {
   "cell_type": "markdown",
   "id": "f4c87d38",
   "metadata": {},
   "source": [
    "### Correlation"
   ]
  },
  {
   "cell_type": "markdown",
   "id": "a8222827",
   "metadata": {},
   "source": [
    "Untuk menemukan correlation antar variabel, saya akan membuat satu contoh untuk masing-masing kategori (categorical vs categorical 1 contoh, categorical vs numeric 1 contoh, dan numeric vs numeric 1 contoh)"
   ]
  },
  {
   "cell_type": "markdown",
   "id": "df18e85f",
   "metadata": {},
   "source": [
    "#### Categorical vs Categorical"
   ]
  },
  {
   "cell_type": "markdown",
   "id": "7ae0483c",
   "metadata": {},
   "source": [
    "Untuk menghitung correlation antar categorical data tanpa encoding, kita bisa menggunakan Cramers V statistic"
   ]
  },
  {
   "cell_type": "code",
   "execution_count": 24,
   "id": "687197cb",
   "metadata": {},
   "outputs": [],
   "source": [
    "def cramers_v(x, y):\n",
    "    confusion_matrix = pd.crosstab(x,y)\n",
    "    chi2 = ss.chi2_contingency(confusion_matrix)[0]\n",
    "    n = confusion_matrix.sum().sum()\n",
    "    phi2 = chi2/n\n",
    "    r,k = confusion_matrix.shape\n",
    "    phi2corr = max(0, phi2-((k-1)*(r-1))/(n-1))\n",
    "    rcorr = r-((r-1)**2)/(n-1)\n",
    "    kcorr = k-((k-1)**2)/(n-1)\n",
    "    return np.sqrt(phi2corr/min((kcorr-1),(rcorr-1)))"
   ]
  },
  {
   "cell_type": "code",
   "execution_count": 25,
   "id": "196745af",
   "metadata": {},
   "outputs": [
    {
     "data": {
      "text/plain": [
       "0.22506158567250478"
      ]
     },
     "execution_count": 25,
     "metadata": {},
     "output_type": "execute_result"
    }
   ],
   "source": [
    "## Menghitung correlation name dengan room_type\n",
    "cramers_v(listings_new[\"name\"], listings_new[\"room_type\"])"
   ]
  },
  {
   "cell_type": "markdown",
   "id": "6d99f936",
   "metadata": {},
   "source": [
    "Dapat dilihat bahwa name dengan room_type memiliki correlation 0,225\n",
    "Berarti bisa dikatakan bahwa mereka memiliki positive correlation tetapi correlationnya sangat lemah"
   ]
  },
  {
   "cell_type": "markdown",
   "id": "4d6033b3",
   "metadata": {},
   "source": [
    "#### Categorical vs Numerical"
   ]
  },
  {
   "cell_type": "markdown",
   "id": "1adf6c5a",
   "metadata": {},
   "source": [
    "Untuk mengecek correlation antara categorical dan numerical data, kita bisa menggunakan __ANOVA__. Menghitung ANOVA bisa menggunakan library scipy.stats menggunakan method f_oneway dan outputnya adalah F dan p.\n",
    "Jika F semakin mendekati 0, maka correlation kedua variable tersebut semakin lemah.\n",
    "Disini akan digunakan __room_type (categorical independent) dan price (numerical dependent variable)__"
   ]
  },
  {
   "cell_type": "code",
   "execution_count": 26,
   "id": "beed2e53",
   "metadata": {},
   "outputs": [
    {
     "name": "stdout",
     "output_type": "stream",
     "text": [
      "Statistics Values:  131.68 \n",
      " P _Value        : 0.0\n"
     ]
    }
   ],
   "source": [
    "F, p = ss.f_oneway(listings_new[listings_new.room_type==\"Entire home/apt\"].price,\n",
    "                  listings_new[listings_new.room_type==\"Private room\"].price,\n",
    "                  listings_new[listings_new.room_type==\"Shared room\"].price)\n",
    "print(\"Statistics Values: \",np.round(F,2), \"\\n\",\"P _Value        :\",np.round(p,2))"
   ]
  },
  {
   "cell_type": "markdown",
   "id": "def30001",
   "metadata": {},
   "source": [
    "Dari hasil tersebut didapat bahwa F nya adalah 131,86 yang menandakan bahwa terdapat correlation antara room_type dengan price"
   ]
  },
  {
   "cell_type": "markdown",
   "id": "741b3b41",
   "metadata": {},
   "source": [
    "#### Numerical vs Numerical"
   ]
  },
  {
   "cell_type": "markdown",
   "id": "139fb9f0",
   "metadata": {},
   "source": [
    "Untuk menghitung correlation antar numerical data bisa digunakan Pearson dan Spearman correlation, misalnya antara variable number_of_reviews dengan price"
   ]
  },
  {
   "cell_type": "code",
   "execution_count": 27,
   "id": "e513cad7",
   "metadata": {},
   "outputs": [
    {
     "name": "stdout",
     "output_type": "stream",
     "text": [
      "Pearson Correlation:  -0.04\n",
      "Spearman Correlation:  -0.08\n"
     ]
    }
   ],
   "source": [
    "pearsonr_corr, _ = pearsonr(listings_new[\"number_of_reviews\"], listings_new[\"price\"])\n",
    "print(\"Pearson Correlation: \", np.round(pearsonr_corr,2))\n",
    "spearmanr_corr, _ = spearmanr(listings_new[\"number_of_reviews\"], listings_new[\"price\"])\n",
    "print(\"Spearman Correlation: \", np.round(spearmanr_corr,2))"
   ]
  },
  {
   "cell_type": "markdown",
   "id": "dd7d59e3",
   "metadata": {},
   "source": [
    "Karena Pearson dan Spearman correlationnya sangat mendekati 0, dapat dikatakan bahwa hampir tidak ada correlation sama sekali antara number_of_reviews dengan price"
   ]
  },
  {
   "cell_type": "markdown",
   "id": "815fe0d7",
   "metadata": {},
   "source": [
    "### Covariance"
   ]
  },
  {
   "cell_type": "markdown",
   "id": "829bf281",
   "metadata": {},
   "source": [
    "Untuk menghitung covariance diperlukan data yang numerical, berarti untuk categorical data perlu dilakukan encoding terlebih dahulu sebelum melakukan perhitungan covariance. Untuk contoh ini saya hanya akan menunjukkan perhitungan covariance untuk variables yang sudah numerical, yaitu variable number_of_reviews dengan price"
   ]
  },
  {
   "cell_type": "code",
   "execution_count": 28,
   "id": "33a8a075",
   "metadata": {},
   "outputs": [
    {
     "name": "stdout",
     "output_type": "stream",
     "text": [
      "[[   882.55017059   -424.59206261]\n",
      " [  -424.59206261 115727.60260831]]\n"
     ]
    }
   ],
   "source": [
    "covariance = cov(listings_new[\"number_of_reviews\"], listings_new[\"price\"])\n",
    "print(covariance)"
   ]
  },
  {
   "cell_type": "markdown",
   "id": "0b6e6163",
   "metadata": {},
   "source": [
    "Dari covariance matrix diatas, dapat dilihat bahwa number_of_reviews dengan price memiliki negative relation satu sama lain karena mereka memiliki nilai covariance negatif, yaitu -424"
   ]
  },
  {
   "cell_type": "markdown",
   "id": "bed156cb",
   "metadata": {},
   "source": [
    "## 2. Normalized the data using Standardization or Range Scaling method."
   ]
  },
  {
   "cell_type": "markdown",
   "id": "f5d9f9df",
   "metadata": {},
   "source": [
    "Untuk categorical data pada umumnya tidak perlu dilakukan normalization karena jika dilakukan encoding, biasanya scalenya adalah  0-1 sehingga scale differencenya sangat kecil, tidak seperti values yang memiliki range seperti 1-100000.\n",
    "Maka, normalization biasanya dilakukan/ditujukan untuk numerical variables.\n",
    "\n",
    "Untuk normalization dan feature selection & extraction, saya akan menggunakan numerical data dari dataset ini"
   ]
  },
  {
   "cell_type": "code",
   "execution_count": 29,
   "id": "e8b79cea",
   "metadata": {},
   "outputs": [
    {
     "data": {
      "text/html": [
       "<div>\n",
       "<style scoped>\n",
       "    .dataframe tbody tr th:only-of-type {\n",
       "        vertical-align: middle;\n",
       "    }\n",
       "\n",
       "    .dataframe tbody tr th {\n",
       "        vertical-align: top;\n",
       "    }\n",
       "\n",
       "    .dataframe thead th {\n",
       "        text-align: right;\n",
       "    }\n",
       "</style>\n",
       "<table border=\"1\" class=\"dataframe\">\n",
       "  <thead>\n",
       "    <tr style=\"text-align: right;\">\n",
       "      <th></th>\n",
       "      <th>id</th>\n",
       "      <th>host_id</th>\n",
       "      <th>latitude</th>\n",
       "      <th>longitude</th>\n",
       "      <th>minimum_nights</th>\n",
       "      <th>number_of_reviews</th>\n",
       "      <th>reviews_per_month</th>\n",
       "      <th>calculated_host_listings_count</th>\n",
       "      <th>availability_365</th>\n",
       "      <th>price</th>\n",
       "    </tr>\n",
       "  </thead>\n",
       "  <tbody>\n",
       "    <tr>\n",
       "      <th>0</th>\n",
       "      <td>49091</td>\n",
       "      <td>266763</td>\n",
       "      <td>1.44255</td>\n",
       "      <td>103.79580</td>\n",
       "      <td>180</td>\n",
       "      <td>1</td>\n",
       "      <td>0.01</td>\n",
       "      <td>2</td>\n",
       "      <td>365</td>\n",
       "      <td>83</td>\n",
       "    </tr>\n",
       "    <tr>\n",
       "      <th>1</th>\n",
       "      <td>50646</td>\n",
       "      <td>227796</td>\n",
       "      <td>1.33235</td>\n",
       "      <td>103.78521</td>\n",
       "      <td>90</td>\n",
       "      <td>18</td>\n",
       "      <td>0.28</td>\n",
       "      <td>1</td>\n",
       "      <td>365</td>\n",
       "      <td>81</td>\n",
       "    </tr>\n",
       "    <tr>\n",
       "      <th>2</th>\n",
       "      <td>56334</td>\n",
       "      <td>266763</td>\n",
       "      <td>1.44246</td>\n",
       "      <td>103.79667</td>\n",
       "      <td>6</td>\n",
       "      <td>20</td>\n",
       "      <td>0.20</td>\n",
       "      <td>2</td>\n",
       "      <td>365</td>\n",
       "      <td>69</td>\n",
       "    </tr>\n",
       "    <tr>\n",
       "      <th>3</th>\n",
       "      <td>71609</td>\n",
       "      <td>367042</td>\n",
       "      <td>1.34541</td>\n",
       "      <td>103.95712</td>\n",
       "      <td>1</td>\n",
       "      <td>14</td>\n",
       "      <td>0.15</td>\n",
       "      <td>9</td>\n",
       "      <td>353</td>\n",
       "      <td>206</td>\n",
       "    </tr>\n",
       "    <tr>\n",
       "      <th>4</th>\n",
       "      <td>71896</td>\n",
       "      <td>367042</td>\n",
       "      <td>1.34567</td>\n",
       "      <td>103.95963</td>\n",
       "      <td>1</td>\n",
       "      <td>22</td>\n",
       "      <td>0.22</td>\n",
       "      <td>9</td>\n",
       "      <td>355</td>\n",
       "      <td>94</td>\n",
       "    </tr>\n",
       "  </tbody>\n",
       "</table>\n",
       "</div>"
      ],
      "text/plain": [
       "      id  host_id  latitude  longitude  minimum_nights  number_of_reviews  \\\n",
       "0  49091   266763   1.44255  103.79580             180                  1   \n",
       "1  50646   227796   1.33235  103.78521              90                 18   \n",
       "2  56334   266763   1.44246  103.79667               6                 20   \n",
       "3  71609   367042   1.34541  103.95712               1                 14   \n",
       "4  71896   367042   1.34567  103.95963               1                 22   \n",
       "\n",
       "   reviews_per_month  calculated_host_listings_count  availability_365  price  \n",
       "0               0.01                               2               365     83  \n",
       "1               0.28                               1               365     81  \n",
       "2               0.20                               2               365     69  \n",
       "3               0.15                               9               353    206  \n",
       "4               0.22                               9               355     94  "
      ]
     },
     "execution_count": 29,
     "metadata": {},
     "output_type": "execute_result"
    }
   ],
   "source": [
    "listings_numeric = listings_new.select_dtypes(include='number')\n",
    "listings_numeric.head(5)"
   ]
  },
  {
   "cell_type": "markdown",
   "id": "7a8b2882",
   "metadata": {},
   "source": [
    "#### Normalization using Standardization"
   ]
  },
  {
   "cell_type": "code",
   "execution_count": 30,
   "id": "7e8ef74b",
   "metadata": {},
   "outputs": [
    {
     "data": {
      "text/html": [
       "<div>\n",
       "<style scoped>\n",
       "    .dataframe tbody tr th:only-of-type {\n",
       "        vertical-align: middle;\n",
       "    }\n",
       "\n",
       "    .dataframe tbody tr th {\n",
       "        vertical-align: top;\n",
       "    }\n",
       "\n",
       "    .dataframe thead th {\n",
       "        text-align: right;\n",
       "    }\n",
       "</style>\n",
       "<table border=\"1\" class=\"dataframe\">\n",
       "  <thead>\n",
       "    <tr style=\"text-align: right;\">\n",
       "      <th></th>\n",
       "      <th>id</th>\n",
       "      <th>host_id</th>\n",
       "      <th>latitude</th>\n",
       "      <th>longitude</th>\n",
       "      <th>minimum_nights</th>\n",
       "      <th>number_of_reviews</th>\n",
       "      <th>reviews_per_month</th>\n",
       "      <th>calculated_host_listings_count</th>\n",
       "      <th>availability_365</th>\n",
       "      <th>price</th>\n",
       "    </tr>\n",
       "  </thead>\n",
       "  <tbody>\n",
       "    <tr>\n",
       "      <th>0</th>\n",
       "      <td>-2.296403</td>\n",
       "      <td>-1.109569</td>\n",
       "      <td>4.198050</td>\n",
       "      <td>-1.213308</td>\n",
       "      <td>3.860356</td>\n",
       "      <td>-0.397477</td>\n",
       "      <td>-0.981392</td>\n",
       "      <td>-0.592769</td>\n",
       "      <td>1.069556</td>\n",
       "      <td>-0.253797</td>\n",
       "    </tr>\n",
       "    <tr>\n",
       "      <th>1</th>\n",
       "      <td>-2.296250</td>\n",
       "      <td>-1.110045</td>\n",
       "      <td>0.593859</td>\n",
       "      <td>-1.455798</td>\n",
       "      <td>1.722181</td>\n",
       "      <td>0.174801</td>\n",
       "      <td>-0.721213</td>\n",
       "      <td>-0.608122</td>\n",
       "      <td>1.069556</td>\n",
       "      <td>-0.259676</td>\n",
       "    </tr>\n",
       "    <tr>\n",
       "      <th>2</th>\n",
       "      <td>-2.295690</td>\n",
       "      <td>-1.109569</td>\n",
       "      <td>4.195107</td>\n",
       "      <td>-1.193387</td>\n",
       "      <td>-0.273450</td>\n",
       "      <td>0.242128</td>\n",
       "      <td>-0.798303</td>\n",
       "      <td>-0.592769</td>\n",
       "      <td>1.069556</td>\n",
       "      <td>-0.294953</td>\n",
       "    </tr>\n",
       "    <tr>\n",
       "      <th>3</th>\n",
       "      <td>-2.294187</td>\n",
       "      <td>-1.108345</td>\n",
       "      <td>1.020998</td>\n",
       "      <td>2.480602</td>\n",
       "      <td>-0.392238</td>\n",
       "      <td>0.040147</td>\n",
       "      <td>-0.846485</td>\n",
       "      <td>-0.485293</td>\n",
       "      <td>0.987427</td>\n",
       "      <td>0.107791</td>\n",
       "    </tr>\n",
       "    <tr>\n",
       "      <th>4</th>\n",
       "      <td>-2.294159</td>\n",
       "      <td>-1.108345</td>\n",
       "      <td>1.029502</td>\n",
       "      <td>2.538076</td>\n",
       "      <td>-0.392238</td>\n",
       "      <td>0.309454</td>\n",
       "      <td>-0.779031</td>\n",
       "      <td>-0.485293</td>\n",
       "      <td>1.001115</td>\n",
       "      <td>-0.221459</td>\n",
       "    </tr>\n",
       "  </tbody>\n",
       "</table>\n",
       "</div>"
      ],
      "text/plain": [
       "         id   host_id  latitude  longitude  minimum_nights  number_of_reviews  \\\n",
       "0 -2.296403 -1.109569  4.198050  -1.213308        3.860356          -0.397477   \n",
       "1 -2.296250 -1.110045  0.593859  -1.455798        1.722181           0.174801   \n",
       "2 -2.295690 -1.109569  4.195107  -1.193387       -0.273450           0.242128   \n",
       "3 -2.294187 -1.108345  1.020998   2.480602       -0.392238           0.040147   \n",
       "4 -2.294159 -1.108345  1.029502   2.538076       -0.392238           0.309454   \n",
       "\n",
       "   reviews_per_month  calculated_host_listings_count  availability_365  \\\n",
       "0          -0.981392                       -0.592769          1.069556   \n",
       "1          -0.721213                       -0.608122          1.069556   \n",
       "2          -0.798303                       -0.592769          1.069556   \n",
       "3          -0.846485                       -0.485293          0.987427   \n",
       "4          -0.779031                       -0.485293          1.001115   \n",
       "\n",
       "      price  \n",
       "0 -0.253797  \n",
       "1 -0.259676  \n",
       "2 -0.294953  \n",
       "3  0.107791  \n",
       "4 -0.221459  "
      ]
     },
     "execution_count": 30,
     "metadata": {},
     "output_type": "execute_result"
    }
   ],
   "source": [
    "from sklearn.preprocessing import StandardScaler\n",
    "scaler = StandardScaler()\n",
    "listings_standardized = pd.DataFrame(scaler.fit_transform(listings_numeric), columns = listings_numeric.columns)\n",
    "listings_standardized.head(5)"
   ]
  },
  {
   "cell_type": "markdown",
   "id": "14622c59",
   "metadata": {},
   "source": [
    "## 3. Do feature selection and extraction"
   ]
  },
  {
   "cell_type": "markdown",
   "id": "ee487318",
   "metadata": {},
   "source": [
    "Untuk melakukan feature selection and extraction, saya menggunakan SelectKBest dari scikit-learn untuk mendapatkan top features\n",
    "\n",
    "SelectKBest memilih feature-feature sesuai dengan k highest score (misalnya ingin memilih 4 top features, maka features yang dipilih adalah yang scorenya berada di top 4 highest scores)"
   ]
  },
  {
   "cell_type": "code",
   "execution_count": 31,
   "id": "11ddf9a9",
   "metadata": {},
   "outputs": [],
   "source": [
    "#Import SelectKBest dan f_regression\n",
    "from sklearn.feature_selection import SelectKBest\n",
    "from sklearn.feature_selection import f_regression"
   ]
  },
  {
   "cell_type": "code",
   "execution_count": 32,
   "id": "63d4d700",
   "metadata": {},
   "outputs": [
    {
     "name": "stdout",
     "output_type": "stream",
     "text": [
      "[[-2.29640274 -1.10956898  4.19805041 ... -0.98139223 -0.59276857\n",
      "   1.06955603]\n",
      " [-2.29624974 -1.11004475  0.59385877 ... -0.7212132  -0.60812221\n",
      "   1.06955603]\n",
      " [-2.2956901  -1.10956898  4.19510688 ... -0.79830328 -0.59276857\n",
      "   1.06955603]\n",
      " ...\n",
      " [ 1.44838721  2.32350012 -0.04357948 ... -0.02740247 -0.57741493\n",
      "  -0.24451526]\n",
      " [ 1.44850105  1.86426245 -0.61364355 ... -0.02740247 -0.59276857\n",
      "  -1.2232246 ]\n",
      " [ 1.4487243  -0.76133463 -0.57145292 ... -0.02740247 -0.51600037\n",
      "   1.06955603]]\n"
     ]
    }
   ],
   "source": [
    "#Extracting independent variables:\n",
    "x = listings_standardized.iloc[:,:-1].values #Extract semua kolom kecuali kolom terakhir\n",
    "print(x)"
   ]
  },
  {
   "cell_type": "code",
   "execution_count": 33,
   "id": "8e17e09f",
   "metadata": {},
   "outputs": [
    {
     "name": "stdout",
     "output_type": "stream",
     "text": [
      "[-0.2537966  -0.25967608 -0.29495297 ... -0.32729011 -0.33316959\n",
      " -0.30671193]\n"
     ]
    }
   ],
   "source": [
    "#Extracting dependent variable:\n",
    "y = listings_standardized.iloc[:,9].values #Extract kolom terakhir\n",
    "print(y)"
   ]
  },
  {
   "cell_type": "code",
   "execution_count": 34,
   "id": "2127ca97",
   "metadata": {},
   "outputs": [
    {
     "name": "stdout",
     "output_type": "stream",
     "text": [
      "Shape 4 top features:  (7907, 4)\n",
      "[[-2.29640274 -1.10956898  4.19805041 -0.39747656]\n",
      " [-2.29624974 -1.11004475  0.59385877  0.17480096]\n",
      " [-2.2956901  -1.10956898  4.19510688  0.24212773]\n",
      " ...\n",
      " [ 1.44838721  2.32350012 -0.04357948 -0.43113994]\n",
      " [ 1.44850105  1.86426245 -0.61364355 -0.43113994]\n",
      " [ 1.4487243  -0.76133463 -0.57145292 -0.43113994]]\n"
     ]
    }
   ],
   "source": [
    "# Define feature selection\n",
    "fs = SelectKBest(score_func=f_regression, k=4) #Misalnya memilih 4 top features\n",
    "# Apply feature selection\n",
    "x_selected = fs.fit_transform(x, y)\n",
    "print(\"Shape 4 top features: \", x_selected.shape)\n",
    "print(x_selected)"
   ]
  },
  {
   "cell_type": "markdown",
   "id": "75118d54",
   "metadata": {},
   "source": [
    "Dari hasil x_selected, dapat dilihat bahwa 4 top features untuk memprediksi dependent variable price adalah __id, host_id, latitude, number_of_reviews__"
   ]
  }
 ],
 "metadata": {
  "kernelspec": {
   "display_name": "Python 3 (ipykernel)",
   "language": "python",
   "name": "python3"
  },
  "language_info": {
   "codemirror_mode": {
    "name": "ipython",
    "version": 3
   },
   "file_extension": ".py",
   "mimetype": "text/x-python",
   "name": "python",
   "nbconvert_exporter": "python",
   "pygments_lexer": "ipython3",
   "version": "3.9.7"
  }
 },
 "nbformat": 4,
 "nbformat_minor": 5
}
