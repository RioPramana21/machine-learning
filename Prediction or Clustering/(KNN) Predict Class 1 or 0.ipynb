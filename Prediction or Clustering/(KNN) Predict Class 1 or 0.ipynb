{
 "cells": [
  {
   "cell_type": "markdown",
   "id": "222cf0d7",
   "metadata": {},
   "source": [
    "# 2440016804 - Rio Pramana - LA01 - Final Exam - Nomor 1"
   ]
  },
  {
   "cell_type": "markdown",
   "id": "f7c302ff",
   "metadata": {},
   "source": [
    "#### Import libraries and dataset"
   ]
  },
  {
   "cell_type": "code",
   "execution_count": 1,
   "id": "a07b1b52",
   "metadata": {},
   "outputs": [],
   "source": [
    "import pandas as pd\n",
    "import numpy as np\n",
    "import matplotlib.pyplot as plt\n",
    "from matplotlib import style\n",
    "import seaborn as sns\n",
    "import scipy"
   ]
  },
  {
   "cell_type": "code",
   "execution_count": 2,
   "id": "110ab622",
   "metadata": {},
   "outputs": [],
   "source": [
    "# Importing the dataset, downloaded file is in the same folder\n",
    "csv_path = \"knn_datasets.csv\"\n",
    "knn_df = pd.read_csv(csv_path)"
   ]
  },
  {
   "cell_type": "markdown",
   "id": "862e3707",
   "metadata": {},
   "source": [
    "## 1a. Preprocessing data"
   ]
  },
  {
   "cell_type": "markdown",
   "id": "1b9b7c10",
   "metadata": {},
   "source": [
    "### Run a quick check on the dataset"
   ]
  },
  {
   "cell_type": "code",
   "execution_count": 3,
   "id": "35248f4f",
   "metadata": {},
   "outputs": [
    {
     "data": {
      "text/plain": [
       "(480, 9)"
      ]
     },
     "execution_count": 3,
     "metadata": {},
     "output_type": "execute_result"
    }
   ],
   "source": [
    "knn_df.shape"
   ]
  },
  {
   "cell_type": "code",
   "execution_count": 4,
   "id": "345d6ed2",
   "metadata": {},
   "outputs": [
    {
     "data": {
      "text/html": [
       "<div>\n",
       "<style scoped>\n",
       "    .dataframe tbody tr th:only-of-type {\n",
       "        vertical-align: middle;\n",
       "    }\n",
       "\n",
       "    .dataframe tbody tr th {\n",
       "        vertical-align: top;\n",
       "    }\n",
       "\n",
       "    .dataframe thead th {\n",
       "        text-align: right;\n",
       "    }\n",
       "</style>\n",
       "<table border=\"1\" class=\"dataframe\">\n",
       "  <thead>\n",
       "    <tr style=\"text-align: right;\">\n",
       "      <th></th>\n",
       "      <th>X1</th>\n",
       "      <th>X2</th>\n",
       "      <th>X3</th>\n",
       "      <th>X4</th>\n",
       "      <th>X5</th>\n",
       "      <th>X6</th>\n",
       "      <th>X7</th>\n",
       "      <th>X8</th>\n",
       "      <th>X9</th>\n",
       "    </tr>\n",
       "  </thead>\n",
       "  <tbody>\n",
       "    <tr>\n",
       "      <th>0</th>\n",
       "      <td>3</td>\n",
       "      <td>126</td>\n",
       "      <td>88.0</td>\n",
       "      <td>41</td>\n",
       "      <td>235</td>\n",
       "      <td>39.3</td>\n",
       "      <td>0.704</td>\n",
       "      <td>27</td>\n",
       "      <td>0</td>\n",
       "    </tr>\n",
       "    <tr>\n",
       "      <th>1</th>\n",
       "      <td>8</td>\n",
       "      <td>99</td>\n",
       "      <td>84.0</td>\n",
       "      <td>0</td>\n",
       "      <td>0</td>\n",
       "      <td>35.4</td>\n",
       "      <td>0.388</td>\n",
       "      <td>50</td>\n",
       "      <td>0</td>\n",
       "    </tr>\n",
       "    <tr>\n",
       "      <th>2</th>\n",
       "      <td>7</td>\n",
       "      <td>196</td>\n",
       "      <td>90.0</td>\n",
       "      <td>0</td>\n",
       "      <td>0</td>\n",
       "      <td>39.8</td>\n",
       "      <td>0.451</td>\n",
       "      <td>41</td>\n",
       "      <td>1</td>\n",
       "    </tr>\n",
       "    <tr>\n",
       "      <th>3</th>\n",
       "      <td>9</td>\n",
       "      <td>119</td>\n",
       "      <td>80.0</td>\n",
       "      <td>35</td>\n",
       "      <td>0</td>\n",
       "      <td>29.0</td>\n",
       "      <td>0.263</td>\n",
       "      <td>29</td>\n",
       "      <td>1</td>\n",
       "    </tr>\n",
       "    <tr>\n",
       "      <th>4</th>\n",
       "      <td>11</td>\n",
       "      <td>143</td>\n",
       "      <td>94.0</td>\n",
       "      <td>33</td>\n",
       "      <td>146</td>\n",
       "      <td>36.6</td>\n",
       "      <td>0.254</td>\n",
       "      <td>51</td>\n",
       "      <td>1</td>\n",
       "    </tr>\n",
       "  </tbody>\n",
       "</table>\n",
       "</div>"
      ],
      "text/plain": [
       "   X1   X2    X3  X4   X5    X6     X7  X8  X9\n",
       "0   3  126  88.0  41  235  39.3  0.704  27   0\n",
       "1   8   99  84.0   0    0  35.4  0.388  50   0\n",
       "2   7  196  90.0   0    0  39.8  0.451  41   1\n",
       "3   9  119  80.0  35    0  29.0  0.263  29   1\n",
       "4  11  143  94.0  33  146  36.6  0.254  51   1"
      ]
     },
     "execution_count": 4,
     "metadata": {},
     "output_type": "execute_result"
    }
   ],
   "source": [
    "knn_df.head(5)"
   ]
  },
  {
   "cell_type": "code",
   "execution_count": 5,
   "id": "77b01857",
   "metadata": {},
   "outputs": [
    {
     "name": "stdout",
     "output_type": "stream",
     "text": [
      "<class 'pandas.core.frame.DataFrame'>\n",
      "RangeIndex: 480 entries, 0 to 479\n",
      "Data columns (total 9 columns):\n",
      " #   Column  Non-Null Count  Dtype  \n",
      "---  ------  --------------  -----  \n",
      " 0   X1      480 non-null    int64  \n",
      " 1   X2      480 non-null    int64  \n",
      " 2   X3      479 non-null    float64\n",
      " 3   X4      480 non-null    int64  \n",
      " 4   X5      480 non-null    int64  \n",
      " 5   X6      480 non-null    float64\n",
      " 6   X7      480 non-null    float64\n",
      " 7   X8      480 non-null    int64  \n",
      " 8   X9      480 non-null    int64  \n",
      "dtypes: float64(3), int64(6)\n",
      "memory usage: 33.9 KB\n"
     ]
    }
   ],
   "source": [
    "knn_df.info()"
   ]
  },
  {
   "cell_type": "markdown",
   "id": "f2457b9a",
   "metadata": {},
   "source": [
    "### Check for missing data"
   ]
  },
  {
   "cell_type": "code",
   "execution_count": 6,
   "id": "d5051432",
   "metadata": {},
   "outputs": [
    {
     "data": {
      "text/plain": [
       "X1    0\n",
       "X2    0\n",
       "X3    1\n",
       "X4    0\n",
       "X5    0\n",
       "X6    0\n",
       "X7    0\n",
       "X8    0\n",
       "X9    0\n",
       "dtype: int64"
      ]
     },
     "execution_count": 6,
     "metadata": {},
     "output_type": "execute_result"
    }
   ],
   "source": [
    "knn_df.isnull().sum()"
   ]
  },
  {
   "cell_type": "markdown",
   "id": "1d7d1df5",
   "metadata": {},
   "source": [
    "There is 1 (one) missing data on X3 variable"
   ]
  },
  {
   "cell_type": "markdown",
   "id": "605d4658",
   "metadata": {},
   "source": [
    "### Filling Missing Data"
   ]
  },
  {
   "cell_type": "markdown",
   "id": "7339cd66",
   "metadata": {},
   "source": [
    "X3 has a data type of float64. The possible values for this variable is infinite, thus making it a continuous variable. Therefore, I will fill the missing value on X3 using the mean of the column's values"
   ]
  },
  {
   "cell_type": "code",
   "execution_count": 7,
   "id": "4fe9312a",
   "metadata": {},
   "outputs": [
    {
     "data": {
      "text/html": [
       "<div>\n",
       "<style scoped>\n",
       "    .dataframe tbody tr th:only-of-type {\n",
       "        vertical-align: middle;\n",
       "    }\n",
       "\n",
       "    .dataframe tbody tr th {\n",
       "        vertical-align: top;\n",
       "    }\n",
       "\n",
       "    .dataframe thead th {\n",
       "        text-align: right;\n",
       "    }\n",
       "</style>\n",
       "<table border=\"1\" class=\"dataframe\">\n",
       "  <thead>\n",
       "    <tr style=\"text-align: right;\">\n",
       "      <th></th>\n",
       "      <th>X1</th>\n",
       "      <th>X2</th>\n",
       "      <th>X3</th>\n",
       "      <th>X4</th>\n",
       "      <th>X5</th>\n",
       "      <th>X6</th>\n",
       "      <th>X7</th>\n",
       "      <th>X8</th>\n",
       "      <th>X9</th>\n",
       "    </tr>\n",
       "  </thead>\n",
       "  <tbody>\n",
       "    <tr>\n",
       "      <th>17</th>\n",
       "      <td>9</td>\n",
       "      <td>102</td>\n",
       "      <td>NaN</td>\n",
       "      <td>37</td>\n",
       "      <td>0</td>\n",
       "      <td>32.9</td>\n",
       "      <td>0.665</td>\n",
       "      <td>46</td>\n",
       "      <td>1</td>\n",
       "    </tr>\n",
       "  </tbody>\n",
       "</table>\n",
       "</div>"
      ],
      "text/plain": [
       "    X1   X2  X3  X4  X5    X6     X7  X8  X9\n",
       "17   9  102 NaN  37   0  32.9  0.665  46   1"
      ]
     },
     "execution_count": 7,
     "metadata": {},
     "output_type": "execute_result"
    }
   ],
   "source": [
    "#Check row in which the value of X3 is null\n",
    "knn_df[knn_df.isnull().any(axis=1)]"
   ]
  },
  {
   "cell_type": "code",
   "execution_count": 8,
   "id": "0762b587",
   "metadata": {},
   "outputs": [],
   "source": [
    "knn_df[\"X3\"] = knn_df[\"X3\"].fillna(knn_df[\"X3\"].mean()) #Replace the missing value"
   ]
  },
  {
   "cell_type": "code",
   "execution_count": 9,
   "id": "7df7a7c3",
   "metadata": {},
   "outputs": [
    {
     "data": {
      "text/html": [
       "<div>\n",
       "<style scoped>\n",
       "    .dataframe tbody tr th:only-of-type {\n",
       "        vertical-align: middle;\n",
       "    }\n",
       "\n",
       "    .dataframe tbody tr th {\n",
       "        vertical-align: top;\n",
       "    }\n",
       "\n",
       "    .dataframe thead th {\n",
       "        text-align: right;\n",
       "    }\n",
       "</style>\n",
       "<table border=\"1\" class=\"dataframe\">\n",
       "  <thead>\n",
       "    <tr style=\"text-align: right;\">\n",
       "      <th></th>\n",
       "      <th>X1</th>\n",
       "      <th>X2</th>\n",
       "      <th>X3</th>\n",
       "      <th>X4</th>\n",
       "      <th>X5</th>\n",
       "      <th>X6</th>\n",
       "      <th>X7</th>\n",
       "      <th>X8</th>\n",
       "      <th>X9</th>\n",
       "    </tr>\n",
       "  </thead>\n",
       "  <tbody>\n",
       "    <tr>\n",
       "      <th>17</th>\n",
       "      <td>9</td>\n",
       "      <td>102</td>\n",
       "      <td>69.033403</td>\n",
       "      <td>37</td>\n",
       "      <td>0</td>\n",
       "      <td>32.9</td>\n",
       "      <td>0.665</td>\n",
       "      <td>46</td>\n",
       "      <td>1</td>\n",
       "    </tr>\n",
       "  </tbody>\n",
       "</table>\n",
       "</div>"
      ],
      "text/plain": [
       "    X1   X2         X3  X4  X5    X6     X7  X8  X9\n",
       "17   9  102  69.033403  37   0  32.9  0.665  46   1"
      ]
     },
     "execution_count": 9,
     "metadata": {},
     "output_type": "execute_result"
    }
   ],
   "source": [
    "#Recheck the row\n",
    "knn_df.loc[[17]]"
   ]
  },
  {
   "cell_type": "code",
   "execution_count": 10,
   "id": "331edffe",
   "metadata": {},
   "outputs": [
    {
     "data": {
      "text/plain": [
       "X1    0\n",
       "X2    0\n",
       "X3    0\n",
       "X4    0\n",
       "X5    0\n",
       "X6    0\n",
       "X7    0\n",
       "X8    0\n",
       "X9    0\n",
       "dtype: int64"
      ]
     },
     "execution_count": 10,
     "metadata": {},
     "output_type": "execute_result"
    }
   ],
   "source": [
    "#Recheck the number of missing data in knn_df\n",
    "knn_df.isnull().sum()"
   ]
  },
  {
   "cell_type": "markdown",
   "id": "dc8d0408",
   "metadata": {},
   "source": [
    "As we can see, the missing data has been replaced with X3's mean thus we have no more missing data"
   ]
  },
  {
   "cell_type": "markdown",
   "id": "4193ab21",
   "metadata": {},
   "source": [
    "#### Check Data Summarization"
   ]
  },
  {
   "cell_type": "code",
   "execution_count": 11,
   "id": "6191cc43",
   "metadata": {},
   "outputs": [
    {
     "data": {
      "text/html": [
       "<div>\n",
       "<style scoped>\n",
       "    .dataframe tbody tr th:only-of-type {\n",
       "        vertical-align: middle;\n",
       "    }\n",
       "\n",
       "    .dataframe tbody tr th {\n",
       "        vertical-align: top;\n",
       "    }\n",
       "\n",
       "    .dataframe thead th {\n",
       "        text-align: right;\n",
       "    }\n",
       "</style>\n",
       "<table border=\"1\" class=\"dataframe\">\n",
       "  <thead>\n",
       "    <tr style=\"text-align: right;\">\n",
       "      <th></th>\n",
       "      <th>X1</th>\n",
       "      <th>X2</th>\n",
       "      <th>X3</th>\n",
       "      <th>X4</th>\n",
       "      <th>X5</th>\n",
       "      <th>X6</th>\n",
       "      <th>X7</th>\n",
       "      <th>X8</th>\n",
       "      <th>X9</th>\n",
       "    </tr>\n",
       "  </thead>\n",
       "  <tbody>\n",
       "    <tr>\n",
       "      <th>count</th>\n",
       "      <td>480.000000</td>\n",
       "      <td>480.000000</td>\n",
       "      <td>480.000000</td>\n",
       "      <td>480.000000</td>\n",
       "      <td>480.000000</td>\n",
       "      <td>480.000000</td>\n",
       "      <td>480.000000</td>\n",
       "      <td>480.000000</td>\n",
       "      <td>480.000000</td>\n",
       "    </tr>\n",
       "    <tr>\n",
       "      <th>mean</th>\n",
       "      <td>3.779167</td>\n",
       "      <td>121.087500</td>\n",
       "      <td>69.033403</td>\n",
       "      <td>20.714583</td>\n",
       "      <td>79.135417</td>\n",
       "      <td>32.022083</td>\n",
       "      <td>0.485019</td>\n",
       "      <td>32.916667</td>\n",
       "      <td>0.352083</td>\n",
       "    </tr>\n",
       "    <tr>\n",
       "      <th>std</th>\n",
       "      <td>3.335327</td>\n",
       "      <td>32.312033</td>\n",
       "      <td>19.080396</td>\n",
       "      <td>15.632784</td>\n",
       "      <td>114.186313</td>\n",
       "      <td>8.145896</td>\n",
       "      <td>0.337495</td>\n",
       "      <td>11.606336</td>\n",
       "      <td>0.478118</td>\n",
       "    </tr>\n",
       "    <tr>\n",
       "      <th>min</th>\n",
       "      <td>0.000000</td>\n",
       "      <td>0.000000</td>\n",
       "      <td>0.000000</td>\n",
       "      <td>0.000000</td>\n",
       "      <td>0.000000</td>\n",
       "      <td>0.000000</td>\n",
       "      <td>0.078000</td>\n",
       "      <td>21.000000</td>\n",
       "      <td>0.000000</td>\n",
       "    </tr>\n",
       "    <tr>\n",
       "      <th>25%</th>\n",
       "      <td>1.000000</td>\n",
       "      <td>99.750000</td>\n",
       "      <td>64.000000</td>\n",
       "      <td>0.000000</td>\n",
       "      <td>0.000000</td>\n",
       "      <td>27.075000</td>\n",
       "      <td>0.254000</td>\n",
       "      <td>24.000000</td>\n",
       "      <td>0.000000</td>\n",
       "    </tr>\n",
       "    <tr>\n",
       "      <th>50%</th>\n",
       "      <td>3.000000</td>\n",
       "      <td>117.000000</td>\n",
       "      <td>70.000000</td>\n",
       "      <td>23.000000</td>\n",
       "      <td>36.500000</td>\n",
       "      <td>32.000000</td>\n",
       "      <td>0.384000</td>\n",
       "      <td>29.000000</td>\n",
       "      <td>0.000000</td>\n",
       "    </tr>\n",
       "    <tr>\n",
       "      <th>75%</th>\n",
       "      <td>6.000000</td>\n",
       "      <td>142.000000</td>\n",
       "      <td>80.000000</td>\n",
       "      <td>33.000000</td>\n",
       "      <td>122.750000</td>\n",
       "      <td>36.600000</td>\n",
       "      <td>0.645500</td>\n",
       "      <td>39.000000</td>\n",
       "      <td>1.000000</td>\n",
       "    </tr>\n",
       "    <tr>\n",
       "      <th>max</th>\n",
       "      <td>17.000000</td>\n",
       "      <td>197.000000</td>\n",
       "      <td>122.000000</td>\n",
       "      <td>63.000000</td>\n",
       "      <td>744.000000</td>\n",
       "      <td>67.100000</td>\n",
       "      <td>2.420000</td>\n",
       "      <td>81.000000</td>\n",
       "      <td>1.000000</td>\n",
       "    </tr>\n",
       "  </tbody>\n",
       "</table>\n",
       "</div>"
      ],
      "text/plain": [
       "               X1          X2          X3          X4          X5          X6  \\\n",
       "count  480.000000  480.000000  480.000000  480.000000  480.000000  480.000000   \n",
       "mean     3.779167  121.087500   69.033403   20.714583   79.135417   32.022083   \n",
       "std      3.335327   32.312033   19.080396   15.632784  114.186313    8.145896   \n",
       "min      0.000000    0.000000    0.000000    0.000000    0.000000    0.000000   \n",
       "25%      1.000000   99.750000   64.000000    0.000000    0.000000   27.075000   \n",
       "50%      3.000000  117.000000   70.000000   23.000000   36.500000   32.000000   \n",
       "75%      6.000000  142.000000   80.000000   33.000000  122.750000   36.600000   \n",
       "max     17.000000  197.000000  122.000000   63.000000  744.000000   67.100000   \n",
       "\n",
       "               X7          X8          X9  \n",
       "count  480.000000  480.000000  480.000000  \n",
       "mean     0.485019   32.916667    0.352083  \n",
       "std      0.337495   11.606336    0.478118  \n",
       "min      0.078000   21.000000    0.000000  \n",
       "25%      0.254000   24.000000    0.000000  \n",
       "50%      0.384000   29.000000    0.000000  \n",
       "75%      0.645500   39.000000    1.000000  \n",
       "max      2.420000   81.000000    1.000000  "
      ]
     },
     "execution_count": 11,
     "metadata": {},
     "output_type": "execute_result"
    }
   ],
   "source": [
    "knn_df.describe()"
   ]
  },
  {
   "cell_type": "markdown",
   "id": "b01eaca3",
   "metadata": {},
   "source": [
    "## 1b. Feature Selection (attributes with high correlation with X9)"
   ]
  },
  {
   "cell_type": "markdown",
   "id": "d7951570",
   "metadata": {},
   "source": [
    "For feature selection, we will select attributes that have high correlation with X9. We will use correlation coefficients to do this"
   ]
  },
  {
   "cell_type": "markdown",
   "id": "34cf6208",
   "metadata": {},
   "source": [
    "#### Displaying correlation matrix"
   ]
  },
  {
   "cell_type": "code",
   "execution_count": 12,
   "id": "9a8e7ae5",
   "metadata": {},
   "outputs": [
    {
     "data": {
      "image/png": "[encoded data removed]",
      "text/plain": [
       "<Figure size 720x576 with 2 Axes>"
      ]
     },
     "metadata": {
      "needs_background": "light"
     },
     "output_type": "display_data"
    }
   ],
   "source": [
    "correlation = knn_df.corr()\n",
    "plt.figure(figsize=(10,8))\n",
    "plt.title('Correlation of Attributes with Class variable')\n",
    "a = sns.heatmap(correlation, square=True, annot=True, fmt='.2f', linecolor='white')\n",
    "a.set_xticklabels(a.get_xticklabels(), rotation=90)\n",
    "a.set_yticklabels(a.get_yticklabels(), rotation=30)           \n",
    "plt.show()"
   ]
  },
  {
   "cell_type": "code",
   "execution_count": 13,
   "id": "30850a2e",
   "metadata": {},
   "outputs": [
    {
     "data": {
      "text/plain": [
       "X9    1.000000\n",
       "X2    0.442458\n",
       "X6    0.333234\n",
       "X1    0.226904\n",
       "X8    0.195662\n",
       "X7    0.177169\n",
       "X5    0.119389\n",
       "X4    0.051739\n",
       "X3    0.043569\n",
       "Name: X9, dtype: float64"
      ]
     },
     "execution_count": 13,
     "metadata": {},
     "output_type": "execute_result"
    }
   ],
   "source": [
    "#Displaying correlation coefficients from highest to lowest\n",
    "correlation[\"X9\"].sort_values(ascending=False)"
   ]
  },
  {
   "cell_type": "markdown",
   "id": "f70d3303",
   "metadata": {},
   "source": [
    "As we can see from the results above, the highest correlation coefficient is 0.44 (X2) and the lowest correlation coefficient is 0.04 (X3). Note that X9 is the target variable so it will have a correlation coefficient of 1 so we will not consider this particular coefficient/variable for features.\n",
    "\n",
    "To select the features, I will set the threshold to be 0.2 (I consider that correlation coefficient > 0.2 is high enough in this case), so every feature that has correlation coefficient > 0.2 will be selected for this KNN algorithm. These features are X2, X6, and X1"
   ]
  },
  {
   "cell_type": "markdown",
   "id": "42867c40",
   "metadata": {},
   "source": [
    "#### Select Features Code"
   ]
  },
  {
   "cell_type": "code",
   "execution_count": 14,
   "id": "7b17c782",
   "metadata": {},
   "outputs": [
    {
     "data": {
      "text/plain": [
       "Index(['X1', 'X2', 'X6', 'X9'], dtype='object')"
      ]
     },
     "execution_count": 14,
     "metadata": {},
     "output_type": "execute_result"
    }
   ],
   "source": [
    "cor_target = abs(correlation[\"X9\"])\n",
    "high_corr = cor_target[cor_target >= 0.2] #Selecting variables with coefficient > 0.2\n",
    "high_corr.index"
   ]
  },
  {
   "cell_type": "code",
   "execution_count": 15,
   "id": "10eee8b7",
   "metadata": {},
   "outputs": [
    {
     "data": {
      "text/plain": [
       "Index(['X1', 'X2', 'X6'], dtype='object')"
      ]
     },
     "execution_count": 15,
     "metadata": {},
     "output_type": "execute_result"
    }
   ],
   "source": [
    "#Instead of removing X9 from high corr, I will create a new object for selected features\n",
    "relevant_features = high_corr.drop('X9') #Selecting features\n",
    "relevant_features.index #Displaying features selected\n",
    "\n",
    "#This way, I can still use high_corr to create a new dataframe with selected features + target variable"
   ]
  },
  {
   "cell_type": "markdown",
   "id": "3a022014",
   "metadata": {},
   "source": [
    "### Creating new dataframe/dataset with selected features + target variable"
   ]
  },
  {
   "cell_type": "code",
   "execution_count": 16,
   "id": "7355427e",
   "metadata": {},
   "outputs": [
    {
     "data": {
      "text/plain": [
       "(480, 4)"
      ]
     },
     "execution_count": 16,
     "metadata": {},
     "output_type": "execute_result"
    }
   ],
   "source": [
    "knn_df_selected = knn_df[high_corr.index]\n",
    "knn_df_selected.shape"
   ]
  },
  {
   "cell_type": "code",
   "execution_count": 17,
   "id": "8a32eb83",
   "metadata": {},
   "outputs": [
    {
     "data": {
      "text/html": [
       "<div>\n",
       "<style scoped>\n",
       "    .dataframe tbody tr th:only-of-type {\n",
       "        vertical-align: middle;\n",
       "    }\n",
       "\n",
       "    .dataframe tbody tr th {\n",
       "        vertical-align: top;\n",
       "    }\n",
       "\n",
       "    .dataframe thead th {\n",
       "        text-align: right;\n",
       "    }\n",
       "</style>\n",
       "<table border=\"1\" class=\"dataframe\">\n",
       "  <thead>\n",
       "    <tr style=\"text-align: right;\">\n",
       "      <th></th>\n",
       "      <th>X1</th>\n",
       "      <th>X2</th>\n",
       "      <th>X6</th>\n",
       "      <th>X9</th>\n",
       "    </tr>\n",
       "  </thead>\n",
       "  <tbody>\n",
       "    <tr>\n",
       "      <th>0</th>\n",
       "      <td>3</td>\n",
       "      <td>126</td>\n",
       "      <td>39.3</td>\n",
       "      <td>0</td>\n",
       "    </tr>\n",
       "    <tr>\n",
       "      <th>1</th>\n",
       "      <td>8</td>\n",
       "      <td>99</td>\n",
       "      <td>35.4</td>\n",
       "      <td>0</td>\n",
       "    </tr>\n",
       "    <tr>\n",
       "      <th>2</th>\n",
       "      <td>7</td>\n",
       "      <td>196</td>\n",
       "      <td>39.8</td>\n",
       "      <td>1</td>\n",
       "    </tr>\n",
       "    <tr>\n",
       "      <th>3</th>\n",
       "      <td>9</td>\n",
       "      <td>119</td>\n",
       "      <td>29.0</td>\n",
       "      <td>1</td>\n",
       "    </tr>\n",
       "    <tr>\n",
       "      <th>4</th>\n",
       "      <td>11</td>\n",
       "      <td>143</td>\n",
       "      <td>36.6</td>\n",
       "      <td>1</td>\n",
       "    </tr>\n",
       "  </tbody>\n",
       "</table>\n",
       "</div>"
      ],
      "text/plain": [
       "   X1   X2    X6  X9\n",
       "0   3  126  39.3   0\n",
       "1   8   99  35.4   0\n",
       "2   7  196  39.8   1\n",
       "3   9  119  29.0   1\n",
       "4  11  143  36.6   1"
      ]
     },
     "execution_count": 17,
     "metadata": {},
     "output_type": "execute_result"
    }
   ],
   "source": [
    "knn_df_selected.head(5)"
   ]
  },
  {
   "cell_type": "markdown",
   "id": "92a1d27e",
   "metadata": {},
   "source": [
    "## 1c. Splitting Dataset"
   ]
  },
  {
   "cell_type": "code",
   "execution_count": 18,
   "id": "1fa34f0d",
   "metadata": {},
   "outputs": [],
   "source": [
    "#Extracting independent variables:\n",
    "x = knn_df_selected.iloc[:,:-1].values #Extract every column except the last one\n",
    "#Extracting dependent variable:\n",
    "y = knn_df_selected.iloc[:,3].values #Extract the last column"
   ]
  },
  {
   "cell_type": "markdown",
   "id": "3a3a329d",
   "metadata": {},
   "source": [
    "#### Feature Scaling"
   ]
  },
  {
   "cell_type": "markdown",
   "id": "abe458d5",
   "metadata": {},
   "source": [
    "I assumed I'm not allowed to use scikit-learn for feature scaling. Therefore, I will use Pandas/max() and min() to replicate feature scaling with min-max scaling"
   ]
  },
  {
   "cell_type": "code",
   "execution_count": 19,
   "id": "90911afb",
   "metadata": {},
   "outputs": [
    {
     "data": {
      "text/plain": [
       "array([[  3. , 126. ,  39.3],\n",
       "       [  8. ,  99. ,  35.4],\n",
       "       [  7. , 196. ,  39.8],\n",
       "       ...,\n",
       "       [  2. ,  81. ,  30.1],\n",
       "       [  7. , 195. ,  25.1],\n",
       "       [  6. , 154. ,  29.3]])"
      ]
     },
     "execution_count": 19,
     "metadata": {},
     "output_type": "execute_result"
    }
   ],
   "source": [
    "x #Display x before feature scaling"
   ]
  },
  {
   "cell_type": "code",
   "execution_count": 20,
   "id": "2082b331",
   "metadata": {},
   "outputs": [
    {
     "data": {
      "text/plain": [
       "array([[0.01522843, 0.63959391, 0.19949239],\n",
       "       [0.04060914, 0.50253807, 0.17969543],\n",
       "       [0.03553299, 0.99492386, 0.20203046],\n",
       "       ...,\n",
       "       [0.01015228, 0.41116751, 0.15279188],\n",
       "       [0.03553299, 0.98984772, 0.12741117],\n",
       "       [0.03045685, 0.78172589, 0.14873096]])"
      ]
     },
     "execution_count": 20,
     "metadata": {},
     "output_type": "execute_result"
    }
   ],
   "source": [
    "x = (x - x.min()) / (x.max() - x.min()) #Min-max scaling using max() and min()\n",
    "x #Display x after feature scaling"
   ]
  },
  {
   "cell_type": "markdown",
   "id": "8c6fcbd8",
   "metadata": {},
   "source": [
    "### Splitting Dataset using 3:1 ratio"
   ]
  },
  {
   "cell_type": "markdown",
   "id": "f7b583aa",
   "metadata": {},
   "source": [
    "I will split the dataset into 75% training set and 25% test set according to the requirement using sklearn"
   ]
  },
  {
   "cell_type": "code",
   "execution_count": 21,
   "id": "6d4dae76",
   "metadata": {},
   "outputs": [
    {
     "name": "stdout",
     "output_type": "stream",
     "text": [
      "Train set:  (360, 3) (360,)\n",
      "Test set:  (120, 3) (120,)\n"
     ]
    }
   ],
   "source": [
    "#Import library scikit-learn\n",
    "from sklearn.model_selection import train_test_split\n",
    "#Split dataset with 25% test size\n",
    "X_train, X_test, y_train, y_test = train_test_split(x, y, test_size = 0.25, random_state = 0)\n",
    "#Print shape of each set\n",
    "print('Train set: ', X_train.shape, y_train.shape)\n",
    "print('Test set: ', X_test.shape, y_test.shape)"
   ]
  },
  {
   "cell_type": "code",
   "execution_count": 22,
   "id": "df8996a9",
   "metadata": {},
   "outputs": [
    {
     "name": "stdout",
     "output_type": "stream",
     "text": [
      "[[0.04060914 0.37563452 0.17918782]\n",
      " [0.01015228 0.50761421 0.19187817]\n",
      " [0.02030457 0.73096447 0.19543147]\n",
      " ...\n",
      " [0.         0.47208122 0.14568528]\n",
      " [0.01015228 0.55329949 0.21675127]\n",
      " [0.03553299 0.8071066  0.15431472]]\n",
      "[0 0 1 1 1 0 1 1 0 0 1 1 0 1 0 1 0 0 0 1 0 0 0 0 0 1 0 0 0 0 0 0 0 1 0 0 0\n",
      " 0 1 0 0 0 1 0 1 0 0 0 0 1 1 1 0 0 0 1 0 1 1 0 1 1 0 0 0 0 0 1 0 0 0 0 1 1\n",
      " 1 0 0 0 0 0 1 0 0 1 0 0 0 1 0 0 0 1 0 1 1 0 0 1 0 0 1 0 0 0 1 0 1 0 0 0 1\n",
      " 0 0 0 1 1 1 1 0 0 0 0 1 1 1 1 0 0 0 1 0 1 0 0 0 0 1 0 0 1 0 0 0 0 0 0 0 0\n",
      " 1 1 0 1 1 1 1 0 0 1 0 0 0 1 1 0 1 1 0 1 0 0 1 1 1 1 0 0 1 0 0 0 0 0 0 1 0\n",
      " 0 0 0 1 0 1 0 1 0 1 0 0 1 0 0 0 1 1 0 0 1 1 0 0 0 0 0 1 1 0 0 1 0 0 1 0 0\n",
      " 0 1 0 1 1 0 1 0 0 1 0 1 1 0 0 0 1 1 0 0 1 0 0 1 0 0 1 1 1 0 1 0 1 0 0 0 0\n",
      " 0 1 0 0 0 0 0 0 0 0 0 1 0 0 0 0 0 0 0 0 1 1 0 1 0 1 0 0 0 0 0 0 0 1 1 0 1\n",
      " 1 0 1 0 0 0 0 1 0 0 0 1 1 0 0 0 0 0 0 1 1 0 0 0 0 1 1 0 0 1 1 0 0 0 1 0 0\n",
      " 0 1 1 1 1 0 0 0 1 0 0 0 0 0 1 0 0 1 0 0 1 0 0 0 0 0 1]\n"
     ]
    }
   ],
   "source": [
    "#Display training set\n",
    "print(X_train)\n",
    "print(y_train)"
   ]
  },
  {
   "cell_type": "code",
   "execution_count": 23,
   "id": "aa16d34a",
   "metadata": {},
   "outputs": [
    {
     "name": "stdout",
     "output_type": "stream",
     "text": [
      "[[0.02030457 0.52284264 0.12182741]\n",
      " [0.02030457 0.78172589 0.16649746]\n",
      " [0.03553299 0.5177665  0.18883249]\n",
      " [0.03553299 0.81725888 0.15431472]\n",
      " [0.01522843 0.56345178 0.11472081]\n",
      " [0.         0.5786802  0.22436548]\n",
      " [0.01522843 0.65482234 0.13401015]\n",
      " [0.         0.60913706 0.15482234]\n",
      " [0.04060914 0.42639594 0.19441624]\n",
      " [0.03553299 0.6751269  0.20406091]\n",
      " [0.02030457 0.74619289 0.17715736]\n",
      " [0.         0.65482234 0.15837563]\n",
      " [0.00507614 0.36040609 0.1106599 ]\n",
      " [0.01522843 0.58883249 0.11928934]\n",
      " [0.05076142 0.51269036 0.23147208]\n",
      " [0.04568528 0.93401015 0.15228426]\n",
      " [0.03045685 0.73096447 0.17208122]\n",
      " [0.01015228 0.54314721 0.17055838]\n",
      " [0.04060914 0.59898477 0.11725888]\n",
      " [0.06091371 0.7106599  0.19898477]\n",
      " [0.02030457 0.50253807 0.12994924]\n",
      " [0.         0.82233503 0.27005076]\n",
      " [0.02538071 0.48730964 0.17055838]\n",
      " [0.         0.50761421 0.23756345]\n",
      " [0.03045685 0.5177665  0.18121827]\n",
      " [0.03553299 0.9035533  0.20253807]\n",
      " [0.         0.52791878 0.09340102]\n",
      " [0.02538071 0.55837563 0.1319797 ]\n",
      " [0.07106599 0.88832487 0.17055838]\n",
      " [0.01522843 0.41116751 0.13959391]\n",
      " [0.01015228 0.60406091 0.09949239]\n",
      " [0.01522843 0.44670051 0.12588832]\n",
      " [0.00507614 0.49238579 0.09238579]\n",
      " [0.00507614 0.44162437 0.18883249]\n",
      " [0.         0.51269036 0.11116751]\n",
      " [0.02030457 0.75126904 0.15685279]\n",
      " [0.         0.59390863 0.1715736 ]\n",
      " [0.01522843 0.96954315 0.15685279]\n",
      " [0.01015228 0.5177665  0.23096447]\n",
      " [0.04060914 0.53299492 0.21979695]\n",
      " [0.02538071 0.55329949 0.18274112]\n",
      " [0.03045685 0.47208122 0.14568528]\n",
      " [0.04568528 0.60913706 0.10558376]\n",
      " [0.02030457 0.59390863 0.15076142]\n",
      " [0.04060914 0.95431472 0.24314721]\n",
      " [0.04060914 0.50253807 0.17969543]\n",
      " [0.02538071 0.         0.20812183]\n",
      " [0.01522843 0.71573604 0.15228426]\n",
      " [0.02030457 0.48730964 0.10558376]\n",
      " [0.         0.74619289 0.21725888]\n",
      " [0.04568528 0.56852792 0.17360406]\n",
      " [0.00507614 0.44162437 0.17563452]\n",
      " [0.02538071 0.58375635 0.15837563]\n",
      " [0.04568528 0.79187817 0.17411168]\n",
      " [0.05583756 0.78680203 0.16903553]\n",
      " [0.02538071 0.62944162 0.17258883]\n",
      " [0.01522843 0.56345178 0.15279188]\n",
      " [0.         0.59898477 0.        ]\n",
      " [0.         0.42639594 0.18172589]\n",
      " [0.03045685 0.53299492 0.15634518]\n",
      " [0.         0.69543147 0.13857868]\n",
      " [0.01015228 0.4213198  0.18680203]\n",
      " [0.04568528 0.7715736  0.17360406]\n",
      " [0.01015228 0.58375635 0.15634518]\n",
      " [0.02538071 0.55329949 0.18172589]\n",
      " [0.00507614 0.46192893 0.14822335]\n",
      " [0.01015228 0.44162437 0.16598985]\n",
      " [0.01015228 0.46700508 0.16040609]\n",
      " [0.         0.47715736 0.        ]\n",
      " [0.02030457 0.69543147 0.15837563]\n",
      " [0.         0.66497462 0.16040609]\n",
      " [0.00507614 0.40101523 0.16243655]\n",
      " [0.02030457 0.63451777 0.14670051]\n",
      " [0.01015228 0.65482234 0.14213198]\n",
      " [0.         0.70050761 0.18426396]\n",
      " [0.03045685 0.98477157 0.11928934]\n",
      " [0.02030457 0.50253807 0.16649746]\n",
      " [0.03553299 0.31472081 0.16548223]\n",
      " [0.02030457 0.71573604 0.14010152]\n",
      " [0.01522843 0.57360406 0.11370558]\n",
      " [0.04060914 0.99492386 0.19035533]\n",
      " [0.02030457 0.62436548 0.16243655]\n",
      " [0.01522843 0.50761421 0.16040609]\n",
      " [0.03553299 0.74619289 0.2       ]\n",
      " [0.01522843 0.8680203  0.16903553]\n",
      " [0.02030457 0.93401015 0.18781726]\n",
      " [0.00507614 0.97969543 0.13147208]\n",
      " [0.01015228 0.73096447 0.16040609]\n",
      " [0.00507614 0.49238579 0.1177665 ]\n",
      " [0.00507614 0.55329949 0.12893401]\n",
      " [0.06598985 0.73604061 0.11269036]\n",
      " [0.06091371 0.7106599  0.18984772]\n",
      " [0.02538071 0.74619289 0.15177665]\n",
      " [0.00507614 0.59898477 0.16903553]\n",
      " [0.02030457 0.43147208 0.14111675]\n",
      " [0.00507614 0.48730964 0.16852792]\n",
      " [0.02030457 0.80203046 0.16700508]\n",
      " [0.01015228 0.54822335 0.13705584]\n",
      " [0.00507614 0.57360406 0.17055838]\n",
      " [0.         0.89847716 0.17563452]\n",
      " [0.02030457 0.61928934 0.17766497]\n",
      " [0.07106599 0.50761421 0.1857868 ]\n",
      " [0.01015228 0.56852792 0.12690355]\n",
      " [0.01522843 0.58375635 0.19340102]\n",
      " [0.         0.66497462 0.17411168]\n",
      " [0.03045685 0.78172589 0.23401015]\n",
      " [0.01522843 0.97969543 0.17715736]\n",
      " [0.         0.68527919 0.21472081]\n",
      " [0.01015228 0.55837563 0.16446701]\n",
      " [0.01015228 0.64974619 0.20304569]\n",
      " [0.02538071 0.50253807 0.14720812]\n",
      " [0.00507614 0.40101523 0.22081218]\n",
      " [0.00507614 0.         0.12538071]\n",
      " [0.02538071 0.80203046 0.2       ]\n",
      " [0.04568528 0.62436548 0.1680203 ]\n",
      " [0.         0.42639594 0.19390863]\n",
      " [0.02538071 0.43147208 0.14720812]\n",
      " [0.04060914 0.90862944 0.16598985]\n",
      " [0.02030457 0.46192893 0.1680203 ]\n",
      " [0.00507614 0.73096447 0.20964467]]\n",
      "[0 0 0 1 0 0 1 0 0 0 0 0 0 0 1 1 0 0 0 1 0 1 0 0 0 1 0 0 1 0 0 0 0 0 0 1 0\n",
      " 0 1 1 0 0 0 1 1 0 1 1 0 0 1 0 1 1 1 1 0 0 0 0 0 0 1 0 1 0 0 0 0 0 1 0 1 0\n",
      " 1 1 0 0 0 0 1 0 0 1 1 1 0 1 0 0 0 0 0 0 0 0 1 1 1 1 0 1 0 0 1 0 1 1 0 0 0\n",
      " 0 0 1 0 0 1 1 0 0]\n"
     ]
    }
   ],
   "source": [
    "#Display test set\n",
    "print(X_test)\n",
    "print(y_test)"
   ]
  },
  {
   "cell_type": "markdown",
   "id": "46a67119",
   "metadata": {},
   "source": [
    "## KNN Algorithm Modelling"
   ]
  },
  {
   "cell_type": "markdown",
   "id": "9e50c0c0",
   "metadata": {},
   "source": [
    "For the model, I used a class called KNN which will take care of the algorithm needed to predict a class using KNN algorithm. To use it, we just need to instantiate an object for the class KNN while passing 'k' as an argument"
   ]
  },
  {
   "cell_type": "code",
   "execution_count": 24,
   "id": "4ff1e9b0",
   "metadata": {},
   "outputs": [],
   "source": [
    "class KNN:\n",
    "    def __init__(self, k):\n",
    "        self.k = k\n",
    "        \n",
    "    def fit(self, X, y):\n",
    "        self.X_train = X\n",
    "        self.y_train = y\n",
    "        \n",
    "    def distance(self, X1, X2):\n",
    "        distance = scipy.spatial.distance.euclidean(X1, X2) #Calculate distance using euclidean distance\n",
    "        return distance\n",
    "    \n",
    "    def predict(self, X_test):\n",
    "        final_output = []\n",
    "        for i in range(len(X_test)):\n",
    "            d = []\n",
    "            votes = []\n",
    "            for j in range(len(X_train)):\n",
    "                dist = self.distance(X_train[j] , X_test[i])\n",
    "                d.append([dist, j])\n",
    "            d.sort()\n",
    "            d = d[0:self.k]\n",
    "            for d, j in d:\n",
    "                votes.append(y_train[j])\n",
    "            ans = max(votes, key = votes.count) #Return most common class in votes\n",
    "            final_output.append(ans)\n",
    "        return final_output"
   ]
  },
  {
   "cell_type": "markdown",
   "id": "ef4fac81",
   "metadata": {},
   "source": [
    "## 1d. Determining the k-optimal using number of k values VS error/accuracy"
   ]
  },
  {
   "cell_type": "code",
   "execution_count": 25,
   "id": "dc95b0c8",
   "metadata": {},
   "outputs": [],
   "source": [
    "def accuracy_score(y_true, y_pred):\n",
    "    return np.sum(np.equal(y_true, y_pred)) / len(y_true)"
   ]
  },
  {
   "cell_type": "code",
   "execution_count": 26,
   "id": "dc3f4223",
   "metadata": {},
   "outputs": [
    {
     "data": {
      "image/png": "[encoded data removed]",
      "text/plain": [
       "<Figure size 576x432 with 1 Axes>"
      ]
     },
     "metadata": {
      "needs_background": "light"
     },
     "output_type": "display_data"
    }
   ],
   "source": [
    "# Obtain accuracy score for k from 1 to 29\n",
    "accuracies = []\n",
    "for k in range(1,30):\n",
    "    clf = KNN(k)\n",
    "    clf.fit(X_train, y_train)\n",
    "    y_hat_test = clf.predict(X_test)\n",
    "    accuracies.append(accuracy_score(y_test, y_hat_test))\n",
    "# Plot the results \n",
    "fig, ax = plt.subplots(figsize=(8,6))\n",
    "ax.plot(range(1,30), accuracies)\n",
    "ax.set_xlabel('# of Nearest Neighbors (k)')\n",
    "ax.set_ylabel('Accuracy (%)');"
   ]
  },
  {
   "cell_type": "code",
   "execution_count": 27,
   "id": "b403b0c2",
   "metadata": {},
   "outputs": [
    {
     "data": {
      "text/plain": [
       "0.8083333333333333"
      ]
     },
     "execution_count": 27,
     "metadata": {},
     "output_type": "execute_result"
    }
   ],
   "source": [
    "accuracies[19]"
   ]
  },
  {
   "cell_type": "markdown",
   "id": "c814b718",
   "metadata": {},
   "source": [
    "From the graph above, we can see that the accuracy peaked (over 80%) when k is 20. That means the value of k-optimal is 20"
   ]
  },
  {
   "cell_type": "markdown",
   "id": "05a933a7",
   "metadata": {},
   "source": [
    "## 1e. Evaluate Model using accuracy, precision, and recall"
   ]
  },
  {
   "cell_type": "code",
   "execution_count": 28,
   "id": "12b818bd",
   "metadata": {},
   "outputs": [],
   "source": [
    "def evaluate_model(y_true, y_pred):\n",
    "    matrix = np.zeros((2,2)) #Create matrix for the confusion matrix\n",
    "    for i in range(len(y_true)):\n",
    "        if y_pred[i] == 1 and y_true[i] == 1: \n",
    "            matrix[0,0] += 1 #Increment true positive\n",
    "        elif y_pred[i] == 1 and y_true[i] == 0: \n",
    "            matrix[0,1] += 1 #Increment false positive\n",
    "        elif y_pred[i] == 0 and y_true[i] == 0: \n",
    "            matrix[1,1] += 1 #Increment true negative\n",
    "        elif y_pred[i] == 0 and y_true[i] == 1: \n",
    "            matrix[1,0] += 1 #Increment false negative\n",
    "    #Set variable\n",
    "    TP = matrix[0,0]\n",
    "    FP = matrix[0,1]\n",
    "    TN = matrix[1,1]\n",
    "    FN = matrix[1,0]\n",
    "    #Rebuild confusion matrix\n",
    "    matrix = np.array([[TP,FP],[FN,TN]])\n",
    "    #Calculate accuracy, precision, and recall using confusion matrix\n",
    "    acc = (TP + TN) / (TP + TN + FP + FN)\n",
    "    prec = TP / (TP + FP)\n",
    "    rec = TP / (TP + FN)\n",
    "    #Display accuracy, precision, and recall\n",
    "    print(\"Accuracy score: \")\n",
    "    print(acc)\n",
    "    print(\"Precision score: \")\n",
    "    print(prec)\n",
    "    print(\"Recall score: \")\n",
    "    print(rec)\n",
    "    return matrix #This function will return the matrix that will be used to build confusion matrix"
   ]
  },
  {
   "cell_type": "code",
   "execution_count": 29,
   "id": "51d13e72",
   "metadata": {},
   "outputs": [
    {
     "name": "stdout",
     "output_type": "stream",
     "text": [
      "Accuracy score: \n",
      "0.8083333333333333\n",
      "Precision score: \n",
      "0.8064516129032258\n",
      "Recall score: \n",
      "0.5952380952380952\n"
     ]
    }
   ],
   "source": [
    "#Build KNN model using k = 20 and evaluate the model\n",
    "clf = KNN(20)\n",
    "clf.fit(X_train, y_train)\n",
    "prediction = clf.predict(X_test)\n",
    "conf_mtx = evaluate_model(y_test, prediction)"
   ]
  },
  {
   "cell_type": "markdown",
   "id": "e8692b02",
   "metadata": {},
   "source": [
    "## 1f. Build confusion matrix"
   ]
  },
  {
   "cell_type": "code",
   "execution_count": 30,
   "id": "446e9495",
   "metadata": {},
   "outputs": [
    {
     "name": "stdout",
     "output_type": "stream",
     "text": [
      "[[25.  6.]\n",
      " [17. 72.]]\n"
     ]
    }
   ],
   "source": [
    "print(conf_mtx) #Confusion matrix after calling the evaluate_model() function"
   ]
  },
  {
   "cell_type": "code",
   "execution_count": 31,
   "id": "3f463aca",
   "metadata": {},
   "outputs": [
    {
     "data": {
      "text/plain": [
       "Text(0.5, 1.0, 'Model Confusion Matrix')"
      ]
     },
     "execution_count": 31,
     "metadata": {},
     "output_type": "execute_result"
    },
    {
     "data": {
      "image/png": "[encoded data removed]",
      "text/plain": [
       "<Figure size 432x288 with 2 Axes>"
      ]
     },
     "metadata": {
      "needs_background": "light"
     },
     "output_type": "display_data"
    }
   ],
   "source": [
    "#Visualizing confusion matrix\n",
    "cm_matrix_vis = pd.DataFrame(data=conf_mtx, columns=['Actual Positive:1', 'Actual Negative:0'], \n",
    "                                     index=['Predict Positive:1', 'Predict Negative:0'])\n",
    "g = sns.heatmap(cm_matrix_vis, annot=True, cmap='YlGnBu')\n",
    "plt.title('Model Confusion Matrix', fontsize=20)"
   ]
  }
 ],
 "metadata": {
  "kernelspec": {
   "display_name": "Python 3 (ipykernel)",
   "language": "python",
   "name": "python3"
  },
  "language_info": {
   "codemirror_mode": {
    "name": "ipython",
    "version": 3
   },
   "file_extension": ".py",
   "mimetype": "text/x-python",
   "name": "python",
   "nbconvert_exporter": "python",
   "pygments_lexer": "ipython3",
   "version": "3.9.7"
  }
 },
 "nbformat": 4,
 "nbformat_minor": 5
}
